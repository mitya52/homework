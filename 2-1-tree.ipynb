{
 "cells": [
  {
   "cell_type": "markdown",
   "metadata": {},
   "source": [
    "# Титаник. Кто выживет?"
   ]
  },
  {
   "cell_type": "markdown",
   "metadata": {},
   "source": [
    "https://www.kaggle.com/c/titanic/"
   ]
  },
  {
   "cell_type": "code",
   "execution_count": 447,
   "metadata": {
    "collapsed": true
   },
   "outputs": [],
   "source": [
    "import numpy as np\n",
    "import pandas as pd"
   ]
  },
  {
   "cell_type": "code",
   "execution_count": 448,
   "metadata": {
    "collapsed": true
   },
   "outputs": [],
   "source": [
    "from matplotlib import pyplot as plt\n",
    "%matplotlib inline\n",
    "import seaborn as sns\n",
    "\n",
    "%config InlineBackend.figure_format = 'retina'\n",
    "from pylab import rcParams\n",
    "rcParams['figure.figsize'] = (9, 6)"
   ]
  },
  {
   "cell_type": "markdown",
   "metadata": {},
   "source": [
    "### Данные"
   ]
  },
  {
   "cell_type": "code",
   "execution_count": 449,
   "metadata": {
    "collapsed": true
   },
   "outputs": [],
   "source": [
    "train = pd.read_csv('titanic/train.csv')\n",
    "test = pd.read_csv('titanic/test.csv')"
   ]
  },
  {
   "cell_type": "markdown",
   "metadata": {},
   "source": [
    "### Фичи"
   ]
  },
  {
   "cell_type": "markdown",
   "metadata": {},
   "source": [
    "чтобы одинаковым образом обработать train и test и не дублировать все операции 2 раза, соединим эти два набора данных в один, не забыв при этом:\n",
    "1. выкинуть целевую переменную из train\n",
    "2. проверить на соответствие набора признаков друг другу\n",
    "3. добавить флаг того, является ли объект тестовым или нет"
   ]
  },
  {
   "cell_type": "code",
   "execution_count": 450,
   "metadata": {
    "collapsed": true
   },
   "outputs": [],
   "source": [
    "y_train = train.Survived\n",
    "train.drop('Survived', axis=1, inplace=True)"
   ]
  },
  {
   "cell_type": "code",
   "execution_count": 451,
   "metadata": {},
   "outputs": [
    {
     "data": {
      "text/plain": [
       "array([ True,  True,  True,  True,  True,  True,  True,  True,  True,\n",
       "        True,  True], dtype=bool)"
      ]
     },
     "execution_count": 451,
     "metadata": {},
     "output_type": "execute_result"
    }
   ],
   "source": [
    "train.columns == test.columns"
   ]
  },
  {
   "cell_type": "code",
   "execution_count": 452,
   "metadata": {
    "collapsed": true
   },
   "outputs": [],
   "source": [
    "train['is_test'] = 0\n",
    "test['is_test'] = 1"
   ]
  },
  {
   "cell_type": "code",
   "execution_count": 453,
   "metadata": {},
   "outputs": [
    {
     "data": {
      "text/html": [
       "<div>\n",
       "<style>\n",
       "    .dataframe thead tr:only-child th {\n",
       "        text-align: right;\n",
       "    }\n",
       "\n",
       "    .dataframe thead th {\n",
       "        text-align: left;\n",
       "    }\n",
       "\n",
       "    .dataframe tbody tr th {\n",
       "        vertical-align: top;\n",
       "    }\n",
       "</style>\n",
       "<table border=\"1\" class=\"dataframe\">\n",
       "  <thead>\n",
       "    <tr style=\"text-align: right;\">\n",
       "      <th></th>\n",
       "      <th>PassengerId</th>\n",
       "      <th>Pclass</th>\n",
       "      <th>Name</th>\n",
       "      <th>Sex</th>\n",
       "      <th>Age</th>\n",
       "      <th>SibSp</th>\n",
       "      <th>Parch</th>\n",
       "      <th>Ticket</th>\n",
       "      <th>Fare</th>\n",
       "      <th>Cabin</th>\n",
       "      <th>Embarked</th>\n",
       "      <th>is_test</th>\n",
       "    </tr>\n",
       "  </thead>\n",
       "  <tbody>\n",
       "    <tr>\n",
       "      <th>0</th>\n",
       "      <td>1</td>\n",
       "      <td>3</td>\n",
       "      <td>Braund, Mr. Owen Harris</td>\n",
       "      <td>male</td>\n",
       "      <td>22.0</td>\n",
       "      <td>1</td>\n",
       "      <td>0</td>\n",
       "      <td>A/5 21171</td>\n",
       "      <td>7.2500</td>\n",
       "      <td>NaN</td>\n",
       "      <td>S</td>\n",
       "      <td>0</td>\n",
       "    </tr>\n",
       "    <tr>\n",
       "      <th>1</th>\n",
       "      <td>2</td>\n",
       "      <td>1</td>\n",
       "      <td>Cumings, Mrs. John Bradley (Florence Briggs Th...</td>\n",
       "      <td>female</td>\n",
       "      <td>38.0</td>\n",
       "      <td>1</td>\n",
       "      <td>0</td>\n",
       "      <td>PC 17599</td>\n",
       "      <td>71.2833</td>\n",
       "      <td>C85</td>\n",
       "      <td>C</td>\n",
       "      <td>0</td>\n",
       "    </tr>\n",
       "    <tr>\n",
       "      <th>2</th>\n",
       "      <td>3</td>\n",
       "      <td>3</td>\n",
       "      <td>Heikkinen, Miss. Laina</td>\n",
       "      <td>female</td>\n",
       "      <td>26.0</td>\n",
       "      <td>0</td>\n",
       "      <td>0</td>\n",
       "      <td>STON/O2. 3101282</td>\n",
       "      <td>7.9250</td>\n",
       "      <td>NaN</td>\n",
       "      <td>S</td>\n",
       "      <td>0</td>\n",
       "    </tr>\n",
       "    <tr>\n",
       "      <th>3</th>\n",
       "      <td>4</td>\n",
       "      <td>1</td>\n",
       "      <td>Futrelle, Mrs. Jacques Heath (Lily May Peel)</td>\n",
       "      <td>female</td>\n",
       "      <td>35.0</td>\n",
       "      <td>1</td>\n",
       "      <td>0</td>\n",
       "      <td>113803</td>\n",
       "      <td>53.1000</td>\n",
       "      <td>C123</td>\n",
       "      <td>S</td>\n",
       "      <td>0</td>\n",
       "    </tr>\n",
       "    <tr>\n",
       "      <th>4</th>\n",
       "      <td>5</td>\n",
       "      <td>3</td>\n",
       "      <td>Allen, Mr. William Henry</td>\n",
       "      <td>male</td>\n",
       "      <td>35.0</td>\n",
       "      <td>0</td>\n",
       "      <td>0</td>\n",
       "      <td>373450</td>\n",
       "      <td>8.0500</td>\n",
       "      <td>NaN</td>\n",
       "      <td>S</td>\n",
       "      <td>0</td>\n",
       "    </tr>\n",
       "    <tr>\n",
       "      <th>5</th>\n",
       "      <td>6</td>\n",
       "      <td>3</td>\n",
       "      <td>Moran, Mr. James</td>\n",
       "      <td>male</td>\n",
       "      <td>NaN</td>\n",
       "      <td>0</td>\n",
       "      <td>0</td>\n",
       "      <td>330877</td>\n",
       "      <td>8.4583</td>\n",
       "      <td>NaN</td>\n",
       "      <td>Q</td>\n",
       "      <td>0</td>\n",
       "    </tr>\n",
       "    <tr>\n",
       "      <th>6</th>\n",
       "      <td>7</td>\n",
       "      <td>1</td>\n",
       "      <td>McCarthy, Mr. Timothy J</td>\n",
       "      <td>male</td>\n",
       "      <td>54.0</td>\n",
       "      <td>0</td>\n",
       "      <td>0</td>\n",
       "      <td>17463</td>\n",
       "      <td>51.8625</td>\n",
       "      <td>E46</td>\n",
       "      <td>S</td>\n",
       "      <td>0</td>\n",
       "    </tr>\n",
       "    <tr>\n",
       "      <th>7</th>\n",
       "      <td>8</td>\n",
       "      <td>3</td>\n",
       "      <td>Palsson, Master. Gosta Leonard</td>\n",
       "      <td>male</td>\n",
       "      <td>2.0</td>\n",
       "      <td>3</td>\n",
       "      <td>1</td>\n",
       "      <td>349909</td>\n",
       "      <td>21.0750</td>\n",
       "      <td>NaN</td>\n",
       "      <td>S</td>\n",
       "      <td>0</td>\n",
       "    </tr>\n",
       "    <tr>\n",
       "      <th>8</th>\n",
       "      <td>9</td>\n",
       "      <td>3</td>\n",
       "      <td>Johnson, Mrs. Oscar W (Elisabeth Vilhelmina Berg)</td>\n",
       "      <td>female</td>\n",
       "      <td>27.0</td>\n",
       "      <td>0</td>\n",
       "      <td>2</td>\n",
       "      <td>347742</td>\n",
       "      <td>11.1333</td>\n",
       "      <td>NaN</td>\n",
       "      <td>S</td>\n",
       "      <td>0</td>\n",
       "    </tr>\n",
       "    <tr>\n",
       "      <th>9</th>\n",
       "      <td>10</td>\n",
       "      <td>2</td>\n",
       "      <td>Nasser, Mrs. Nicholas (Adele Achem)</td>\n",
       "      <td>female</td>\n",
       "      <td>14.0</td>\n",
       "      <td>1</td>\n",
       "      <td>0</td>\n",
       "      <td>237736</td>\n",
       "      <td>30.0708</td>\n",
       "      <td>NaN</td>\n",
       "      <td>C</td>\n",
       "      <td>0</td>\n",
       "    </tr>\n",
       "  </tbody>\n",
       "</table>\n",
       "</div>"
      ],
      "text/plain": [
       "   PassengerId  Pclass                                               Name  \\\n",
       "0            1       3                            Braund, Mr. Owen Harris   \n",
       "1            2       1  Cumings, Mrs. John Bradley (Florence Briggs Th...   \n",
       "2            3       3                             Heikkinen, Miss. Laina   \n",
       "3            4       1       Futrelle, Mrs. Jacques Heath (Lily May Peel)   \n",
       "4            5       3                           Allen, Mr. William Henry   \n",
       "5            6       3                                   Moran, Mr. James   \n",
       "6            7       1                            McCarthy, Mr. Timothy J   \n",
       "7            8       3                     Palsson, Master. Gosta Leonard   \n",
       "8            9       3  Johnson, Mrs. Oscar W (Elisabeth Vilhelmina Berg)   \n",
       "9           10       2                Nasser, Mrs. Nicholas (Adele Achem)   \n",
       "\n",
       "      Sex   Age  SibSp  Parch            Ticket     Fare Cabin Embarked  \\\n",
       "0    male  22.0      1      0         A/5 21171   7.2500   NaN        S   \n",
       "1  female  38.0      1      0          PC 17599  71.2833   C85        C   \n",
       "2  female  26.0      0      0  STON/O2. 3101282   7.9250   NaN        S   \n",
       "3  female  35.0      1      0            113803  53.1000  C123        S   \n",
       "4    male  35.0      0      0            373450   8.0500   NaN        S   \n",
       "5    male   NaN      0      0            330877   8.4583   NaN        Q   \n",
       "6    male  54.0      0      0             17463  51.8625   E46        S   \n",
       "7    male   2.0      3      1            349909  21.0750   NaN        S   \n",
       "8  female  27.0      0      2            347742  11.1333   NaN        S   \n",
       "9  female  14.0      1      0            237736  30.0708   NaN        C   \n",
       "\n",
       "   is_test  \n",
       "0        0  \n",
       "1        0  \n",
       "2        0  \n",
       "3        0  \n",
       "4        0  \n",
       "5        0  \n",
       "6        0  \n",
       "7        0  \n",
       "8        0  \n",
       "9        0  "
      ]
     },
     "execution_count": 453,
     "metadata": {},
     "output_type": "execute_result"
    }
   ],
   "source": [
    "df = pd.concat([train, test])\n",
    "df.head(10)"
   ]
  },
  {
   "cell_type": "markdown",
   "metadata": {},
   "source": [
    "супер, теперь полный набор данных можно обрабатывать вместе и в любой момент, уже обработанными, обратно разъединить на обучающую и тестовую выборки"
   ]
  },
  {
   "cell_type": "markdown",
   "metadata": {},
   "source": [
    "Пол male/female закодируем в 1/0 и удалим переменные, с которыми мы не будем сейчас работать"
   ]
  },
  {
   "cell_type": "code",
   "execution_count": 454,
   "metadata": {
    "collapsed": true
   },
   "outputs": [],
   "source": [
    "df[\"isMale\"] = df.Sex.replace({\"male\": 1, \"female\":0})\n",
    "#df[\"NameLen\"] = df.Name.apply(lambda s: len(s.split(\" \")))\n",
    "df.drop([\"Sex\", \"Cabin\", \"Ticket\", \"Name\", \"PassengerId\"], axis=1, inplace=True)"
   ]
  },
  {
   "cell_type": "markdown",
   "metadata": {},
   "source": [
    "признаки, значения которых составляют небольшой перечислимый набор, закодируем в отдельные столбцы "
   ]
  },
  {
   "cell_type": "code",
   "execution_count": 455,
   "metadata": {
    "collapsed": true
   },
   "outputs": [],
   "source": [
    "df_dummies = pd.get_dummies(df, columns=['Pclass', 'Embarked']) #, 'NameLen'])"
   ]
  },
  {
   "cell_type": "code",
   "execution_count": 456,
   "metadata": {},
   "outputs": [
    {
     "data": {
      "text/plain": [
       "Age           263\n",
       "SibSp           0\n",
       "Parch           0\n",
       "Fare            1\n",
       "is_test         0\n",
       "isMale          0\n",
       "Pclass_1        0\n",
       "Pclass_2        0\n",
       "Pclass_3        0\n",
       "Embarked_C      0\n",
       "Embarked_Q      0\n",
       "Embarked_S      0\n",
       "dtype: int64"
      ]
     },
     "execution_count": 456,
     "metadata": {},
     "output_type": "execute_result"
    }
   ],
   "source": [
    "df_dummies.isnull().sum()"
   ]
  },
  {
   "cell_type": "code",
   "execution_count": 457,
   "metadata": {
    "collapsed": true
   },
   "outputs": [],
   "source": [
    "X_train = df_dummies[df_dummies.is_test==0].drop('is_test', axis=1)\n",
    "X_test = df_dummies[df_dummies.is_test==1].drop('is_test', axis=1)"
   ]
  },
  {
   "cell_type": "code",
   "execution_count": 458,
   "metadata": {},
   "outputs": [
    {
     "data": {
      "text/plain": [
       "Index(['Age', 'SibSp', 'Parch', 'Fare', 'isMale', 'Pclass_1', 'Pclass_2',\n",
       "       'Pclass_3', 'Embarked_C', 'Embarked_Q', 'Embarked_S'],\n",
       "      dtype='object')"
      ]
     },
     "execution_count": 458,
     "metadata": {},
     "output_type": "execute_result"
    }
   ],
   "source": [
    "columns = X_train.columns\n",
    "columns"
   ]
  },
  {
   "cell_type": "markdown",
   "metadata": {},
   "source": [
    "### Заполнение пустых значений"
   ]
  },
  {
   "cell_type": "markdown",
   "metadata": {},
   "source": [
    "заполним пустые значения средними по соответственным признакам"
   ]
  },
  {
   "cell_type": "code",
   "execution_count": 459,
   "metadata": {
    "collapsed": true
   },
   "outputs": [],
   "source": [
    "from sklearn.preprocessing import Imputer"
   ]
  },
  {
   "cell_type": "code",
   "execution_count": 460,
   "metadata": {
    "collapsed": true
   },
   "outputs": [],
   "source": [
    "imputer = Imputer(missing_values='NaN', strategy='mean', axis=0, verbose=0, copy=True)"
   ]
  },
  {
   "cell_type": "code",
   "execution_count": 461,
   "metadata": {
    "scrolled": true
   },
   "outputs": [
    {
     "data": {
      "text/plain": [
       "Imputer(axis=0, copy=True, missing_values='NaN', strategy='mean', verbose=0)"
      ]
     },
     "execution_count": 461,
     "metadata": {},
     "output_type": "execute_result"
    }
   ],
   "source": [
    "imputer.fit(X_train)"
   ]
  },
  {
   "cell_type": "code",
   "execution_count": 462,
   "metadata": {
    "collapsed": true
   },
   "outputs": [],
   "source": [
    "X_train_imputed = imputer.transform(X_train)\n",
    "X_train_imputed = pd.DataFrame(X_train_imputed, columns=columns)"
   ]
  },
  {
   "cell_type": "markdown",
   "metadata": {},
   "source": [
    "### Нормировка значений"
   ]
  },
  {
   "cell_type": "code",
   "execution_count": 463,
   "metadata": {
    "collapsed": true
   },
   "outputs": [],
   "source": [
    "from sklearn.preprocessing import StandardScaler"
   ]
  },
  {
   "cell_type": "code",
   "execution_count": 464,
   "metadata": {
    "collapsed": true
   },
   "outputs": [],
   "source": [
    "scaler = StandardScaler()"
   ]
  },
  {
   "cell_type": "code",
   "execution_count": 465,
   "metadata": {},
   "outputs": [
    {
     "data": {
      "text/plain": [
       "StandardScaler(copy=True, with_mean=True, with_std=True)"
      ]
     },
     "execution_count": 465,
     "metadata": {},
     "output_type": "execute_result"
    }
   ],
   "source": [
    "scaler.fit(X_train_imputed)"
   ]
  },
  {
   "cell_type": "code",
   "execution_count": 501,
   "metadata": {
    "collapsed": true
   },
   "outputs": [],
   "source": [
    "X_train_imputed_scaled = scaler.transform(X_train_imputed)\n",
    "X_train_imputed_scaled = pd.DataFrame(X_train_imputed_scaled, columns=columns)"
   ]
  },
  {
   "cell_type": "code",
   "execution_count": 504,
   "metadata": {
    "collapsed": true
   },
   "outputs": [],
   "source": [
    "X_test_imputed = imputer.transform(X_test)\n",
    "X_test_imputed_scaled = scaler.transform(X_test_imputed)"
   ]
  },
  {
   "cell_type": "markdown",
   "metadata": {},
   "source": [
    "### Разделение на обучающую и тестирующую выборки"
   ]
  },
  {
   "cell_type": "code",
   "execution_count": 505,
   "metadata": {
    "collapsed": true
   },
   "outputs": [],
   "source": [
    "from sklearn.model_selection import train_test_split"
   ]
  },
  {
   "cell_type": "code",
   "execution_count": 506,
   "metadata": {
    "collapsed": true
   },
   "outputs": [],
   "source": [
    "X_train_fin, X_val, y_train_fin, y_val = train_test_split(X_train_imputed_scaled, y_train, test_size=0.2)"
   ]
  },
  {
   "cell_type": "markdown",
   "metadata": {},
   "source": [
    "### Обучение с кросс-валидацией"
   ]
  },
  {
   "cell_type": "markdown",
   "metadata": {},
   "source": [
    "кросс-валидация поможет нам подобрать лучший параметр регуляризации"
   ]
  },
  {
   "cell_type": "code",
   "execution_count": 470,
   "metadata": {
    "collapsed": true
   },
   "outputs": [],
   "source": [
    "from sklearn.model_selection import GridSearchCV\n",
    "from sklearn.tree import DecisionTreeClassifier"
   ]
  },
  {
   "cell_type": "code",
   "execution_count": 471,
   "metadata": {
    "collapsed": true
   },
   "outputs": [],
   "source": [
    "grid = {\n",
    "    'criterion': ['entropy'],\n",
    "    'min_samples_leaf': [x for x in range(1, 20)],\n",
    "    'max_depth': [x for x in range(1, 15)],\n",
    "    'max_leaf_nodes': [10*x for x in range(1, 10)],\n",
    "    'max_features': [None],\n",
    "    'presort': [False],\n",
    "    'class_weight': [None]\n",
    "}\n",
    "gridsearch = GridSearchCV(DecisionTreeClassifier(), grid, scoring='accuracy', cv=7, n_jobs=-1)"
   ]
  },
  {
   "cell_type": "code",
   "execution_count": 472,
   "metadata": {
    "scrolled": false
   },
   "outputs": [
    {
     "name": "stdout",
     "output_type": "stream",
     "text": [
      "Wall time: 1min 30s\n"
     ]
    },
    {
     "data": {
      "text/plain": [
       "GridSearchCV(cv=7, error_score='raise',\n",
       "       estimator=DecisionTreeClassifier(class_weight=None, criterion='gini', max_depth=None,\n",
       "            max_features=None, max_leaf_nodes=None,\n",
       "            min_impurity_split=1e-07, min_samples_leaf=1,\n",
       "            min_samples_split=2, min_weight_fraction_leaf=0.0,\n",
       "            presort=False, random_state=None, splitter='best'),\n",
       "       fit_params={}, iid=True, n_jobs=-1,\n",
       "       param_grid={'criterion': ['entropy'], 'min_samples_leaf': [1, 2, 3, 4, 5, 6, 7, 8, 9, 10, 11, 12, 13, 14, 15, 16, 17, 18, 19], 'max_depth': [1, 2, 3, 4, 5, 6, 7, 8, 9, 10, 11, 12, 13, 14], 'max_leaf_nodes': [10, 20, 30, 40, 50, 60, 70, 80, 90], 'max_features': [None], 'presort': [False], 'class_weight': [None]},\n",
       "       pre_dispatch='2*n_jobs', refit=True, return_train_score=True,\n",
       "       scoring='accuracy', verbose=0)"
      ]
     },
     "execution_count": 472,
     "metadata": {},
     "output_type": "execute_result"
    }
   ],
   "source": [
    "%%time\n",
    "gridsearch.fit(X_train_imputed_scaled, y_train)"
   ]
  },
  {
   "cell_type": "code",
   "execution_count": 473,
   "metadata": {},
   "outputs": [
    {
     "name": "stderr",
     "output_type": "stream",
     "text": [
      "C:\\anaconda\\lib\\site-packages\\sklearn\\model_selection\\_search.py:667: DeprecationWarning: The grid_scores_ attribute was deprecated in version 0.18 in favor of the more elaborate cv_results_ attribute. The grid_scores_ attribute will not be available from 0.20\n",
      "  DeprecationWarning)\n"
     ]
    },
    {
     "data": {
      "text/plain": [
       "[mean: 0.83053, std: 0.03036, params: {'class_weight': None, 'criterion': 'entropy', 'max_depth': 6, 'max_features': None, 'max_leaf_nodes': 60, 'min_samples_leaf': 10, 'presort': False},\n",
       " mean: 0.83053, std: 0.03036, params: {'class_weight': None, 'criterion': 'entropy', 'max_depth': 6, 'max_features': None, 'max_leaf_nodes': 70, 'min_samples_leaf': 10, 'presort': False},\n",
       " mean: 0.83053, std: 0.03036, params: {'class_weight': None, 'criterion': 'entropy', 'max_depth': 6, 'max_features': None, 'max_leaf_nodes': 80, 'min_samples_leaf': 10, 'presort': False},\n",
       " mean: 0.83053, std: 0.03738, params: {'class_weight': None, 'criterion': 'entropy', 'max_depth': 7, 'max_features': None, 'max_leaf_nodes': 30, 'min_samples_leaf': 7, 'presort': False},\n",
       " mean: 0.83053, std: 0.03323, params: {'class_weight': None, 'criterion': 'entropy', 'max_depth': 7, 'max_features': None, 'max_leaf_nodes': 30, 'min_samples_leaf': 9, 'presort': False},\n",
       " mean: 0.83053, std: 0.03166, params: {'class_weight': None, 'criterion': 'entropy', 'max_depth': 8, 'max_features': None, 'max_leaf_nodes': 50, 'min_samples_leaf': 10, 'presort': False},\n",
       " mean: 0.83053, std: 0.03166, params: {'class_weight': None, 'criterion': 'entropy', 'max_depth': 8, 'max_features': None, 'max_leaf_nodes': 70, 'min_samples_leaf': 10, 'presort': False},\n",
       " mean: 0.82941, std: 0.03204, params: {'class_weight': None, 'criterion': 'entropy', 'max_depth': 6, 'max_features': None, 'max_leaf_nodes': 40, 'min_samples_leaf': 10, 'presort': False},\n",
       " mean: 0.82941, std: 0.03204, params: {'class_weight': None, 'criterion': 'entropy', 'max_depth': 6, 'max_features': None, 'max_leaf_nodes': 50, 'min_samples_leaf': 10, 'presort': False},\n",
       " mean: 0.82941, std: 0.03826, params: {'class_weight': None, 'criterion': 'entropy', 'max_depth': 7, 'max_features': None, 'max_leaf_nodes': 30, 'min_samples_leaf': 5, 'presort': False},\n",
       " mean: 0.82941, std: 0.03806, params: {'class_weight': None, 'criterion': 'entropy', 'max_depth': 7, 'max_features': None, 'max_leaf_nodes': 30, 'min_samples_leaf': 8, 'presort': False},\n",
       " mean: 0.82941, std: 0.03264, params: {'class_weight': None, 'criterion': 'entropy', 'max_depth': 8, 'max_features': None, 'max_leaf_nodes': 60, 'min_samples_leaf': 6, 'presort': False},\n",
       " mean: 0.82941, std: 0.03327, params: {'class_weight': None, 'criterion': 'entropy', 'max_depth': 8, 'max_features': None, 'max_leaf_nodes': 80, 'min_samples_leaf': 10, 'presort': False},\n",
       " mean: 0.82941, std: 0.03246, params: {'class_weight': None, 'criterion': 'entropy', 'max_depth': 9, 'max_features': None, 'max_leaf_nodes': 40, 'min_samples_leaf': 10, 'presort': False},\n",
       " mean: 0.82941, std: 0.03803, params: {'class_weight': None, 'criterion': 'entropy', 'max_depth': 10, 'max_features': None, 'max_leaf_nodes': 50, 'min_samples_leaf': 2, 'presort': False},\n",
       " mean: 0.82941, std: 0.03052, params: {'class_weight': None, 'criterion': 'entropy', 'max_depth': 10, 'max_features': None, 'max_leaf_nodes': 50, 'min_samples_leaf': 10, 'presort': False},\n",
       " mean: 0.82941, std: 0.03052, params: {'class_weight': None, 'criterion': 'entropy', 'max_depth': 11, 'max_features': None, 'max_leaf_nodes': 80, 'min_samples_leaf': 10, 'presort': False},\n",
       " mean: 0.82941, std: 0.03052, params: {'class_weight': None, 'criterion': 'entropy', 'max_depth': 12, 'max_features': None, 'max_leaf_nodes': 70, 'min_samples_leaf': 10, 'presort': False},\n",
       " mean: 0.82941, std: 0.03110, params: {'class_weight': None, 'criterion': 'entropy', 'max_depth': 13, 'max_features': None, 'max_leaf_nodes': 40, 'min_samples_leaf': 10, 'presort': False},\n",
       " mean: 0.82941, std: 0.03052, params: {'class_weight': None, 'criterion': 'entropy', 'max_depth': 13, 'max_features': None, 'max_leaf_nodes': 50, 'min_samples_leaf': 10, 'presort': False},\n",
       " mean: 0.82941, std: 0.03052, params: {'class_weight': None, 'criterion': 'entropy', 'max_depth': 13, 'max_features': None, 'max_leaf_nodes': 70, 'min_samples_leaf': 10, 'presort': False},\n",
       " mean: 0.82828, std: 0.03665, params: {'class_weight': None, 'criterion': 'entropy', 'max_depth': 6, 'max_features': None, 'max_leaf_nodes': 40, 'min_samples_leaf': 6, 'presort': False},\n",
       " mean: 0.82828, std: 0.03665, params: {'class_weight': None, 'criterion': 'entropy', 'max_depth': 6, 'max_features': None, 'max_leaf_nodes': 50, 'min_samples_leaf': 6, 'presort': False},\n",
       " mean: 0.82828, std: 0.03665, params: {'class_weight': None, 'criterion': 'entropy', 'max_depth': 6, 'max_features': None, 'max_leaf_nodes': 60, 'min_samples_leaf': 6, 'presort': False},\n",
       " mean: 0.82828, std: 0.03665, params: {'class_weight': None, 'criterion': 'entropy', 'max_depth': 6, 'max_features': None, 'max_leaf_nodes': 70, 'min_samples_leaf': 6, 'presort': False},\n",
       " mean: 0.82828, std: 0.03665, params: {'class_weight': None, 'criterion': 'entropy', 'max_depth': 6, 'max_features': None, 'max_leaf_nodes': 80, 'min_samples_leaf': 6, 'presort': False},\n",
       " mean: 0.82828, std: 0.03665, params: {'class_weight': None, 'criterion': 'entropy', 'max_depth': 6, 'max_features': None, 'max_leaf_nodes': 90, 'min_samples_leaf': 6, 'presort': False},\n",
       " mean: 0.82828, std: 0.04074, params: {'class_weight': None, 'criterion': 'entropy', 'max_depth': 7, 'max_features': None, 'max_leaf_nodes': 40, 'min_samples_leaf': 5, 'presort': False},\n",
       " mean: 0.82828, std: 0.03178, params: {'class_weight': None, 'criterion': 'entropy', 'max_depth': 7, 'max_features': None, 'max_leaf_nodes': 40, 'min_samples_leaf': 6, 'presort': False},\n",
       " mean: 0.82828, std: 0.03406, params: {'class_weight': None, 'criterion': 'entropy', 'max_depth': 7, 'max_features': None, 'max_leaf_nodes': 50, 'min_samples_leaf': 7, 'presort': False},\n",
       " mean: 0.82828, std: 0.03406, params: {'class_weight': None, 'criterion': 'entropy', 'max_depth': 7, 'max_features': None, 'max_leaf_nodes': 60, 'min_samples_leaf': 7, 'presort': False},\n",
       " mean: 0.82828, std: 0.03406, params: {'class_weight': None, 'criterion': 'entropy', 'max_depth': 7, 'max_features': None, 'max_leaf_nodes': 70, 'min_samples_leaf': 7, 'presort': False},\n",
       " mean: 0.82828, std: 0.03406, params: {'class_weight': None, 'criterion': 'entropy', 'max_depth': 7, 'max_features': None, 'max_leaf_nodes': 80, 'min_samples_leaf': 7, 'presort': False},\n",
       " mean: 0.82828, std: 0.03406, params: {'class_weight': None, 'criterion': 'entropy', 'max_depth': 7, 'max_features': None, 'max_leaf_nodes': 90, 'min_samples_leaf': 7, 'presort': False},\n",
       " mean: 0.82828, std: 0.04008, params: {'class_weight': None, 'criterion': 'entropy', 'max_depth': 8, 'max_features': None, 'max_leaf_nodes': 30, 'min_samples_leaf': 5, 'presort': False},\n",
       " mean: 0.82828, std: 0.03512, params: {'class_weight': None, 'criterion': 'entropy', 'max_depth': 8, 'max_features': None, 'max_leaf_nodes': 40, 'min_samples_leaf': 6, 'presort': False},\n",
       " mean: 0.82828, std: 0.03547, params: {'class_weight': None, 'criterion': 'entropy', 'max_depth': 8, 'max_features': None, 'max_leaf_nodes': 40, 'min_samples_leaf': 7, 'presort': False},\n",
       " mean: 0.82828, std: 0.03215, params: {'class_weight': None, 'criterion': 'entropy', 'max_depth': 9, 'max_features': None, 'max_leaf_nodes': 60, 'min_samples_leaf': 10, 'presort': False},\n",
       " mean: 0.82828, std: 0.04123, params: {'class_weight': None, 'criterion': 'entropy', 'max_depth': 10, 'max_features': None, 'max_leaf_nodes': 50, 'min_samples_leaf': 1, 'presort': False},\n",
       " mean: 0.82828, std: 0.03215, params: {'class_weight': None, 'criterion': 'entropy', 'max_depth': 10, 'max_features': None, 'max_leaf_nodes': 70, 'min_samples_leaf': 10, 'presort': False},\n",
       " mean: 0.82828, std: 0.03215, params: {'class_weight': None, 'criterion': 'entropy', 'max_depth': 11, 'max_features': None, 'max_leaf_nodes': 50, 'min_samples_leaf': 10, 'presort': False},\n",
       " mean: 0.82828, std: 0.03215, params: {'class_weight': None, 'criterion': 'entropy', 'max_depth': 12, 'max_features': None, 'max_leaf_nodes': 50, 'min_samples_leaf': 10, 'presort': False},\n",
       " mean: 0.82828, std: 0.03215, params: {'class_weight': None, 'criterion': 'entropy', 'max_depth': 12, 'max_features': None, 'max_leaf_nodes': 60, 'min_samples_leaf': 10, 'presort': False},\n",
       " mean: 0.82828, std: 0.03215, params: {'class_weight': None, 'criterion': 'entropy', 'max_depth': 14, 'max_features': None, 'max_leaf_nodes': 50, 'min_samples_leaf': 10, 'presort': False},\n",
       " mean: 0.82828, std: 0.03215, params: {'class_weight': None, 'criterion': 'entropy', 'max_depth': 14, 'max_features': None, 'max_leaf_nodes': 80, 'min_samples_leaf': 10, 'presort': False},\n",
       " mean: 0.82716, std: 0.03589, params: {'class_weight': None, 'criterion': 'entropy', 'max_depth': 6, 'max_features': None, 'max_leaf_nodes': 30, 'min_samples_leaf': 8, 'presort': False},\n",
       " mean: 0.82716, std: 0.02842, params: {'class_weight': None, 'criterion': 'entropy', 'max_depth': 6, 'max_features': None, 'max_leaf_nodes': 30, 'min_samples_leaf': 10, 'presort': False},\n",
       " mean: 0.82716, std: 0.03629, params: {'class_weight': None, 'criterion': 'entropy', 'max_depth': 6, 'max_features': None, 'max_leaf_nodes': 40, 'min_samples_leaf': 5, 'presort': False},\n",
       " mean: 0.82716, std: 0.03589, params: {'class_weight': None, 'criterion': 'entropy', 'max_depth': 6, 'max_features': None, 'max_leaf_nodes': 40, 'min_samples_leaf': 8, 'presort': False},\n",
       " mean: 0.82716, std: 0.03629, params: {'class_weight': None, 'criterion': 'entropy', 'max_depth': 6, 'max_features': None, 'max_leaf_nodes': 50, 'min_samples_leaf': 5, 'presort': False},\n",
       " mean: 0.82716, std: 0.03589, params: {'class_weight': None, 'criterion': 'entropy', 'max_depth': 6, 'max_features': None, 'max_leaf_nodes': 50, 'min_samples_leaf': 8, 'presort': False},\n",
       " mean: 0.82716, std: 0.03629, params: {'class_weight': None, 'criterion': 'entropy', 'max_depth': 6, 'max_features': None, 'max_leaf_nodes': 60, 'min_samples_leaf': 5, 'presort': False},\n",
       " mean: 0.82716, std: 0.03589, params: {'class_weight': None, 'criterion': 'entropy', 'max_depth': 6, 'max_features': None, 'max_leaf_nodes': 60, 'min_samples_leaf': 8, 'presort': False},\n",
       " mean: 0.82716, std: 0.03629, params: {'class_weight': None, 'criterion': 'entropy', 'max_depth': 6, 'max_features': None, 'max_leaf_nodes': 70, 'min_samples_leaf': 5, 'presort': False},\n",
       " mean: 0.82716, std: 0.03589, params: {'class_weight': None, 'criterion': 'entropy', 'max_depth': 6, 'max_features': None, 'max_leaf_nodes': 70, 'min_samples_leaf': 8, 'presort': False},\n",
       " mean: 0.82716, std: 0.03629, params: {'class_weight': None, 'criterion': 'entropy', 'max_depth': 6, 'max_features': None, 'max_leaf_nodes': 80, 'min_samples_leaf': 5, 'presort': False},\n",
       " mean: 0.82716, std: 0.03589, params: {'class_weight': None, 'criterion': 'entropy', 'max_depth': 6, 'max_features': None, 'max_leaf_nodes': 80, 'min_samples_leaf': 8, 'presort': False},\n",
       " mean: 0.82716, std: 0.03629, params: {'class_weight': None, 'criterion': 'entropy', 'max_depth': 6, 'max_features': None, 'max_leaf_nodes': 90, 'min_samples_leaf': 5, 'presort': False},\n",
       " mean: 0.82716, std: 0.03589, params: {'class_weight': None, 'criterion': 'entropy', 'max_depth': 6, 'max_features': None, 'max_leaf_nodes': 90, 'min_samples_leaf': 8, 'presort': False},\n",
       " mean: 0.82716, std: 0.03922, params: {'class_weight': None, 'criterion': 'entropy', 'max_depth': 7, 'max_features': None, 'max_leaf_nodes': 40, 'min_samples_leaf': 3, 'presort': False},\n",
       " mean: 0.82716, std: 0.03397, params: {'class_weight': None, 'criterion': 'entropy', 'max_depth': 7, 'max_features': None, 'max_leaf_nodes': 40, 'min_samples_leaf': 7, 'presort': False},\n",
       " mean: 0.82716, std: 0.03320, params: {'class_weight': None, 'criterion': 'entropy', 'max_depth': 7, 'max_features': None, 'max_leaf_nodes': 40, 'min_samples_leaf': 8, 'presort': False},\n",
       " mean: 0.82716, std: 0.03083, params: {'class_weight': None, 'criterion': 'entropy', 'max_depth': 7, 'max_features': None, 'max_leaf_nodes': 50, 'min_samples_leaf': 6, 'presort': False},\n",
       " mean: 0.82716, std: 0.03320, params: {'class_weight': None, 'criterion': 'entropy', 'max_depth': 7, 'max_features': None, 'max_leaf_nodes': 50, 'min_samples_leaf': 8, 'presort': False},\n",
       " mean: 0.82716, std: 0.03555, params: {'class_weight': None, 'criterion': 'entropy', 'max_depth': 7, 'max_features': None, 'max_leaf_nodes': 50, 'min_samples_leaf': 10, 'presort': False},\n",
       " mean: 0.82716, std: 0.03083, params: {'class_weight': None, 'criterion': 'entropy', 'max_depth': 7, 'max_features': None, 'max_leaf_nodes': 60, 'min_samples_leaf': 6, 'presort': False},\n",
       " mean: 0.82716, std: 0.03320, params: {'class_weight': None, 'criterion': 'entropy', 'max_depth': 7, 'max_features': None, 'max_leaf_nodes': 60, 'min_samples_leaf': 8, 'presort': False},\n",
       " mean: 0.82716, std: 0.03320, params: {'class_weight': None, 'criterion': 'entropy', 'max_depth': 7, 'max_features': None, 'max_leaf_nodes': 70, 'min_samples_leaf': 8, 'presort': False},\n",
       " mean: 0.82716, std: 0.03555, params: {'class_weight': None, 'criterion': 'entropy', 'max_depth': 7, 'max_features': None, 'max_leaf_nodes': 70, 'min_samples_leaf': 10, 'presort': False},\n",
       " mean: 0.82716, std: 0.03320, params: {'class_weight': None, 'criterion': 'entropy', 'max_depth': 7, 'max_features': None, 'max_leaf_nodes': 80, 'min_samples_leaf': 8, 'presort': False},\n",
       " mean: 0.82716, std: 0.03555, params: {'class_weight': None, 'criterion': 'entropy', 'max_depth': 7, 'max_features': None, 'max_leaf_nodes': 80, 'min_samples_leaf': 10, 'presort': False},\n",
       " mean: 0.82716, std: 0.03083, params: {'class_weight': None, 'criterion': 'entropy', 'max_depth': 7, 'max_features': None, 'max_leaf_nodes': 90, 'min_samples_leaf': 6, 'presort': False},\n",
       " mean: 0.82716, std: 0.03320, params: {'class_weight': None, 'criterion': 'entropy', 'max_depth': 7, 'max_features': None, 'max_leaf_nodes': 90, 'min_samples_leaf': 8, 'presort': False},\n",
       " mean: 0.82716, std: 0.03555, params: {'class_weight': None, 'criterion': 'entropy', 'max_depth': 7, 'max_features': None, 'max_leaf_nodes': 90, 'min_samples_leaf': 10, 'presort': False},\n",
       " mean: 0.82716, std: 0.03614, params: {'class_weight': None, 'criterion': 'entropy', 'max_depth': 8, 'max_features': None, 'max_leaf_nodes': 40, 'min_samples_leaf': 1, 'presort': False},\n",
       " mean: 0.82716, std: 0.03462, params: {'class_weight': None, 'criterion': 'entropy', 'max_depth': 8, 'max_features': None, 'max_leaf_nodes': 50, 'min_samples_leaf': 7, 'presort': False},\n",
       " mean: 0.82716, std: 0.04077, params: {'class_weight': None, 'criterion': 'entropy', 'max_depth': 8, 'max_features': None, 'max_leaf_nodes': 60, 'min_samples_leaf': 5, 'presort': False},\n",
       " mean: 0.82716, std: 0.03462, params: {'class_weight': None, 'criterion': 'entropy', 'max_depth': 8, 'max_features': None, 'max_leaf_nodes': 60, 'min_samples_leaf': 7, 'presort': False},\n",
       " mean: 0.82716, std: 0.03462, params: {'class_weight': None, 'criterion': 'entropy', 'max_depth': 8, 'max_features': None, 'max_leaf_nodes': 70, 'min_samples_leaf': 7, 'presort': False},\n",
       " mean: 0.82716, std: 0.03627, params: {'class_weight': None, 'criterion': 'entropy', 'max_depth': 8, 'max_features': None, 'max_leaf_nodes': 80, 'min_samples_leaf': 6, 'presort': False},\n",
       " mean: 0.82716, std: 0.03462, params: {'class_weight': None, 'criterion': 'entropy', 'max_depth': 8, 'max_features': None, 'max_leaf_nodes': 80, 'min_samples_leaf': 7, 'presort': False},\n",
       " mean: 0.82716, std: 0.03621, params: {'class_weight': None, 'criterion': 'entropy', 'max_depth': 8, 'max_features': None, 'max_leaf_nodes': 90, 'min_samples_leaf': 6, 'presort': False},\n",
       " mean: 0.82716, std: 0.03462, params: {'class_weight': None, 'criterion': 'entropy', 'max_depth': 8, 'max_features': None, 'max_leaf_nodes': 90, 'min_samples_leaf': 7, 'presort': False},\n",
       " mean: 0.82716, std: 0.03679, params: {'class_weight': None, 'criterion': 'entropy', 'max_depth': 9, 'max_features': None, 'max_leaf_nodes': 40, 'min_samples_leaf': 7, 'presort': False},\n",
       " mean: 0.82716, std: 0.03064, params: {'class_weight': None, 'criterion': 'entropy', 'max_depth': 9, 'max_features': None, 'max_leaf_nodes': 50, 'min_samples_leaf': 10, 'presort': False},\n",
       " mean: 0.82716, std: 0.03064, params: {'class_weight': None, 'criterion': 'entropy', 'max_depth': 9, 'max_features': None, 'max_leaf_nodes': 80, 'min_samples_leaf': 10, 'presort': False},\n",
       " mean: 0.82716, std: 0.04071, params: {'class_weight': None, 'criterion': 'entropy', 'max_depth': 10, 'max_features': None, 'max_leaf_nodes': 30, 'min_samples_leaf': 5, 'presort': False},\n",
       " mean: 0.82716, std: 0.03679, params: {'class_weight': None, 'criterion': 'entropy', 'max_depth': 10, 'max_features': None, 'max_leaf_nodes': 40, 'min_samples_leaf': 7, 'presort': False},\n",
       " mean: 0.82716, std: 0.03078, params: {'class_weight': None, 'criterion': 'entropy', 'max_depth': 11, 'max_features': None, 'max_leaf_nodes': 40, 'min_samples_leaf': 2, 'presort': False},\n",
       " mean: 0.82716, std: 0.03160, params: {'class_weight': None, 'criterion': 'entropy', 'max_depth': 11, 'max_features': None, 'max_leaf_nodes': 70, 'min_samples_leaf': 6, 'presort': False},\n",
       " mean: 0.82716, std: 0.03507, params: {'class_weight': None, 'criterion': 'entropy', 'max_depth': 12, 'max_features': None, 'max_leaf_nodes': 30, 'min_samples_leaf': 4, 'presort': False},\n",
       " mean: 0.82716, std: 0.03249, params: {'class_weight': None, 'criterion': 'entropy', 'max_depth': 12, 'max_features': None, 'max_leaf_nodes': 80, 'min_samples_leaf': 6, 'presort': False},\n",
       " mean: 0.82716, std: 0.02996, params: {'class_weight': None, 'criterion': 'entropy', 'max_depth': 12, 'max_features': None, 'max_leaf_nodes': 90, 'min_samples_leaf': 6, 'presort': False},\n",
       " mean: 0.82716, std: 0.03507, params: {'class_weight': None, 'criterion': 'entropy', 'max_depth': 13, 'max_features': None, 'max_leaf_nodes': 30, 'min_samples_leaf': 4, 'presort': False},\n",
       " mean: 0.82716, std: 0.04197, params: {'class_weight': None, 'criterion': 'entropy', 'max_depth': 13, 'max_features': None, 'max_leaf_nodes': 80, 'min_samples_leaf': 5, 'presort': False},\n",
       " mean: 0.82716, std: 0.03374, params: {'class_weight': None, 'criterion': 'entropy', 'max_depth': 13, 'max_features': None, 'max_leaf_nodes': 80, 'min_samples_leaf': 6, 'presort': False},\n",
       " mean: 0.82716, std: 0.03064, params: {'class_weight': None, 'criterion': 'entropy', 'max_depth': 13, 'max_features': None, 'max_leaf_nodes': 80, 'min_samples_leaf': 10, 'presort': False},\n",
       " mean: 0.82716, std: 0.03064, params: {'class_weight': None, 'criterion': 'entropy', 'max_depth': 14, 'max_features': None, 'max_leaf_nodes': 70, 'min_samples_leaf': 10, 'presort': False},\n",
       " mean: 0.82604, std: 0.03595, params: {'class_weight': None, 'criterion': 'entropy', 'max_depth': 6, 'max_features': None, 'max_leaf_nodes': 30, 'min_samples_leaf': 7, 'presort': False},\n",
       " mean: 0.82604, std: 0.03046, params: {'class_weight': None, 'criterion': 'entropy', 'max_depth': 6, 'max_features': None, 'max_leaf_nodes': 30, 'min_samples_leaf': 9, 'presort': False},\n",
       " mean: 0.82604, std: 0.03595, params: {'class_weight': None, 'criterion': 'entropy', 'max_depth': 6, 'max_features': None, 'max_leaf_nodes': 40, 'min_samples_leaf': 7, 'presort': False},\n",
       " mean: 0.82604, std: 0.03595, params: {'class_weight': None, 'criterion': 'entropy', 'max_depth': 6, 'max_features': None, 'max_leaf_nodes': 50, 'min_samples_leaf': 7, 'presort': False},\n",
       " mean: 0.82604, std: 0.03595, params: {'class_weight': None, 'criterion': 'entropy', 'max_depth': 6, 'max_features': None, 'max_leaf_nodes': 60, 'min_samples_leaf': 7, 'presort': False},\n",
       " mean: 0.82604, std: 0.02866, params: {'class_weight': None, 'criterion': 'entropy', 'max_depth': 6, 'max_features': None, 'max_leaf_nodes': 60, 'min_samples_leaf': 9, 'presort': False},\n",
       " mean: 0.82604, std: 0.03595, params: {'class_weight': None, 'criterion': 'entropy', 'max_depth': 6, 'max_features': None, 'max_leaf_nodes': 70, 'min_samples_leaf': 7, 'presort': False},\n",
       " mean: 0.82604, std: 0.02866, params: {'class_weight': None, 'criterion': 'entropy', 'max_depth': 6, 'max_features': None, 'max_leaf_nodes': 70, 'min_samples_leaf': 9, 'presort': False},\n",
       " mean: 0.82604, std: 0.03595, params: {'class_weight': None, 'criterion': 'entropy', 'max_depth': 6, 'max_features': None, 'max_leaf_nodes': 80, 'min_samples_leaf': 7, 'presort': False},\n",
       " mean: 0.82604, std: 0.02866, params: {'class_weight': None, 'criterion': 'entropy', 'max_depth': 6, 'max_features': None, 'max_leaf_nodes': 80, 'min_samples_leaf': 9, 'presort': False},\n",
       " mean: 0.82604, std: 0.03595, params: {'class_weight': None, 'criterion': 'entropy', 'max_depth': 6, 'max_features': None, 'max_leaf_nodes': 90, 'min_samples_leaf': 7, 'presort': False},\n",
       " mean: 0.82604, std: 0.03242, params: {'class_weight': None, 'criterion': 'entropy', 'max_depth': 7, 'max_features': None, 'max_leaf_nodes': 20, 'min_samples_leaf': 5, 'presort': False},\n",
       " mean: 0.82604, std: 0.03825, params: {'class_weight': None, 'criterion': 'entropy', 'max_depth': 7, 'max_features': None, 'max_leaf_nodes': 50, 'min_samples_leaf': 5, 'presort': False},\n",
       " mean: 0.82604, std: 0.03834, params: {'class_weight': None, 'criterion': 'entropy', 'max_depth': 7, 'max_features': None, 'max_leaf_nodes': 60, 'min_samples_leaf': 5, 'presort': False},\n",
       " mean: 0.82604, std: 0.03825, params: {'class_weight': None, 'criterion': 'entropy', 'max_depth': 7, 'max_features': None, 'max_leaf_nodes': 70, 'min_samples_leaf': 5, 'presort': False},\n",
       " mean: 0.82604, std: 0.03209, params: {'class_weight': None, 'criterion': 'entropy', 'max_depth': 7, 'max_features': None, 'max_leaf_nodes': 70, 'min_samples_leaf': 6, 'presort': False},\n",
       " mean: 0.82604, std: 0.03209, params: {'class_weight': None, 'criterion': 'entropy', 'max_depth': 7, 'max_features': None, 'max_leaf_nodes': 80, 'min_samples_leaf': 6, 'presort': False},\n",
       " mean: 0.82604, std: 0.03825, params: {'class_weight': None, 'criterion': 'entropy', 'max_depth': 8, 'max_features': None, 'max_leaf_nodes': 30, 'min_samples_leaf': 2, 'presort': False},\n",
       " mean: 0.82604, std: 0.03609, params: {'class_weight': None, 'criterion': 'entropy', 'max_depth': 8, 'max_features': None, 'max_leaf_nodes': 40, 'min_samples_leaf': 2, 'presort': False},\n",
       " mean: 0.82604, std: 0.02944, params: {'class_weight': None, 'criterion': 'entropy', 'max_depth': 8, 'max_features': None, 'max_leaf_nodes': 40, 'min_samples_leaf': 10, 'presort': False},\n",
       " mean: 0.82604, std: 0.02693, params: {'class_weight': None, 'criterion': 'entropy', 'max_depth': 8, 'max_features': None, 'max_leaf_nodes': 60, 'min_samples_leaf': 10, 'presort': False},\n",
       " mean: 0.82604, std: 0.04216, params: {'class_weight': None, 'criterion': 'entropy', 'max_depth': 8, 'max_features': None, 'max_leaf_nodes': 70, 'min_samples_leaf': 5, 'presort': False},\n",
       " mean: 0.82604, std: 0.03729, params: {'class_weight': None, 'criterion': 'entropy', 'max_depth': 8, 'max_features': None, 'max_leaf_nodes': 70, 'min_samples_leaf': 6, 'presort': False},\n",
       " mean: 0.82604, std: 0.03958, params: {'class_weight': None, 'criterion': 'entropy', 'max_depth': 8, 'max_features': None, 'max_leaf_nodes': 80, 'min_samples_leaf': 5, 'presort': False},\n",
       " mean: 0.82604, std: 0.02693, params: {'class_weight': None, 'criterion': 'entropy', 'max_depth': 8, 'max_features': None, 'max_leaf_nodes': 90, 'min_samples_leaf': 10, 'presort': False},\n",
       " mean: 0.82604, std: 0.03832, params: {'class_weight': None, 'criterion': 'entropy', 'max_depth': 9, 'max_features': None, 'max_leaf_nodes': 50, 'min_samples_leaf': 7, 'presort': False},\n",
       " mean: 0.82604, std: 0.03260, params: {'class_weight': None, 'criterion': 'entropy', 'max_depth': 9, 'max_features': None, 'max_leaf_nodes': 70, 'min_samples_leaf': 6, 'presort': False},\n",
       " mean: 0.82604, std: 0.03832, params: {'class_weight': None, 'criterion': 'entropy', 'max_depth': 9, 'max_features': None, 'max_leaf_nodes': 70, 'min_samples_leaf': 7, 'presort': False},\n",
       " mean: 0.82604, std: 0.03218, params: {'class_weight': None, 'criterion': 'entropy', 'max_depth': 9, 'max_features': None, 'max_leaf_nodes': 70, 'min_samples_leaf': 10, 'presort': False},\n",
       " mean: 0.82604, std: 0.03382, params: {'class_weight': None, 'criterion': 'entropy', 'max_depth': 10, 'max_features': None, 'max_leaf_nodes': 80, 'min_samples_leaf': 6, 'presort': False},\n",
       " mean: 0.82604, std: 0.03218, params: {'class_weight': None, 'criterion': 'entropy', 'max_depth': 10, 'max_features': None, 'max_leaf_nodes': 80, 'min_samples_leaf': 10, 'presort': False},\n",
       " mean: 0.82604, std: 0.03832, params: {'class_weight': None, 'criterion': 'entropy', 'max_depth': 10, 'max_features': None, 'max_leaf_nodes': 90, 'min_samples_leaf': 7, 'presort': False},\n",
       " mean: 0.82604, std: 0.03840, params: {'class_weight': None, 'criterion': 'entropy', 'max_depth': 11, 'max_features': None, 'max_leaf_nodes': 30, 'min_samples_leaf': 7, 'presort': False},\n",
       " mean: 0.82604, std: 0.03218, params: {'class_weight': None, 'criterion': 'entropy', 'max_depth': 11, 'max_features': None, 'max_leaf_nodes': 60, 'min_samples_leaf': 10, 'presort': False},\n",
       " mean: 0.82604, std: 0.03019, params: {'class_weight': None, 'criterion': 'entropy', 'max_depth': 11, 'max_features': None, 'max_leaf_nodes': 70, 'min_samples_leaf': 9, 'presort': False},\n",
       " mean: 0.82604, std: 0.03832, params: {'class_weight': None, 'criterion': 'entropy', 'max_depth': 11, 'max_features': None, 'max_leaf_nodes': 80, 'min_samples_leaf': 7, 'presort': False},\n",
       " mean: 0.82604, std: 0.03490, params: {'class_weight': None, 'criterion': 'entropy', 'max_depth': 11, 'max_features': None, 'max_leaf_nodes': 90, 'min_samples_leaf': 6, 'presort': False},\n",
       " mean: 0.82604, std: 0.03840, params: {'class_weight': None, 'criterion': 'entropy', 'max_depth': 12, 'max_features': None, 'max_leaf_nodes': 30, 'min_samples_leaf': 7, 'presort': False},\n",
       " mean: 0.82604, std: 0.03832, params: {'class_weight': None, 'criterion': 'entropy', 'max_depth': 12, 'max_features': None, 'max_leaf_nodes': 60, 'min_samples_leaf': 7, 'presort': False},\n",
       " mean: 0.82604, std: 0.03019, params: {'class_weight': None, 'criterion': 'entropy', 'max_depth': 12, 'max_features': None, 'max_leaf_nodes': 60, 'min_samples_leaf': 9, 'presort': False},\n",
       " mean: 0.82604, std: 0.03832, params: {'class_weight': None, 'criterion': 'entropy', 'max_depth': 12, 'max_features': None, 'max_leaf_nodes': 80, 'min_samples_leaf': 7, 'presort': False},\n",
       " mean: 0.82604, std: 0.03840, params: {'class_weight': None, 'criterion': 'entropy', 'max_depth': 13, 'max_features': None, 'max_leaf_nodes': 30, 'min_samples_leaf': 7, 'presort': False},\n",
       " mean: 0.82604, std: 0.03832, params: {'class_weight': None, 'criterion': 'entropy', 'max_depth': 13, 'max_features': None, 'max_leaf_nodes': 60, 'min_samples_leaf': 7, 'presort': False},\n",
       " mean: 0.82604, std: 0.03019, params: {'class_weight': None, 'criterion': 'entropy', 'max_depth': 13, 'max_features': None, 'max_leaf_nodes': 60, 'min_samples_leaf': 9, 'presort': False},\n",
       " mean: 0.82604, std: 0.03218, params: {'class_weight': None, 'criterion': 'entropy', 'max_depth': 13, 'max_features': None, 'max_leaf_nodes': 60, 'min_samples_leaf': 10, 'presort': False},\n",
       " mean: 0.82604, std: 0.03060, params: {'class_weight': None, 'criterion': 'entropy', 'max_depth': 13, 'max_features': None, 'max_leaf_nodes': 70, 'min_samples_leaf': 6, 'presort': False},\n",
       " mean: 0.82604, std: 0.03832, params: {'class_weight': None, 'criterion': 'entropy', 'max_depth': 13, 'max_features': None, 'max_leaf_nodes': 80, 'min_samples_leaf': 7, 'presort': False},\n",
       " mean: 0.82604, std: 0.03019, params: {'class_weight': None, 'criterion': 'entropy', 'max_depth': 13, 'max_features': None, 'max_leaf_nodes': 90, 'min_samples_leaf': 9, 'presort': False},\n",
       " mean: 0.82604, std: 0.03840, params: {'class_weight': None, 'criterion': 'entropy', 'max_depth': 14, 'max_features': None, 'max_leaf_nodes': 30, 'min_samples_leaf': 7, 'presort': False},\n",
       " mean: 0.82604, std: 0.03019, params: {'class_weight': None, 'criterion': 'entropy', 'max_depth': 14, 'max_features': None, 'max_leaf_nodes': 50, 'min_samples_leaf': 9, 'presort': False},\n",
       " mean: 0.82604, std: 0.03126, params: {'class_weight': None, 'criterion': 'entropy', 'max_depth': 14, 'max_features': None, 'max_leaf_nodes': 80, 'min_samples_leaf': 6, 'presort': False},\n",
       " mean: 0.82604, std: 0.03832, params: {'class_weight': None, 'criterion': 'entropy', 'max_depth': 14, 'max_features': None, 'max_leaf_nodes': 80, 'min_samples_leaf': 7, 'presort': False},\n",
       " mean: 0.82604, std: 0.03218, params: {'class_weight': None, 'criterion': 'entropy', 'max_depth': 14, 'max_features': None, 'max_leaf_nodes': 90, 'min_samples_leaf': 10, 'presort': False},\n",
       " mean: 0.82492, std: 0.03478, params: {'class_weight': None, 'criterion': 'entropy', 'max_depth': 6, 'max_features': None, 'max_leaf_nodes': 30, 'min_samples_leaf': 5, 'presort': False},\n",
       " mean: 0.82492, std: 0.03380, params: {'class_weight': None, 'criterion': 'entropy', 'max_depth': 6, 'max_features': None, 'max_leaf_nodes': 30, 'min_samples_leaf': 6, 'presort': False},\n",
       " mean: 0.82492, std: 0.03027, params: {'class_weight': None, 'criterion': 'entropy', 'max_depth': 6, 'max_features': None, 'max_leaf_nodes': 40, 'min_samples_leaf': 9, 'presort': False},\n",
       " mean: 0.82492, std: 0.02794, params: {'class_weight': None, 'criterion': 'entropy', 'max_depth': 6, 'max_features': None, 'max_leaf_nodes': 40, 'min_samples_leaf': 11, 'presort': False},\n",
       " mean: 0.82492, std: 0.04293, params: {'class_weight': None, 'criterion': 'entropy', 'max_depth': 6, 'max_features': None, 'max_leaf_nodes': 50, 'min_samples_leaf': 1, 'presort': False},\n",
       " mean: 0.82492, std: 0.03027, params: {'class_weight': None, 'criterion': 'entropy', 'max_depth': 6, 'max_features': None, 'max_leaf_nodes': 50, 'min_samples_leaf': 9, 'presort': False},\n",
       " mean: 0.82492, std: 0.02794, params: {'class_weight': None, 'criterion': 'entropy', 'max_depth': 6, 'max_features': None, 'max_leaf_nodes': 50, 'min_samples_leaf': 11, 'presort': False},\n",
       " mean: 0.82492, std: 0.02794, params: {'class_weight': None, 'criterion': 'entropy', 'max_depth': 6, 'max_features': None, 'max_leaf_nodes': 80, 'min_samples_leaf': 11, 'presort': False},\n",
       " mean: 0.82492, std: 0.03027, params: {'class_weight': None, 'criterion': 'entropy', 'max_depth': 6, 'max_features': None, 'max_leaf_nodes': 90, 'min_samples_leaf': 9, 'presort': False},\n",
       " mean: 0.82492, std: 0.02719, params: {'class_weight': None, 'criterion': 'entropy', 'max_depth': 6, 'max_features': None, 'max_leaf_nodes': 90, 'min_samples_leaf': 10, 'presort': False},\n",
       " mean: 0.82492, std: 0.02794, params: {'class_weight': None, 'criterion': 'entropy', 'max_depth': 6, 'max_features': None, 'max_leaf_nodes': 90, 'min_samples_leaf': 11, 'presort': False},\n",
       " mean: 0.82492, std: 0.03686, params: {'class_weight': None, 'criterion': 'entropy', 'max_depth': 7, 'max_features': None, 'max_leaf_nodes': 20, 'min_samples_leaf': 2, 'presort': False},\n",
       " mean: 0.82492, std: 0.03836, params: {'class_weight': None, 'criterion': 'entropy', 'max_depth': 7, 'max_features': None, 'max_leaf_nodes': 30, 'min_samples_leaf': 2, 'presort': False},\n",
       " mean: 0.82492, std: 0.03685, params: {'class_weight': None, 'criterion': 'entropy', 'max_depth': 8, 'max_features': None, 'max_leaf_nodes': 30, 'min_samples_leaf': 6, 'presort': False},\n",
       " mean: 0.82492, std: 0.03910, params: {'class_weight': None, 'criterion': 'entropy', 'max_depth': 8, 'max_features': None, 'max_leaf_nodes': 30, 'min_samples_leaf': 11, 'presort': False},\n",
       " mean: 0.82492, std: 0.03580, params: {'class_weight': None, 'criterion': 'entropy', 'max_depth': 8, 'max_features': None, 'max_leaf_nodes': 50, 'min_samples_leaf': 8, 'presort': False},\n",
       " mean: 0.82492, std: 0.03580, params: {'class_weight': None, 'criterion': 'entropy', 'max_depth': 8, 'max_features': None, 'max_leaf_nodes': 60, 'min_samples_leaf': 8, 'presort': False},\n",
       " mean: 0.82492, std: 0.03580, params: {'class_weight': None, 'criterion': 'entropy', 'max_depth': 8, 'max_features': None, 'max_leaf_nodes': 70, 'min_samples_leaf': 8, 'presort': False},\n",
       " mean: 0.82492, std: 0.03580, params: {'class_weight': None, 'criterion': 'entropy', 'max_depth': 8, 'max_features': None, 'max_leaf_nodes': 80, 'min_samples_leaf': 8, 'presort': False},\n",
       " mean: 0.82492, std: 0.03580, params: {'class_weight': None, 'criterion': 'entropy', 'max_depth': 8, 'max_features': None, 'max_leaf_nodes': 90, 'min_samples_leaf': 8, 'presort': False},\n",
       " mean: 0.82492, std: 0.03086, params: {'class_weight': None, 'criterion': 'entropy', 'max_depth': 9, 'max_features': None, 'max_leaf_nodes': 20, 'min_samples_leaf': 5, 'presort': False},\n",
       " mean: 0.82492, std: 0.03930, params: {'class_weight': None, 'criterion': 'entropy', 'max_depth': 9, 'max_features': None, 'max_leaf_nodes': 30, 'min_samples_leaf': 5, 'presort': False},\n",
       " mean: 0.82492, std: 0.03778, params: {'class_weight': None, 'criterion': 'entropy', 'max_depth': 9, 'max_features': None, 'max_leaf_nodes': 30, 'min_samples_leaf': 7, 'presort': False},\n",
       " mean: 0.82492, std: 0.03723, params: {'class_weight': None, 'criterion': 'entropy', 'max_depth': 9, 'max_features': None, 'max_leaf_nodes': 60, 'min_samples_leaf': 7, 'presort': False},\n",
       " mean: 0.82492, std: 0.03172, params: {'class_weight': None, 'criterion': 'entropy', 'max_depth': 9, 'max_features': None, 'max_leaf_nodes': 60, 'min_samples_leaf': 9, 'presort': False},\n",
       " mean: 0.82492, std: 0.03723, params: {'class_weight': None, 'criterion': 'entropy', 'max_depth': 9, 'max_features': None, 'max_leaf_nodes': 80, 'min_samples_leaf': 7, 'presort': False},\n",
       " mean: 0.82492, std: 0.03723, params: {'class_weight': None, 'criterion': 'entropy', 'max_depth': 9, 'max_features': None, 'max_leaf_nodes': 90, 'min_samples_leaf': 7, 'presort': False},\n",
       " mean: 0.82492, std: 0.03747, params: {'class_weight': None, 'criterion': 'entropy', 'max_depth': 10, 'max_features': None, 'max_leaf_nodes': 30, 'min_samples_leaf': 4, 'presort': False},\n",
       " mean: 0.82492, std: 0.03778, params: {'class_weight': None, 'criterion': 'entropy', 'max_depth': 10, 'max_features': None, 'max_leaf_nodes': 30, 'min_samples_leaf': 7, 'presort': False},\n",
       " mean: 0.82492, std: 0.02804, params: {'class_weight': None, 'criterion': 'entropy', 'max_depth': 10, 'max_features': None, 'max_leaf_nodes': 40, 'min_samples_leaf': 10, 'presort': False},\n",
       " mean: 0.82492, std: 0.03723, params: {'class_weight': None, 'criterion': 'entropy', 'max_depth': 10, 'max_features': None, 'max_leaf_nodes': 70, 'min_samples_leaf': 7, 'presort': False},\n",
       " mean: 0.82492, std: 0.03723, params: {'class_weight': None, 'criterion': 'entropy', 'max_depth': 10, 'max_features': None, 'max_leaf_nodes': 80, 'min_samples_leaf': 7, 'presort': False},\n",
       " mean: 0.82492, std: 0.04345, params: {'class_weight': None, 'criterion': 'entropy', 'max_depth': 10, 'max_features': None, 'max_leaf_nodes': 90, 'min_samples_leaf': 5, 'presort': False},\n",
       " mean: 0.82492, std: 0.03172, params: {'class_weight': None, 'criterion': 'entropy', 'max_depth': 10, 'max_features': None, 'max_leaf_nodes': 90, 'min_samples_leaf': 9, 'presort': False},\n",
       " mean: 0.82492, std: 0.03086, params: {'class_weight': None, 'criterion': 'entropy', 'max_depth': 11, 'max_features': None, 'max_leaf_nodes': 20, 'min_samples_leaf': 5, 'presort': False},\n",
       " mean: 0.82492, std: 0.03747, params: {'class_weight': None, 'criterion': 'entropy', 'max_depth': 11, 'max_features': None, 'max_leaf_nodes': 30, 'min_samples_leaf': 4, 'presort': False},\n",
       " mean: 0.82492, std: 0.03608, params: {'class_weight': None, 'criterion': 'entropy', 'max_depth': 11, 'max_features': None, 'max_leaf_nodes': 50, 'min_samples_leaf': 2, 'presort': False},\n",
       " mean: 0.82492, std: 0.03723, params: {'class_weight': None, 'criterion': 'entropy', 'max_depth': 11, 'max_features': None, 'max_leaf_nodes': 60, 'min_samples_leaf': 7, 'presort': False},\n",
       " mean: 0.82492, std: 0.03172, params: {'class_weight': None, 'criterion': 'entropy', 'max_depth': 11, 'max_features': None, 'max_leaf_nodes': 60, 'min_samples_leaf': 9, 'presort': False},\n",
       " mean: 0.82492, std: 0.03970, params: {'class_weight': None, 'criterion': 'entropy', 'max_depth': 11, 'max_features': None, 'max_leaf_nodes': 70, 'min_samples_leaf': 7, 'presort': False},\n",
       " mean: 0.82492, std: 0.03494, params: {'class_weight': None, 'criterion': 'entropy', 'max_depth': 11, 'max_features': None, 'max_leaf_nodes': 80, 'min_samples_leaf': 6, 'presort': False},\n",
       " mean: 0.82492, std: 0.03970, params: {'class_weight': None, 'criterion': 'entropy', 'max_depth': 11, 'max_features': None, 'max_leaf_nodes': 90, 'min_samples_leaf': 7, 'presort': False},\n",
       " mean: 0.82492, std: 0.03527, params: {'class_weight': None, 'criterion': 'entropy', 'max_depth': 12, 'max_features': None, 'max_leaf_nodes': 40, 'min_samples_leaf': 7, 'presort': False},\n",
       " mean: 0.82492, std: 0.02608, params: {'class_weight': None, 'criterion': 'entropy', 'max_depth': 12, 'max_features': None, 'max_leaf_nodes': 40, 'min_samples_leaf': 10, 'presort': False},\n",
       " mean: 0.82492, std: 0.03701, params: {'class_weight': None, 'criterion': 'entropy', 'max_depth': 12, 'max_features': None, 'max_leaf_nodes': 50, 'min_samples_leaf': 2, 'presort': False},\n",
       " mean: 0.82492, std: 0.03970, params: {'class_weight': None, 'criterion': 'entropy', 'max_depth': 12, 'max_features': None, 'max_leaf_nodes': 70, 'min_samples_leaf': 7, 'presort': False},\n",
       " mean: 0.82492, std: 0.03970, params: {'class_weight': None, 'criterion': 'entropy', 'max_depth': 12, 'max_features': None, 'max_leaf_nodes': 90, 'min_samples_leaf': 7, 'presort': False},\n",
       " mean: 0.82492, std: 0.02539, params: {'class_weight': None, 'criterion': 'entropy', 'max_depth': 12, 'max_features': None, 'max_leaf_nodes': 90, 'min_samples_leaf': 10, 'presort': False},\n",
       " mean: 0.82492, std: 0.03086, params: {'class_weight': None, 'criterion': 'entropy', 'max_depth': 13, 'max_features': None, 'max_leaf_nodes': 20, 'min_samples_leaf': 5, 'presort': False},\n",
       " mean: 0.82492, std: 0.03527, params: {'class_weight': None, 'criterion': 'entropy', 'max_depth': 13, 'max_features': None, 'max_leaf_nodes': 40, 'min_samples_leaf': 7, 'presort': False},\n",
       " mean: 0.82492, std: 0.04739, params: {'class_weight': None, 'criterion': 'entropy', 'max_depth': 14, 'max_features': None, 'max_leaf_nodes': 60, 'min_samples_leaf': 4, 'presort': False},\n",
       " mean: 0.82492, std: 0.03723, params: {'class_weight': None, 'criterion': 'entropy', 'max_depth': 14, 'max_features': None, 'max_leaf_nodes': 60, 'min_samples_leaf': 7, 'presort': False},\n",
       " mean: 0.82492, std: 0.03494, params: {'class_weight': None, 'criterion': 'entropy', 'max_depth': 14, 'max_features': None, 'max_leaf_nodes': 70, 'min_samples_leaf': 6, 'presort': False},\n",
       " mean: 0.82492, std: 0.03172, params: {'class_weight': None, 'criterion': 'entropy', 'max_depth': 14, 'max_features': None, 'max_leaf_nodes': 70, 'min_samples_leaf': 9, 'presort': False},\n",
       " mean: 0.82492, std: 0.03701, params: {'class_weight': None, 'criterion': 'entropy', 'max_depth': 14, 'max_features': None, 'max_leaf_nodes': 90, 'min_samples_leaf': 7, 'presort': False},\n",
       " mean: 0.82379, std: 0.02831, params: {'class_weight': None, 'criterion': 'entropy', 'max_depth': 5, 'max_features': None, 'max_leaf_nodes': 30, 'min_samples_leaf': 9, 'presort': False},\n",
       " mean: 0.82379, std: 0.02831, params: {'class_weight': None, 'criterion': 'entropy', 'max_depth': 5, 'max_features': None, 'max_leaf_nodes': 40, 'min_samples_leaf': 9, 'presort': False},\n",
       " mean: 0.82379, std: 0.02831, params: {'class_weight': None, 'criterion': 'entropy', 'max_depth': 5, 'max_features': None, 'max_leaf_nodes': 80, 'min_samples_leaf': 9, 'presort': False},\n",
       " mean: 0.82379, std: 0.02831, params: {'class_weight': None, 'criterion': 'entropy', 'max_depth': 5, 'max_features': None, 'max_leaf_nodes': 90, 'min_samples_leaf': 9, 'presort': False},\n",
       " mean: 0.82379, std: 0.04275, params: {'class_weight': None, 'criterion': 'entropy', 'max_depth': 6, 'max_features': None, 'max_leaf_nodes': 40, 'min_samples_leaf': 2, 'presort': False},\n",
       " mean: 0.82379, std: 0.03807, params: {'class_weight': None, 'criterion': 'entropy', 'max_depth': 7, 'max_features': None, 'max_leaf_nodes': 20, 'min_samples_leaf': 1, 'presort': False},\n",
       " mean: 0.82379, std: 0.03591, params: {'class_weight': None, 'criterion': 'entropy', 'max_depth': 7, 'max_features': None, 'max_leaf_nodes': 20, 'min_samples_leaf': 3, 'presort': False},\n",
       " mean: 0.82379, std: 0.03511, params: {'class_weight': None, 'criterion': 'entropy', 'max_depth': 7, 'max_features': None, 'max_leaf_nodes': 30, 'min_samples_leaf': 4, 'presort': False},\n",
       " mean: 0.82379, std: 0.04283, params: {'class_weight': None, 'criterion': 'entropy', 'max_depth': 7, 'max_features': None, 'max_leaf_nodes': 40, 'min_samples_leaf': 2, 'presort': False},\n",
       " mean: 0.82379, std: 0.02948, params: {'class_weight': None, 'criterion': 'entropy', 'max_depth': 7, 'max_features': None, 'max_leaf_nodes': 40, 'min_samples_leaf': 9, 'presort': False},\n",
       " mean: 0.82379, std: 0.02948, params: {'class_weight': None, 'criterion': 'entropy', 'max_depth': 7, 'max_features': None, 'max_leaf_nodes': 60, 'min_samples_leaf': 9, 'presort': False},\n",
       " mean: 0.82379, std: 0.02948, params: {'class_weight': None, 'criterion': 'entropy', 'max_depth': 7, 'max_features': None, 'max_leaf_nodes': 70, 'min_samples_leaf': 9, 'presort': False},\n",
       " mean: 0.82379, std: 0.03861, params: {'class_weight': None, 'criterion': 'entropy', 'max_depth': 7, 'max_features': None, 'max_leaf_nodes': 80, 'min_samples_leaf': 5, 'presort': False},\n",
       " mean: 0.82379, std: 0.03861, params: {'class_weight': None, 'criterion': 'entropy', 'max_depth': 7, 'max_features': None, 'max_leaf_nodes': 90, 'min_samples_leaf': 5, 'presort': False},\n",
       " mean: 0.82379, std: 0.02975, params: {'class_weight': None, 'criterion': 'entropy', 'max_depth': 8, 'max_features': None, 'max_leaf_nodes': 20, 'min_samples_leaf': 5, 'presort': False},\n",
       " mean: 0.82379, std: 0.04056, params: {'class_weight': None, 'criterion': 'entropy', 'max_depth': 8, 'max_features': None, 'max_leaf_nodes': 30, 'min_samples_leaf': 3, 'presort': False},\n",
       " mean: 0.82379, std: 0.03783, params: {'class_weight': None, 'criterion': 'entropy', 'max_depth': 8, 'max_features': None, 'max_leaf_nodes': 30, 'min_samples_leaf': 7, 'presort': False},\n",
       " mean: 0.82379, std: 0.03694, params: {'class_weight': None, 'criterion': 'entropy', 'max_depth': 8, 'max_features': None, 'max_leaf_nodes': 30, 'min_samples_leaf': 8, 'presort': False},\n",
       " mean: 0.82379, std: 0.03821, params: {'class_weight': None, 'criterion': 'entropy', 'max_depth': 8, 'max_features': None, 'max_leaf_nodes': 50, 'min_samples_leaf': 2, 'presort': False},\n",
       " mean: 0.82379, std: 0.03593, params: {'class_weight': None, 'criterion': 'entropy', 'max_depth': 8, 'max_features': None, 'max_leaf_nodes': 50, 'min_samples_leaf': 6, 'presort': False},\n",
       " mean: 0.82379, std: 0.04079, params: {'class_weight': None, 'criterion': 'entropy', 'max_depth': 8, 'max_features': None, 'max_leaf_nodes': 90, 'min_samples_leaf': 5, 'presort': False},\n",
       " mean: 0.82379, std: 0.03583, params: {'class_weight': None, 'criterion': 'entropy', 'max_depth': 9, 'max_features': None, 'max_leaf_nodes': 30, 'min_samples_leaf': 4, 'presort': False},\n",
       " mean: 0.82379, std: 0.03694, params: {'class_weight': None, 'criterion': 'entropy', 'max_depth': 9, 'max_features': None, 'max_leaf_nodes': 30, 'min_samples_leaf': 8, 'presort': False},\n",
       " mean: 0.82379, std: 0.02885, params: {'class_weight': None, 'criterion': 'entropy', 'max_depth': 9, 'max_features': None, 'max_leaf_nodes': 50, 'min_samples_leaf': 9, 'presort': False},\n",
       " mean: 0.82379, std: 0.03593, params: {'class_weight': None, 'criterion': 'entropy', 'max_depth': 9, 'max_features': None, 'max_leaf_nodes': 80, 'min_samples_leaf': 6, 'presort': False},\n",
       " mean: 0.82379, std: 0.02975, params: {'class_weight': None, 'criterion': 'entropy', 'max_depth': 10, 'max_features': None, 'max_leaf_nodes': 20, 'min_samples_leaf': 5, 'presort': False},\n",
       " mean: 0.82379, std: 0.03694, params: {'class_weight': None, 'criterion': 'entropy', 'max_depth': 10, 'max_features': None, 'max_leaf_nodes': 30, 'min_samples_leaf': 8, 'presort': False},\n",
       " mean: 0.82379, std: 0.03482, params: {'class_weight': None, 'criterion': 'entropy', 'max_depth': 10, 'max_features': None, 'max_leaf_nodes': 40, 'min_samples_leaf': 2, 'presort': False},\n",
       " mean: 0.82379, std: 0.03178, params: {'class_weight': None, 'criterion': 'entropy', 'max_depth': 10, 'max_features': None, 'max_leaf_nodes': 40, 'min_samples_leaf': 9, 'presort': False},\n",
       " mean: 0.82379, std: 0.03861, params: {'class_weight': None, 'criterion': 'entropy', 'max_depth': 10, 'max_features': None, 'max_leaf_nodes': 60, 'min_samples_leaf': 7, 'presort': False},\n",
       " mean: 0.82379, std: 0.02714, params: {'class_weight': None, 'criterion': 'entropy', 'max_depth': 10, 'max_features': None, 'max_leaf_nodes': 60, 'min_samples_leaf': 10, 'presort': False},\n",
       " mean: 0.82379, std: 0.02885, params: {'class_weight': None, 'criterion': 'entropy', 'max_depth': 10, 'max_features': None, 'max_leaf_nodes': 70, 'min_samples_leaf': 9, 'presort': False},\n",
       " mean: 0.82379, std: 0.04821, params: {'class_weight': None, 'criterion': 'entropy', 'max_depth': 10, 'max_features': None, 'max_leaf_nodes': 80, 'min_samples_leaf': 5, 'presort': False},\n",
       " mean: 0.82379, std: 0.03520, params: {'class_weight': None, 'criterion': 'entropy', 'max_depth': 10, 'max_features': None, 'max_leaf_nodes': 90, 'min_samples_leaf': 6, 'presort': False},\n",
       " mean: 0.82379, std: 0.02714, params: {'class_weight': None, 'criterion': 'entropy', 'max_depth': 10, 'max_features': None, 'max_leaf_nodes': 90, 'min_samples_leaf': 10, 'presort': False},\n",
       " mean: 0.82379, std: 0.03694, params: {'class_weight': None, 'criterion': 'entropy', 'max_depth': 11, 'max_features': None, 'max_leaf_nodes': 30, 'min_samples_leaf': 8, 'presort': False},\n",
       " mean: 0.82379, std: 0.02779, params: {'class_weight': None, 'criterion': 'entropy', 'max_depth': 11, 'max_features': None, 'max_leaf_nodes': 40, 'min_samples_leaf': 10, 'presort': False},\n",
       " mean: 0.82379, std: 0.04730, params: {'class_weight': None, 'criterion': 'entropy', 'max_depth': 11, 'max_features': None, 'max_leaf_nodes': 90, 'min_samples_leaf': 5, 'presort': False},\n",
       " mean: 0.82379, std: 0.02714, params: {'class_weight': None, 'criterion': 'entropy', 'max_depth': 11, 'max_features': None, 'max_leaf_nodes': 90, 'min_samples_leaf': 10, 'presort': False},\n",
       " mean: 0.82379, std: 0.02975, params: {'class_weight': None, 'criterion': 'entropy', 'max_depth': 12, 'max_features': None, 'max_leaf_nodes': 20, 'min_samples_leaf': 5, 'presort': False},\n",
       " mean: 0.82379, std: 0.03694, params: {'class_weight': None, 'criterion': 'entropy', 'max_depth': 12, 'max_features': None, 'max_leaf_nodes': 30, 'min_samples_leaf': 8, 'presort': False},\n",
       " mean: 0.82379, std: 0.04198, params: {'class_weight': None, 'criterion': 'entropy', 'max_depth': 12, 'max_features': None, 'max_leaf_nodes': 50, 'min_samples_leaf': 7, 'presort': False},\n",
       " mean: 0.82379, std: 0.02885, params: {'class_weight': None, 'criterion': 'entropy', 'max_depth': 12, 'max_features': None, 'max_leaf_nodes': 80, 'min_samples_leaf': 9, 'presort': False},\n",
       " mean: 0.82379, std: 0.03694, params: {'class_weight': None, 'criterion': 'entropy', 'max_depth': 13, 'max_features': None, 'max_leaf_nodes': 30, 'min_samples_leaf': 8, 'presort': False},\n",
       " mean: 0.82379, std: 0.03021, params: {'class_weight': None, 'criterion': 'entropy', 'max_depth': 13, 'max_features': None, 'max_leaf_nodes': 40, 'min_samples_leaf': 2, 'presort': False},\n",
       " mean: 0.82379, std: 0.04198, params: {'class_weight': None, 'criterion': 'entropy', 'max_depth': 13, 'max_features': None, 'max_leaf_nodes': 50, 'min_samples_leaf': 7, 'presort': False},\n",
       " mean: 0.82379, std: 0.03288, params: {'class_weight': None, 'criterion': 'entropy', 'max_depth': 13, 'max_features': None, 'max_leaf_nodes': 90, 'min_samples_leaf': 6, 'presort': False},\n",
       " mean: 0.82379, std: 0.03861, params: {'class_weight': None, 'criterion': 'entropy', 'max_depth': 13, 'max_features': None, 'max_leaf_nodes': 90, 'min_samples_leaf': 7, 'presort': False},\n",
       " mean: 0.82379, std: 0.02714, params: {'class_weight': None, 'criterion': 'entropy', 'max_depth': 13, 'max_features': None, 'max_leaf_nodes': 90, 'min_samples_leaf': 10, 'presort': False},\n",
       " mean: 0.82379, std: 0.02975, params: {'class_weight': None, 'criterion': 'entropy', 'max_depth': 14, 'max_features': None, 'max_leaf_nodes': 20, 'min_samples_leaf': 5, 'presort': False},\n",
       " mean: 0.82379, std: 0.03891, params: {'class_weight': None, 'criterion': 'entropy', 'max_depth': 14, 'max_features': None, 'max_leaf_nodes': 30, 'min_samples_leaf': 4, 'presort': False},\n",
       " mean: 0.82379, std: 0.03694, params: {'class_weight': None, 'criterion': 'entropy', 'max_depth': 14, 'max_features': None, 'max_leaf_nodes': 30, 'min_samples_leaf': 8, 'presort': False},\n",
       " mean: 0.82379, std: 0.03214, params: {'class_weight': None, 'criterion': 'entropy', 'max_depth': 14, 'max_features': None, 'max_leaf_nodes': 40, 'min_samples_leaf': 2, 'presort': False},\n",
       " mean: 0.82379, std: 0.02779, params: {'class_weight': None, 'criterion': 'entropy', 'max_depth': 14, 'max_features': None, 'max_leaf_nodes': 40, 'min_samples_leaf': 10, 'presort': False},\n",
       " mean: 0.82379, std: 0.04389, params: {'class_weight': None, 'criterion': 'entropy', 'max_depth': 14, 'max_features': None, 'max_leaf_nodes': 50, 'min_samples_leaf': 5, 'presort': False},\n",
       " mean: 0.82379, std: 0.04198, params: {'class_weight': None, 'criterion': 'entropy', 'max_depth': 14, 'max_features': None, 'max_leaf_nodes': 50, 'min_samples_leaf': 7, 'presort': False},\n",
       " mean: 0.82379, std: 0.02714, params: {'class_weight': None, 'criterion': 'entropy', 'max_depth': 14, 'max_features': None, 'max_leaf_nodes': 60, 'min_samples_leaf': 10, 'presort': False},\n",
       " mean: 0.82379, std: 0.03861, params: {'class_weight': None, 'criterion': 'entropy', 'max_depth': 14, 'max_features': None, 'max_leaf_nodes': 70, 'min_samples_leaf': 7, 'presort': False},\n",
       " mean: 0.82267, std: 0.03151, params: {'class_weight': None, 'criterion': 'entropy', 'max_depth': 4, 'max_features': None, 'max_leaf_nodes': 10, 'min_samples_leaf': 1, 'presort': False},\n",
       " mean: 0.82267, std: 0.03151, params: {'class_weight': None, 'criterion': 'entropy', 'max_depth': 4, 'max_features': None, 'max_leaf_nodes': 10, 'min_samples_leaf': 2, 'presort': False},\n",
       " mean: 0.82267, std: 0.03151, params: {'class_weight': None, 'criterion': 'entropy', 'max_depth': 4, 'max_features': None, 'max_leaf_nodes': 10, 'min_samples_leaf': 3, 'presort': False},\n",
       " mean: 0.82267, std: 0.03151, params: {'class_weight': None, 'criterion': 'entropy', 'max_depth': 4, 'max_features': None, 'max_leaf_nodes': 10, 'min_samples_leaf': 4, 'presort': False},\n",
       " mean: 0.82267, std: 0.02985, params: {'class_weight': None, 'criterion': 'entropy', 'max_depth': 5, 'max_features': None, 'max_leaf_nodes': 50, 'min_samples_leaf': 9, 'presort': False},\n",
       " mean: 0.82267, std: 0.02985, params: {'class_weight': None, 'criterion': 'entropy', 'max_depth': 5, 'max_features': None, 'max_leaf_nodes': 60, 'min_samples_leaf': 9, 'presort': False},\n",
       " mean: 0.82267, std: 0.02985, params: {'class_weight': None, 'criterion': 'entropy', 'max_depth': 5, 'max_features': None, 'max_leaf_nodes': 70, 'min_samples_leaf': 9, 'presort': False},\n",
       " mean: 0.82267, std: 0.03888, params: {'class_weight': None, 'criterion': 'entropy', 'max_depth': 6, 'max_features': None, 'max_leaf_nodes': 30, 'min_samples_leaf': 2, 'presort': False},\n",
       " mean: 0.82267, std: 0.03966, params: {'class_weight': None, 'criterion': 'entropy', 'max_depth': 6, 'max_features': None, 'max_leaf_nodes': 40, 'min_samples_leaf': 3, 'presort': False},\n",
       " mean: 0.82267, std: 0.04531, params: {'class_weight': None, 'criterion': 'entropy', 'max_depth': 6, 'max_features': None, 'max_leaf_nodes': 60, 'min_samples_leaf': 1, 'presort': False},\n",
       " mean: 0.82267, std: 0.04622, params: {'class_weight': None, 'criterion': 'entropy', 'max_depth': 6, 'max_features': None, 'max_leaf_nodes': 70, 'min_samples_leaf': 1, 'presort': False},\n",
       " mean: 0.82267, std: 0.04586, params: {'class_weight': None, 'criterion': 'entropy', 'max_depth': 6, 'max_features': None, 'max_leaf_nodes': 80, 'min_samples_leaf': 1, 'presort': False},\n",
       " mean: 0.82267, std: 0.04774, params: {'class_weight': None, 'criterion': 'entropy', 'max_depth': 6, 'max_features': None, 'max_leaf_nodes': 90, 'min_samples_leaf': 1, 'presort': False},\n",
       " mean: 0.82267, std: 0.04179, params: {'class_weight': None, 'criterion': 'entropy', 'max_depth': 7, 'max_features': None, 'max_leaf_nodes': 30, 'min_samples_leaf': 1, 'presort': False},\n",
       " mean: 0.82267, std: 0.03966, params: {'class_weight': None, 'criterion': 'entropy', 'max_depth': 7, 'max_features': None, 'max_leaf_nodes': 30, 'min_samples_leaf': 3, 'presort': False},\n",
       " mean: 0.82267, std: 0.03093, params: {'class_weight': None, 'criterion': 'entropy', 'max_depth': 7, 'max_features': None, 'max_leaf_nodes': 40, 'min_samples_leaf': 10, 'presort': False},\n",
       " mean: 0.82267, std: 0.02889, params: {'class_weight': None, 'criterion': 'entropy', 'max_depth': 7, 'max_features': None, 'max_leaf_nodes': 50, 'min_samples_leaf': 9, 'presort': False},\n",
       " mean: 0.82267, std: 0.03093, params: {'class_weight': None, 'criterion': 'entropy', 'max_depth': 7, 'max_features': None, 'max_leaf_nodes': 60, 'min_samples_leaf': 10, 'presort': False},\n",
       " mean: 0.82267, std: 0.02889, params: {'class_weight': None, 'criterion': 'entropy', 'max_depth': 7, 'max_features': None, 'max_leaf_nodes': 80, 'min_samples_leaf': 9, 'presort': False},\n",
       " mean: 0.82267, std: 0.02889, params: {'class_weight': None, 'criterion': 'entropy', 'max_depth': 7, 'max_features': None, 'max_leaf_nodes': 90, 'min_samples_leaf': 9, 'presort': False},\n",
       " mean: 0.82267, std: 0.03136, params: {'class_weight': None, 'criterion': 'entropy', 'max_depth': 8, 'max_features': None, 'max_leaf_nodes': 30, 'min_samples_leaf': 9, 'presort': False},\n",
       " mean: 0.82267, std: 0.03304, params: {'class_weight': None, 'criterion': 'entropy', 'max_depth': 8, 'max_features': None, 'max_leaf_nodes': 40, 'min_samples_leaf': 8, 'presort': False},\n",
       " mean: 0.82267, std: 0.04052, params: {'class_weight': None, 'criterion': 'entropy', 'max_depth': 8, 'max_features': None, 'max_leaf_nodes': 50, 'min_samples_leaf': 5, 'presort': False},\n",
       " mean: 0.82267, std: 0.03058, params: {'class_weight': None, 'criterion': 'entropy', 'max_depth': 8, 'max_features': None, 'max_leaf_nodes': 50, 'min_samples_leaf': 9, 'presort': False},\n",
       " mean: 0.82267, std: 0.03058, params: {'class_weight': None, 'criterion': 'entropy', 'max_depth': 8, 'max_features': None, 'max_leaf_nodes': 70, 'min_samples_leaf': 9, 'presort': False},\n",
       " mean: 0.82267, std: 0.03254, params: {'class_weight': None, 'criterion': 'entropy', 'max_depth': 8, 'max_features': None, 'max_leaf_nodes': 80, 'min_samples_leaf': 9, 'presort': False},\n",
       " mean: 0.82267, std: 0.03016, params: {'class_weight': None, 'criterion': 'entropy', 'max_depth': 9, 'max_features': None, 'max_leaf_nodes': 30, 'min_samples_leaf': 9, 'presort': False},\n",
       " mean: 0.82267, std: 0.03848, params: {'class_weight': None, 'criterion': 'entropy', 'max_depth': 9, 'max_features': None, 'max_leaf_nodes': 30, 'min_samples_leaf': 11, 'presort': False},\n",
       " mean: 0.82267, std: 0.02753, params: {'class_weight': None, 'criterion': 'entropy', 'max_depth': 9, 'max_features': None, 'max_leaf_nodes': 40, 'min_samples_leaf': 11, 'presort': False},\n",
       " mean: 0.82267, std: 0.03359, params: {'class_weight': None, 'criterion': 'entropy', 'max_depth': 9, 'max_features': None, 'max_leaf_nodes': 50, 'min_samples_leaf': 8, 'presort': False},\n",
       " mean: 0.82267, std: 0.03359, params: {'class_weight': None, 'criterion': 'entropy', 'max_depth': 9, 'max_features': None, 'max_leaf_nodes': 60, 'min_samples_leaf': 8, 'presort': False},\n",
       " mean: 0.82267, std: 0.03359, params: {'class_weight': None, 'criterion': 'entropy', 'max_depth': 9, 'max_features': None, 'max_leaf_nodes': 70, 'min_samples_leaf': 8, 'presort': False},\n",
       " mean: 0.82267, std: 0.02762, params: {'class_weight': None, 'criterion': 'entropy', 'max_depth': 9, 'max_features': None, 'max_leaf_nodes': 70, 'min_samples_leaf': 9, 'presort': False},\n",
       " mean: 0.82267, std: 0.03359, params: {'class_weight': None, 'criterion': 'entropy', 'max_depth': 9, 'max_features': None, 'max_leaf_nodes': 80, 'min_samples_leaf': 8, 'presort': False},\n",
       " mean: 0.82267, std: 0.03359, params: {'class_weight': None, 'criterion': 'entropy', 'max_depth': 9, 'max_features': None, 'max_leaf_nodes': 90, 'min_samples_leaf': 8, 'presort': False},\n",
       " mean: 0.82267, std: 0.03037, params: {'class_weight': None, 'criterion': 'entropy', 'max_depth': 9, 'max_features': None, 'max_leaf_nodes': 90, 'min_samples_leaf': 9, 'presort': False},\n",
       " mean: 0.82267, std: 0.03572, params: {'class_weight': None, 'criterion': 'entropy', 'max_depth': 10, 'max_features': None, 'max_leaf_nodes': 20, 'min_samples_leaf': 1, 'presort': False},\n",
       " mean: 0.82267, std: 0.03407, params: {'class_weight': None, 'criterion': 'entropy', 'max_depth': 10, 'max_features': None, 'max_leaf_nodes': 30, 'min_samples_leaf': 2, 'presort': False},\n",
       " mean: 0.82267, std: 0.02753, params: {'class_weight': None, 'criterion': 'entropy', 'max_depth': 10, 'max_features': None, 'max_leaf_nodes': 40, 'min_samples_leaf': 11, 'presort': False},\n",
       " mean: 0.82267, std: 0.03359, params: {'class_weight': None, 'criterion': 'entropy', 'max_depth': 10, 'max_features': None, 'max_leaf_nodes': 60, 'min_samples_leaf': 8, 'presort': False},\n",
       " mean: 0.82267, std: 0.03803, params: {'class_weight': None, 'criterion': 'entropy', 'max_depth': 10, 'max_features': None, 'max_leaf_nodes': 70, 'min_samples_leaf': 6, 'presort': False},\n",
       " mean: 0.82267, std: 0.03359, params: {'class_weight': None, 'criterion': 'entropy', 'max_depth': 10, 'max_features': None, 'max_leaf_nodes': 70, 'min_samples_leaf': 8, 'presort': False},\n",
       " mean: 0.82267, std: 0.03359, params: {'class_weight': None, 'criterion': 'entropy', 'max_depth': 10, 'max_features': None, 'max_leaf_nodes': 80, 'min_samples_leaf': 8, 'presort': False},\n",
       " mean: 0.82267, std: 0.03359, params: {'class_weight': None, 'criterion': 'entropy', 'max_depth': 10, 'max_features': None, 'max_leaf_nodes': 90, 'min_samples_leaf': 8, 'presort': False},\n",
       " mean: 0.82267, std: 0.03572, params: {'class_weight': None, 'criterion': 'entropy', 'max_depth': 11, 'max_features': None, 'max_leaf_nodes': 20, 'min_samples_leaf': 1, 'presort': False},\n",
       " mean: 0.82267, std: 0.03658, params: {'class_weight': None, 'criterion': 'entropy', 'max_depth': 11, 'max_features': None, 'max_leaf_nodes': 30, 'min_samples_leaf': 2, 'presort': False},\n",
       " mean: 0.82267, std: 0.03848, params: {'class_weight': None, 'criterion': 'entropy', 'max_depth': 11, 'max_features': None, 'max_leaf_nodes': 30, 'min_samples_leaf': 11, 'presort': False},\n",
       " mean: 0.82267, std: 0.03252, params: {'class_weight': None, 'criterion': 'entropy', 'max_depth': 11, 'max_features': None, 'max_leaf_nodes': 40, 'min_samples_leaf': 7, 'presort': False},\n",
       " mean: 0.82267, std: 0.02753, params: {'class_weight': None, 'criterion': 'entropy', 'max_depth': 11, 'max_features': None, 'max_leaf_nodes': 40, 'min_samples_leaf': 11, 'presort': False},\n",
       " mean: 0.82267, std: 0.04324, params: {'class_weight': None, 'criterion': 'entropy', 'max_depth': 11, 'max_features': None, 'max_leaf_nodes': 50, 'min_samples_leaf': 7, 'presort': False},\n",
       " mean: 0.82267, std: 0.03037, params: {'class_weight': None, 'criterion': 'entropy', 'max_depth': 11, 'max_features': None, 'max_leaf_nodes': 50, 'min_samples_leaf': 9, 'presort': False},\n",
       " mean: 0.82267, std: 0.03359, params: {'class_weight': None, 'criterion': 'entropy', 'max_depth': 11, 'max_features': None, 'max_leaf_nodes': 60, 'min_samples_leaf': 8, 'presort': False},\n",
       " mean: 0.82267, std: 0.03359, params: {'class_weight': None, 'criterion': 'entropy', 'max_depth': 11, 'max_features': None, 'max_leaf_nodes': 70, 'min_samples_leaf': 8, 'presort': False},\n",
       " mean: 0.82267, std: 0.02513, params: {'class_weight': None, 'criterion': 'entropy', 'max_depth': 11, 'max_features': None, 'max_leaf_nodes': 70, 'min_samples_leaf': 10, 'presort': False},\n",
       " mean: 0.82267, std: 0.05022, params: {'class_weight': None, 'criterion': 'entropy', 'max_depth': 11, 'max_features': None, 'max_leaf_nodes': 80, 'min_samples_leaf': 5, 'presort': False},\n",
       " mean: 0.82267, std: 0.03359, params: {'class_weight': None, 'criterion': 'entropy', 'max_depth': 11, 'max_features': None, 'max_leaf_nodes': 80, 'min_samples_leaf': 8, 'presort': False},\n",
       " mean: 0.82267, std: 0.03037, params: {'class_weight': None, 'criterion': 'entropy', 'max_depth': 11, 'max_features': None, 'max_leaf_nodes': 80, 'min_samples_leaf': 9, 'presort': False},\n",
       " mean: 0.82267, std: 0.03359, params: {'class_weight': None, 'criterion': 'entropy', 'max_depth': 11, 'max_features': None, 'max_leaf_nodes': 90, 'min_samples_leaf': 8, 'presort': False},\n",
       " mean: 0.82267, std: 0.03572, params: {'class_weight': None, 'criterion': 'entropy', 'max_depth': 12, 'max_features': None, 'max_leaf_nodes': 20, 'min_samples_leaf': 1, 'presort': False},\n",
       " mean: 0.82267, std: 0.03658, params: {'class_weight': None, 'criterion': 'entropy', 'max_depth': 12, 'max_features': None, 'max_leaf_nodes': 30, 'min_samples_leaf': 2, 'presort': False},\n",
       " mean: 0.82267, std: 0.02753, params: {'class_weight': None, 'criterion': 'entropy', 'max_depth': 12, 'max_features': None, 'max_leaf_nodes': 40, 'min_samples_leaf': 11, 'presort': False},\n",
       " mean: 0.82267, std: 0.03037, params: {'class_weight': None, 'criterion': 'entropy', 'max_depth': 12, 'max_features': None, 'max_leaf_nodes': 50, 'min_samples_leaf': 9, 'presort': False},\n",
       " mean: 0.82267, std: 0.03359, params: {'class_weight': None, 'criterion': 'entropy', 'max_depth': 12, 'max_features': None, 'max_leaf_nodes': 60, 'min_samples_leaf': 8, 'presort': False},\n",
       " mean: 0.82267, std: 0.03420, params: {'class_weight': None, 'criterion': 'entropy', 'max_depth': 12, 'max_features': None, 'max_leaf_nodes': 70, 'min_samples_leaf': 6, 'presort': False},\n",
       " mean: 0.82267, std: 0.03359, params: {'class_weight': None, 'criterion': 'entropy', 'max_depth': 12, 'max_features': None, 'max_leaf_nodes': 70, 'min_samples_leaf': 8, 'presort': False},\n",
       " mean: 0.82267, std: 0.03037, params: {'class_weight': None, 'criterion': 'entropy', 'max_depth': 12, 'max_features': None, 'max_leaf_nodes': 70, 'min_samples_leaf': 9, 'presort': False},\n",
       " mean: 0.82267, std: 0.04082, params: {'class_weight': None, 'criterion': 'entropy', 'max_depth': 12, 'max_features': None, 'max_leaf_nodes': 80, 'min_samples_leaf': 5, 'presort': False},\n",
       " mean: 0.82267, std: 0.03359, params: {'class_weight': None, 'criterion': 'entropy', 'max_depth': 12, 'max_features': None, 'max_leaf_nodes': 80, 'min_samples_leaf': 8, 'presort': False},\n",
       " mean: 0.82267, std: 0.02513, params: {'class_weight': None, 'criterion': 'entropy', 'max_depth': 12, 'max_features': None, 'max_leaf_nodes': 80, 'min_samples_leaf': 10, 'presort': False},\n",
       " mean: 0.82267, std: 0.03359, params: {'class_weight': None, 'criterion': 'entropy', 'max_depth': 12, 'max_features': None, 'max_leaf_nodes': 90, 'min_samples_leaf': 8, 'presort': False},\n",
       " mean: 0.82267, std: 0.03037, params: {'class_weight': None, 'criterion': 'entropy', 'max_depth': 12, 'max_features': None, 'max_leaf_nodes': 90, 'min_samples_leaf': 9, 'presort': False},\n",
       " mean: 0.82267, std: 0.03016, params: {'class_weight': None, 'criterion': 'entropy', 'max_depth': 13, 'max_features': None, 'max_leaf_nodes': 30, 'min_samples_leaf': 9, 'presort': False},\n",
       " mean: 0.82267, std: 0.03848, params: {'class_weight': None, 'criterion': 'entropy', 'max_depth': 13, 'max_features': None, 'max_leaf_nodes': 30, 'min_samples_leaf': 11, 'presort': False},\n",
       " mean: 0.82267, std: 0.02998, params: {'class_weight': None, 'criterion': 'entropy', 'max_depth': 13, 'max_features': None, 'max_leaf_nodes': 40, 'min_samples_leaf': 9, 'presort': False},\n",
       " mean: 0.82267, std: 0.03359, params: {'class_weight': None, 'criterion': 'entropy', 'max_depth': 13, 'max_features': None, 'max_leaf_nodes': 60, 'min_samples_leaf': 8, 'presort': False},\n",
       " mean: 0.82267, std: 0.03725, params: {'class_weight': None, 'criterion': 'entropy', 'max_depth': 13, 'max_features': None, 'max_leaf_nodes': 70, 'min_samples_leaf': 7, 'presort': False},\n",
       " mean: 0.82267, std: 0.03359, params: {'class_weight': None, 'criterion': 'entropy', 'max_depth': 13, 'max_features': None, 'max_leaf_nodes': 70, 'min_samples_leaf': 8, 'presort': False},\n",
       " mean: 0.82267, std: 0.03359, params: {'class_weight': None, 'criterion': 'entropy', 'max_depth': 13, 'max_features': None, 'max_leaf_nodes': 80, 'min_samples_leaf': 8, 'presort': False},\n",
       " mean: 0.82267, std: 0.03359, params: {'class_weight': None, 'criterion': 'entropy', 'max_depth': 13, 'max_features': None, 'max_leaf_nodes': 90, 'min_samples_leaf': 8, 'presort': False},\n",
       " mean: 0.82267, std: 0.03658, params: {'class_weight': None, 'criterion': 'entropy', 'max_depth': 14, 'max_features': None, 'max_leaf_nodes': 30, 'min_samples_leaf': 2, 'presort': False},\n",
       " mean: 0.82267, std: 0.03326, params: {'class_weight': None, 'criterion': 'entropy', 'max_depth': 14, 'max_features': None, 'max_leaf_nodes': 30, 'min_samples_leaf': 5, 'presort': False},\n",
       " mean: 0.82267, std: 0.03848, params: {'class_weight': None, 'criterion': 'entropy', 'max_depth': 14, 'max_features': None, 'max_leaf_nodes': 30, 'min_samples_leaf': 11, 'presort': False},\n",
       " mean: 0.82267, std: 0.03252, params: {'class_weight': None, 'criterion': 'entropy', 'max_depth': 14, 'max_features': None, 'max_leaf_nodes': 40, 'min_samples_leaf': 7, 'presort': False},\n",
       " mean: 0.82267, std: 0.02753, params: {'class_weight': None, 'criterion': 'entropy', 'max_depth': 14, 'max_features': None, 'max_leaf_nodes': 40, 'min_samples_leaf': 11, 'presort': False},\n",
       " mean: 0.82267, std: 0.03359, params: {'class_weight': None, 'criterion': 'entropy', 'max_depth': 14, 'max_features': None, 'max_leaf_nodes': 60, 'min_samples_leaf': 8, 'presort': False},\n",
       " mean: 0.82267, std: 0.03359, params: {'class_weight': None, 'criterion': 'entropy', 'max_depth': 14, 'max_features': None, 'max_leaf_nodes': 70, 'min_samples_leaf': 8, 'presort': False},\n",
       " mean: 0.82267, std: 0.04212, params: {'class_weight': None, 'criterion': 'entropy', 'max_depth': 14, 'max_features': None, 'max_leaf_nodes': 80, 'min_samples_leaf': 5, 'presort': False},\n",
       " mean: 0.82267, std: 0.03359, params: {'class_weight': None, 'criterion': 'entropy', 'max_depth': 14, 'max_features': None, 'max_leaf_nodes': 80, 'min_samples_leaf': 8, 'presort': False},\n",
       " mean: 0.82267, std: 0.02762, params: {'class_weight': None, 'criterion': 'entropy', 'max_depth': 14, 'max_features': None, 'max_leaf_nodes': 80, 'min_samples_leaf': 9, 'presort': False},\n",
       " mean: 0.82267, std: 0.03420, params: {'class_weight': None, 'criterion': 'entropy', 'max_depth': 14, 'max_features': None, 'max_leaf_nodes': 90, 'min_samples_leaf': 6, 'presort': False},\n",
       " mean: 0.82267, std: 0.03359, params: {'class_weight': None, 'criterion': 'entropy', 'max_depth': 14, 'max_features': None, 'max_leaf_nodes': 90, 'min_samples_leaf': 8, 'presort': False},\n",
       " mean: 0.82155, std: 0.04098, params: {'class_weight': None, 'criterion': 'entropy', 'max_depth': 6, 'max_features': None, 'max_leaf_nodes': 40, 'min_samples_leaf': 1, 'presort': False},\n",
       " mean: 0.82155, std: 0.04436, params: {'class_weight': None, 'criterion': 'entropy', 'max_depth': 6, 'max_features': None, 'max_leaf_nodes': 80, 'min_samples_leaf': 3, 'presort': False},\n",
       " mean: 0.82155, std: 0.03310, params: {'class_weight': None, 'criterion': 'entropy', 'max_depth': 7, 'max_features': None, 'max_leaf_nodes': 20, 'min_samples_leaf': 4, 'presort': False},\n",
       " mean: 0.82155, std: 0.04521, params: {'class_weight': None, 'criterion': 'entropy', 'max_depth': 7, 'max_features': None, 'max_leaf_nodes': 50, 'min_samples_leaf': 1, 'presort': False},\n",
       " mean: 0.82155, std: 0.04370, params: {'class_weight': None, 'criterion': 'entropy', 'max_depth': 7, 'max_features': None, 'max_leaf_nodes': 80, 'min_samples_leaf': 3, 'presort': False},\n",
       " mean: 0.82155, std: 0.02642, params: {'class_weight': None, 'criterion': 'entropy', 'max_depth': 7, 'max_features': None, 'max_leaf_nodes': 90, 'min_samples_leaf': 11, 'presort': False},\n",
       " mean: 0.82155, std: 0.03662, params: {'class_weight': None, 'criterion': 'entropy', 'max_depth': 8, 'max_features': None, 'max_leaf_nodes': 20, 'min_samples_leaf': 1, 'presort': False},\n",
       " mean: 0.82155, std: 0.03490, params: {'class_weight': None, 'criterion': 'entropy', 'max_depth': 8, 'max_features': None, 'max_leaf_nodes': 20, 'min_samples_leaf': 2, 'presort': False},\n",
       " mean: 0.82155, std: 0.03816, params: {'class_weight': None, 'criterion': 'entropy', 'max_depth': 8, 'max_features': None, 'max_leaf_nodes': 30, 'min_samples_leaf': 4, 'presort': False},\n",
       " mean: 0.82155, std: 0.02907, params: {'class_weight': None, 'criterion': 'entropy', 'max_depth': 8, 'max_features': None, 'max_leaf_nodes': 40, 'min_samples_leaf': 9, 'presort': False},\n",
       " mean: 0.82155, std: 0.04638, params: {'class_weight': None, 'criterion': 'entropy', 'max_depth': 8, 'max_features': None, 'max_leaf_nodes': 50, 'min_samples_leaf': 1, 'presort': False},\n",
       " mean: 0.82155, std: 0.03415, params: {'class_weight': None, 'criterion': 'entropy', 'max_depth': 9, 'max_features': None, 'max_leaf_nodes': 20, 'min_samples_leaf': 1, 'presort': False},\n",
       " mean: 0.82155, std: 0.03490, params: {'class_weight': None, 'criterion': 'entropy', 'max_depth': 9, 'max_features': None, 'max_leaf_nodes': 20, 'min_samples_leaf': 2, 'presort': False},\n",
       " mean: 0.82155, std: 0.03487, params: {'class_weight': None, 'criterion': 'entropy', 'max_depth': 9, 'max_features': None, 'max_leaf_nodes': 20, 'min_samples_leaf': 3, 'presort': False},\n",
       " mean: 0.82155, std: 0.03752, params: {'class_weight': None, 'criterion': 'entropy', 'max_depth': 9, 'max_features': None, 'max_leaf_nodes': 30, 'min_samples_leaf': 2, 'presort': False},\n",
       " mean: 0.82155, std: 0.03523, params: {'class_weight': None, 'criterion': 'entropy', 'max_depth': 9, 'max_features': None, 'max_leaf_nodes': 30, 'min_samples_leaf': 12, 'presort': False},\n",
       " mean: 0.82155, std: 0.03530, params: {'class_weight': None, 'criterion': 'entropy', 'max_depth': 9, 'max_features': None, 'max_leaf_nodes': 40, 'min_samples_leaf': 2, 'presort': False},\n",
       " mean: 0.82155, std: 0.02661, params: {'class_weight': None, 'criterion': 'entropy', 'max_depth': 9, 'max_features': None, 'max_leaf_nodes': 40, 'min_samples_leaf': 9, 'presort': False},\n",
       " mean: 0.82155, std: 0.03695, params: {'class_weight': None, 'criterion': 'entropy', 'max_depth': 9, 'max_features': None, 'max_leaf_nodes': 50, 'min_samples_leaf': 2, 'presort': False},\n",
       " mean: 0.82155, std: 0.03728, params: {'class_weight': None, 'criterion': 'entropy', 'max_depth': 9, 'max_features': None, 'max_leaf_nodes': 60, 'min_samples_leaf': 6, 'presort': False},\n",
       " mean: 0.82155, std: 0.04301, params: {'class_weight': None, 'criterion': 'entropy', 'max_depth': 9, 'max_features': None, 'max_leaf_nodes': 70, 'min_samples_leaf': 5, 'presort': False},\n",
       " mean: 0.82155, std: 0.02915, params: {'class_weight': None, 'criterion': 'entropy', 'max_depth': 9, 'max_features': None, 'max_leaf_nodes': 80, 'min_samples_leaf': 9, 'presort': False},\n",
       " mean: 0.82155, std: 0.02680, params: {'class_weight': None, 'criterion': 'entropy', 'max_depth': 9, 'max_features': None, 'max_leaf_nodes': 90, 'min_samples_leaf': 10, 'presort': False},\n",
       " mean: 0.82155, std: 0.03157, params: {'class_weight': None, 'criterion': 'entropy', 'max_depth': 10, 'max_features': None, 'max_leaf_nodes': 30, 'min_samples_leaf': 9, 'presort': False},\n",
       " mean: 0.82155, std: 0.03242, params: {'class_weight': None, 'criterion': 'entropy', 'max_depth': 10, 'max_features': None, 'max_leaf_nodes': 40, 'min_samples_leaf': 1, 'presort': False},\n",
       " mean: 0.82155, std: 0.04100, params: {'class_weight': None, 'criterion': 'entropy', 'max_depth': 10, 'max_features': None, 'max_leaf_nodes': 40, 'min_samples_leaf': 3, 'presort': False},\n",
       " mean: 0.82155, std: 0.04037, params: {'class_weight': None, 'criterion': 'entropy', 'max_depth': 10, 'max_features': None, 'max_leaf_nodes': 50, 'min_samples_leaf': 6, 'presort': False},\n",
       " mean: 0.82155, std: 0.04218, params: {'class_weight': None, 'criterion': 'entropy', 'max_depth': 10, 'max_features': None, 'max_leaf_nodes': 50, 'min_samples_leaf': 7, 'presort': False},\n",
       " mean: 0.82155, std: 0.02915, params: {'class_weight': None, 'criterion': 'entropy', 'max_depth': 10, 'max_features': None, 'max_leaf_nodes': 80, 'min_samples_leaf': 9, 'presort': False},\n",
       " mean: 0.82155, std: 0.03611, params: {'class_weight': None, 'criterion': 'entropy', 'max_depth': 11, 'max_features': None, 'max_leaf_nodes': 30, 'min_samples_leaf': 5, 'presort': False},\n",
       " mean: 0.82155, std: 0.03157, params: {'class_weight': None, 'criterion': 'entropy', 'max_depth': 11, 'max_features': None, 'max_leaf_nodes': 30, 'min_samples_leaf': 9, 'presort': False},\n",
       " mean: 0.82155, std: 0.03747, params: {'class_weight': None, 'criterion': 'entropy', 'max_depth': 11, 'max_features': None, 'max_leaf_nodes': 50, 'min_samples_leaf': 1, 'presort': False},\n",
       " mean: 0.82155, std: 0.03487, params: {'class_weight': None, 'criterion': 'entropy', 'max_depth': 12, 'max_features': None, 'max_leaf_nodes': 20, 'min_samples_leaf': 3, 'presort': False},\n",
       " mean: 0.82155, std: 0.03157, params: {'class_weight': None, 'criterion': 'entropy', 'max_depth': 12, 'max_features': None, 'max_leaf_nodes': 30, 'min_samples_leaf': 9, 'presort': False},\n",
       " mean: 0.82155, std: 0.03140, params: {'class_weight': None, 'criterion': 'entropy', 'max_depth': 12, 'max_features': None, 'max_leaf_nodes': 40, 'min_samples_leaf': 9, 'presort': False},\n",
       " mean: 0.82155, std: 0.03415, params: {'class_weight': None, 'criterion': 'entropy', 'max_depth': 13, 'max_features': None, 'max_leaf_nodes': 20, 'min_samples_leaf': 1, 'presort': False},\n",
       " mean: 0.82155, std: 0.03487, params: {'class_weight': None, 'criterion': 'entropy', 'max_depth': 13, 'max_features': None, 'max_leaf_nodes': 20, 'min_samples_leaf': 3, 'presort': False},\n",
       " mean: 0.82155, std: 0.03483, params: {'class_weight': None, 'criterion': 'entropy', 'max_depth': 13, 'max_features': None, 'max_leaf_nodes': 30, 'min_samples_leaf': 2, 'presort': False},\n",
       " mean: 0.82155, std: 0.03242, params: {'class_weight': None, 'criterion': 'entropy', 'max_depth': 13, 'max_features': None, 'max_leaf_nodes': 50, 'min_samples_leaf': 2, 'presort': False},\n",
       " mean: 0.82155, std: 0.03500, params: {'class_weight': None, 'criterion': 'entropy', 'max_depth': 13, 'max_features': None, 'max_leaf_nodes': 50, 'min_samples_leaf': 8, 'presort': False},\n",
       " mean: 0.82155, std: 0.02915, params: {'class_weight': None, 'criterion': 'entropy', 'max_depth': 13, 'max_features': None, 'max_leaf_nodes': 50, 'min_samples_leaf': 9, 'presort': False},\n",
       " mean: 0.82155, std: 0.03415, params: {'class_weight': None, 'criterion': 'entropy', 'max_depth': 14, 'max_features': None, 'max_leaf_nodes': 20, 'min_samples_leaf': 1, 'presort': False},\n",
       " mean: 0.82155, std: 0.03487, params: {'class_weight': None, 'criterion': 'entropy', 'max_depth': 14, 'max_features': None, 'max_leaf_nodes': 20, 'min_samples_leaf': 3, 'presort': False},\n",
       " mean: 0.82155, std: 0.03157, params: {'class_weight': None, 'criterion': 'entropy', 'max_depth': 14, 'max_features': None, 'max_leaf_nodes': 30, 'min_samples_leaf': 9, 'presort': False},\n",
       " mean: 0.82155, std: 0.03140, params: {'class_weight': None, 'criterion': 'entropy', 'max_depth': 14, 'max_features': None, 'max_leaf_nodes': 40, 'min_samples_leaf': 9, 'presort': False},\n",
       " mean: 0.82155, std: 0.03500, params: {'class_weight': None, 'criterion': 'entropy', 'max_depth': 14, 'max_features': None, 'max_leaf_nodes': 50, 'min_samples_leaf': 8, 'presort': False},\n",
       " mean: 0.82043, std: 0.02937, params: {'class_weight': None, 'criterion': 'entropy', 'max_depth': 4, 'max_features': None, 'max_leaf_nodes': 10, 'min_samples_leaf': 7, 'presort': False},\n",
       " mean: 0.82043, std: 0.02937, params: {'class_weight': None, 'criterion': 'entropy', 'max_depth': 4, 'max_features': None, 'max_leaf_nodes': 10, 'min_samples_leaf': 8, 'presort': False},\n",
       " mean: 0.82043, std: 0.02957, params: {'class_weight': None, 'criterion': 'entropy', 'max_depth': 5, 'max_features': None, 'max_leaf_nodes': 10, 'min_samples_leaf': 7, 'presort': False},\n",
       " mean: 0.82043, std: 0.02957, params: {'class_weight': None, 'criterion': 'entropy', 'max_depth': 5, 'max_features': None, 'max_leaf_nodes': 10, 'min_samples_leaf': 8, 'presort': False},\n",
       " mean: 0.82043, std: 0.02959, params: {'class_weight': None, 'criterion': 'entropy', 'max_depth': 5, 'max_features': None, 'max_leaf_nodes': 20, 'min_samples_leaf': 9, 'presort': False},\n",
       " mean: 0.82043, std: 0.02957, params: {'class_weight': None, 'criterion': 'entropy', 'max_depth': 6, 'max_features': None, 'max_leaf_nodes': 10, 'min_samples_leaf': 7, 'presort': False},\n",
       " mean: 0.82043, std: 0.02957, params: {'class_weight': None, 'criterion': 'entropy', 'max_depth': 6, 'max_features': None, 'max_leaf_nodes': 10, 'min_samples_leaf': 8, 'presort': False},\n",
       " mean: 0.82043, std: 0.03940, params: {'class_weight': None, 'criterion': 'entropy', 'max_depth': 6, 'max_features': None, 'max_leaf_nodes': 20, 'min_samples_leaf': 1, 'presort': False},\n",
       " mean: 0.82043, std: 0.03832, params: {'class_weight': None, 'criterion': 'entropy', 'max_depth': 6, 'max_features': None, 'max_leaf_nodes': 20, 'min_samples_leaf': 2, 'presort': False},\n",
       " mean: 0.82043, std: 0.02128, params: {'class_weight': None, 'criterion': 'entropy', 'max_depth': 6, 'max_features': None, 'max_leaf_nodes': 30, 'min_samples_leaf': 11, 'presort': False},\n",
       " mean: 0.82043, std: 0.03408, params: {'class_weight': None, 'criterion': 'entropy', 'max_depth': 6, 'max_features': None, 'max_leaf_nodes': 30, 'min_samples_leaf': 12, 'presort': False},\n",
       " mean: 0.82043, std: 0.03408, params: {'class_weight': None, 'criterion': 'entropy', 'max_depth': 6, 'max_features': None, 'max_leaf_nodes': 40, 'min_samples_leaf': 12, 'presort': False},\n",
       " mean: 0.82043, std: 0.02128, params: {'class_weight': None, 'criterion': 'entropy', 'max_depth': 6, 'max_features': None, 'max_leaf_nodes': 60, 'min_samples_leaf': 11, 'presort': False},\n",
       " mean: 0.82043, std: 0.02128, params: {'class_weight': None, 'criterion': 'entropy', 'max_depth': 6, 'max_features': None, 'max_leaf_nodes': 70, 'min_samples_leaf': 11, 'presort': False},\n",
       " mean: 0.82043, std: 0.03408, params: {'class_weight': None, 'criterion': 'entropy', 'max_depth': 6, 'max_features': None, 'max_leaf_nodes': 90, 'min_samples_leaf': 12, 'presort': False},\n",
       " mean: 0.82043, std: 0.02957, params: {'class_weight': None, 'criterion': 'entropy', 'max_depth': 7, 'max_features': None, 'max_leaf_nodes': 10, 'min_samples_leaf': 7, 'presort': False},\n",
       " mean: 0.82043, std: 0.02957, params: {'class_weight': None, 'criterion': 'entropy', 'max_depth': 7, 'max_features': None, 'max_leaf_nodes': 10, 'min_samples_leaf': 8, 'presort': False},\n",
       " mean: 0.82043, std: 0.03380, params: {'class_weight': None, 'criterion': 'entropy', 'max_depth': 7, 'max_features': None, 'max_leaf_nodes': 20, 'min_samples_leaf': 6, 'presort': False},\n",
       " mean: 0.82043, std: 0.03117, params: {'class_weight': None, 'criterion': 'entropy', 'max_depth': 7, 'max_features': None, 'max_leaf_nodes': 30, 'min_samples_leaf': 6, 'presort': False},\n",
       " mean: 0.82043, std: 0.03901, params: {'class_weight': None, 'criterion': 'entropy', 'max_depth': 7, 'max_features': None, 'max_leaf_nodes': 40, 'min_samples_leaf': 4, 'presort': False},\n",
       " mean: 0.82043, std: 0.04202, params: {'class_weight': None, 'criterion': 'entropy', 'max_depth': 7, 'max_features': None, 'max_leaf_nodes': 70, 'min_samples_leaf': 3, 'presort': False},\n",
       " mean: 0.82043, std: 0.04539, params: {'class_weight': None, 'criterion': 'entropy', 'max_depth': 7, 'max_features': None, 'max_leaf_nodes': 90, 'min_samples_leaf': 3, 'presort': False},\n",
       " mean: 0.82043, std: 0.02957, params: {'class_weight': None, 'criterion': 'entropy', 'max_depth': 8, 'max_features': None, 'max_leaf_nodes': 10, 'min_samples_leaf': 7, 'presort': False},\n",
       " mean: 0.82043, std: 0.02957, params: {'class_weight': None, 'criterion': 'entropy', 'max_depth': 8, 'max_features': None, 'max_leaf_nodes': 10, 'min_samples_leaf': 8, 'presort': False},\n",
       " mean: 0.82043, std: 0.03378, params: {'class_weight': None, 'criterion': 'entropy', 'max_depth': 8, 'max_features': None, 'max_leaf_nodes': 20, 'min_samples_leaf': 3, 'presort': False},\n",
       " mean: 0.82043, std: 0.03380, params: {'class_weight': None, 'criterion': 'entropy', 'max_depth': 8, 'max_features': None, 'max_leaf_nodes': 20, 'min_samples_leaf': 6, 'presort': False},\n",
       " mean: 0.82043, std: 0.03800, params: {'class_weight': None, 'criterion': 'entropy', 'max_depth': 8, 'max_features': None, 'max_leaf_nodes': 40, 'min_samples_leaf': 5, 'presort': False},\n",
       " mean: 0.82043, std: 0.02839, params: {'class_weight': None, 'criterion': 'entropy', 'max_depth': 8, 'max_features': None, 'max_leaf_nodes': 60, 'min_samples_leaf': 9, 'presort': False},\n",
       " mean: 0.82043, std: 0.02957, params: {'class_weight': None, 'criterion': 'entropy', 'max_depth': 9, 'max_features': None, 'max_leaf_nodes': 10, 'min_samples_leaf': 7, 'presort': False},\n",
       " mean: 0.82043, std: 0.02957, params: {'class_weight': None, 'criterion': 'entropy', 'max_depth': 9, 'max_features': None, 'max_leaf_nodes': 10, 'min_samples_leaf': 8, 'presort': False},\n",
       " mean: 0.82043, std: 0.03380, params: {'class_weight': None, 'criterion': 'entropy', 'max_depth': 9, 'max_features': None, 'max_leaf_nodes': 20, 'min_samples_leaf': 6, 'presort': False},\n",
       " mean: 0.82043, std: 0.03365, params: {'class_weight': None, 'criterion': 'entropy', 'max_depth': 9, 'max_features': None, 'max_leaf_nodes': 40, 'min_samples_leaf': 8, 'presort': False},\n",
       " mean: 0.82043, std: 0.04161, params: {'class_weight': None, 'criterion': 'entropy', 'max_depth': 9, 'max_features': None, 'max_leaf_nodes': 50, 'min_samples_leaf': 6, 'presort': False},\n",
       " mean: 0.82043, std: 0.04256, params: {'class_weight': None, 'criterion': 'entropy', 'max_depth': 9, 'max_features': None, 'max_leaf_nodes': 80, 'min_samples_leaf': 5, 'presort': False},\n",
       " mean: 0.82043, std: 0.03626, params: {'class_weight': None, 'criterion': 'entropy', 'max_depth': 9, 'max_features': None, 'max_leaf_nodes': 90, 'min_samples_leaf': 6, 'presort': False},\n",
       " mean: 0.82043, std: 0.02957, params: {'class_weight': None, 'criterion': 'entropy', 'max_depth': 10, 'max_features': None, 'max_leaf_nodes': 10, 'min_samples_leaf': 7, 'presort': False},\n",
       " mean: 0.82043, std: 0.02957, params: {'class_weight': None, 'criterion': 'entropy', 'max_depth': 10, 'max_features': None, 'max_leaf_nodes': 10, 'min_samples_leaf': 8, 'presort': False},\n",
       " mean: 0.82043, std: 0.03407, params: {'class_weight': None, 'criterion': 'entropy', 'max_depth': 10, 'max_features': None, 'max_leaf_nodes': 20, 'min_samples_leaf': 2, 'presort': False},\n",
       " mean: 0.82043, std: 0.03378, params: {'class_weight': None, 'criterion': 'entropy', 'max_depth': 10, 'max_features': None, 'max_leaf_nodes': 20, 'min_samples_leaf': 3, 'presort': False},\n",
       " mean: 0.82043, std: 0.03380, params: {'class_weight': None, 'criterion': 'entropy', 'max_depth': 10, 'max_features': None, 'max_leaf_nodes': 20, 'min_samples_leaf': 6, 'presort': False},\n",
       " mean: 0.82043, std: 0.03365, params: {'class_weight': None, 'criterion': 'entropy', 'max_depth': 10, 'max_features': None, 'max_leaf_nodes': 40, 'min_samples_leaf': 8, 'presort': False},\n",
       " mean: 0.82043, std: 0.04689, params: {'class_weight': None, 'criterion': 'entropy', 'max_depth': 10, 'max_features': None, 'max_leaf_nodes': 60, 'min_samples_leaf': 1, 'presort': False},\n",
       " mean: 0.82043, std: 0.02957, params: {'class_weight': None, 'criterion': 'entropy', 'max_depth': 11, 'max_features': None, 'max_leaf_nodes': 10, 'min_samples_leaf': 7, 'presort': False},\n",
       " mean: 0.82043, std: 0.02957, params: {'class_weight': None, 'criterion': 'entropy', 'max_depth': 11, 'max_features': None, 'max_leaf_nodes': 10, 'min_samples_leaf': 8, 'presort': False},\n",
       " mean: 0.82043, std: 0.03407, params: {'class_weight': None, 'criterion': 'entropy', 'max_depth': 11, 'max_features': None, 'max_leaf_nodes': 20, 'min_samples_leaf': 2, 'presort': False},\n",
       " mean: 0.82043, std: 0.03378, params: {'class_weight': None, 'criterion': 'entropy', 'max_depth': 11, 'max_features': None, 'max_leaf_nodes': 20, 'min_samples_leaf': 3, 'presort': False},\n",
       " mean: 0.82043, std: 0.03380, params: {'class_weight': None, 'criterion': 'entropy', 'max_depth': 11, 'max_features': None, 'max_leaf_nodes': 20, 'min_samples_leaf': 6, 'presort': False},\n",
       " mean: 0.82043, std: 0.04092, params: {'class_weight': None, 'criterion': 'entropy', 'max_depth': 11, 'max_features': None, 'max_leaf_nodes': 40, 'min_samples_leaf': 5, 'presort': False},\n",
       " mean: 0.82043, std: 0.03365, params: {'class_weight': None, 'criterion': 'entropy', 'max_depth': 11, 'max_features': None, 'max_leaf_nodes': 40, 'min_samples_leaf': 8, 'presort': False},\n",
       " mean: 0.82043, std: 0.04136, params: {'class_weight': None, 'criterion': 'entropy', 'max_depth': 11, 'max_features': None, 'max_leaf_nodes': 50, 'min_samples_leaf': 5, 'presort': False},\n",
       " mean: 0.82043, std: 0.03650, params: {'class_weight': None, 'criterion': 'entropy', 'max_depth': 11, 'max_features': None, 'max_leaf_nodes': 60, 'min_samples_leaf': 6, 'presort': False},\n",
       " mean: 0.82043, std: 0.02957, params: {'class_weight': None, 'criterion': 'entropy', 'max_depth': 12, 'max_features': None, 'max_leaf_nodes': 10, 'min_samples_leaf': 7, 'presort': False},\n",
       " mean: 0.82043, std: 0.02957, params: {'class_weight': None, 'criterion': 'entropy', 'max_depth': 12, 'max_features': None, 'max_leaf_nodes': 10, 'min_samples_leaf': 8, 'presort': False},\n",
       " mean: 0.82043, std: 0.03407, params: {'class_weight': None, 'criterion': 'entropy', 'max_depth': 12, 'max_features': None, 'max_leaf_nodes': 20, 'min_samples_leaf': 2, 'presort': False},\n",
       " mean: 0.82043, std: 0.03380, params: {'class_weight': None, 'criterion': 'entropy', 'max_depth': 12, 'max_features': None, 'max_leaf_nodes': 20, 'min_samples_leaf': 6, 'presort': False},\n",
       " mean: 0.82043, std: 0.03365, params: {'class_weight': None, 'criterion': 'entropy', 'max_depth': 12, 'max_features': None, 'max_leaf_nodes': 40, 'min_samples_leaf': 8, 'presort': False},\n",
       " mean: 0.82043, std: 0.02957, params: {'class_weight': None, 'criterion': 'entropy', 'max_depth': 13, 'max_features': None, 'max_leaf_nodes': 10, 'min_samples_leaf': 7, 'presort': False},\n",
       " mean: 0.82043, std: 0.02957, params: {'class_weight': None, 'criterion': 'entropy', 'max_depth': 13, 'max_features': None, 'max_leaf_nodes': 10, 'min_samples_leaf': 8, 'presort': False},\n",
       " mean: 0.82043, std: 0.03407, params: {'class_weight': None, 'criterion': 'entropy', 'max_depth': 13, 'max_features': None, 'max_leaf_nodes': 20, 'min_samples_leaf': 2, 'presort': False},\n",
       " mean: 0.82043, std: 0.03380, params: {'class_weight': None, 'criterion': 'entropy', 'max_depth': 13, 'max_features': None, 'max_leaf_nodes': 20, 'min_samples_leaf': 6, 'presort': False},\n",
       " mean: 0.82043, std: 0.03550, params: {'class_weight': None, 'criterion': 'entropy', 'max_depth': 13, 'max_features': None, 'max_leaf_nodes': 30, 'min_samples_leaf': 5, 'presort': False},\n",
       " mean: 0.82043, std: 0.03365, params: {'class_weight': None, 'criterion': 'entropy', 'max_depth': 13, 'max_features': None, 'max_leaf_nodes': 40, 'min_samples_leaf': 8, 'presort': False},\n",
       " mean: 0.82043, std: 0.04588, params: {'class_weight': None, 'criterion': 'entropy', 'max_depth': 13, 'max_features': None, 'max_leaf_nodes': 90, 'min_samples_leaf': 5, 'presort': False},\n",
       " mean: 0.82043, std: 0.02957, params: {'class_weight': None, 'criterion': 'entropy', 'max_depth': 14, 'max_features': None, 'max_leaf_nodes': 10, 'min_samples_leaf': 7, 'presort': False},\n",
       " mean: 0.82043, std: 0.02957, params: {'class_weight': None, 'criterion': 'entropy', 'max_depth': 14, 'max_features': None, 'max_leaf_nodes': 10, 'min_samples_leaf': 8, 'presort': False},\n",
       " mean: 0.82043, std: 0.03407, params: {'class_weight': None, 'criterion': 'entropy', 'max_depth': 14, 'max_features': None, 'max_leaf_nodes': 20, 'min_samples_leaf': 2, 'presort': False},\n",
       " mean: 0.82043, std: 0.03380, params: {'class_weight': None, 'criterion': 'entropy', 'max_depth': 14, 'max_features': None, 'max_leaf_nodes': 20, 'min_samples_leaf': 6, 'presort': False},\n",
       " mean: 0.82043, std: 0.03796, params: {'class_weight': None, 'criterion': 'entropy', 'max_depth': 14, 'max_features': None, 'max_leaf_nodes': 30, 'min_samples_leaf': 10, 'presort': False},\n",
       " mean: 0.82043, std: 0.03365, params: {'class_weight': None, 'criterion': 'entropy', 'max_depth': 14, 'max_features': None, 'max_leaf_nodes': 40, 'min_samples_leaf': 8, 'presort': False},\n",
       " mean: 0.81930, std: 0.03180, params: {'class_weight': None, 'criterion': 'entropy', 'max_depth': 3, 'max_features': None, 'max_leaf_nodes': 10, 'min_samples_leaf': 1, 'presort': False},\n",
       " mean: 0.81930, std: 0.03180, params: {'class_weight': None, 'criterion': 'entropy', 'max_depth': 3, 'max_features': None, 'max_leaf_nodes': 10, 'min_samples_leaf': 2, 'presort': False},\n",
       " mean: 0.81930, std: 0.03180, params: {'class_weight': None, 'criterion': 'entropy', 'max_depth': 3, 'max_features': None, 'max_leaf_nodes': 10, 'min_samples_leaf': 3, 'presort': False},\n",
       " mean: 0.81930, std: 0.03180, params: {'class_weight': None, 'criterion': 'entropy', 'max_depth': 3, 'max_features': None, 'max_leaf_nodes': 10, 'min_samples_leaf': 4, 'presort': False},\n",
       " mean: 0.81930, std: 0.03605, params: {'class_weight': None, 'criterion': 'entropy', 'max_depth': 4, 'max_features': None, 'max_leaf_nodes': 10, 'min_samples_leaf': 5, 'presort': False},\n",
       " mean: 0.81930, std: 0.03379, params: {'class_weight': None, 'criterion': 'entropy', 'max_depth': 4, 'max_features': None, 'max_leaf_nodes': 10, 'min_samples_leaf': 6, 'presort': False},\n",
       " mean: 0.81930, std: 0.03251, params: {'class_weight': None, 'criterion': 'entropy', 'max_depth': 5, 'max_features': None, 'max_leaf_nodes': 40, 'min_samples_leaf': 10, 'presort': False},\n",
       " mean: 0.81930, std: 0.03251, params: {'class_weight': None, 'criterion': 'entropy', 'max_depth': 5, 'max_features': None, 'max_leaf_nodes': 60, 'min_samples_leaf': 10, 'presort': False},\n",
       " mean: 0.81930, std: 0.03727, params: {'class_weight': None, 'criterion': 'entropy', 'max_depth': 6, 'max_features': None, 'max_leaf_nodes': 20, 'min_samples_leaf': 3, 'presort': False},\n",
       " mean: 0.81930, std: 0.02908, params: {'class_weight': None, 'criterion': 'entropy', 'max_depth': 6, 'max_features': None, 'max_leaf_nodes': 20, 'min_samples_leaf': 9, 'presort': False},\n",
       " mean: 0.81930, std: 0.03650, params: {'class_weight': None, 'criterion': 'entropy', 'max_depth': 6, 'max_features': None, 'max_leaf_nodes': 30, 'min_samples_leaf': 1, 'presort': False},\n",
       " mean: 0.81930, std: 0.03313, params: {'class_weight': None, 'criterion': 'entropy', 'max_depth': 6, 'max_features': None, 'max_leaf_nodes': 30, 'min_samples_leaf': 4, 'presort': False},\n",
       " mean: 0.81930, std: 0.04238, params: {'class_weight': None, 'criterion': 'entropy', 'max_depth': 6, 'max_features': None, 'max_leaf_nodes': 60, 'min_samples_leaf': 2, 'presort': False},\n",
       " mean: 0.81930, std: 0.04198, params: {'class_weight': None, 'criterion': 'entropy', 'max_depth': 6, 'max_features': None, 'max_leaf_nodes': 90, 'min_samples_leaf': 4, 'presort': False},\n",
       " mean: 0.81930, std: 0.03473, params: {'class_weight': None, 'criterion': 'entropy', 'max_depth': 7, 'max_features': None, 'max_leaf_nodes': 20, 'min_samples_leaf': 7, 'presort': False},\n",
       " mean: 0.81930, std: 0.04060, params: {'class_weight': None, 'criterion': 'entropy', 'max_depth': 7, 'max_features': None, 'max_leaf_nodes': 30, 'min_samples_leaf': 10, 'presort': False},\n",
       " mean: 0.81930, std: 0.03383, params: {'class_weight': None, 'criterion': 'entropy', 'max_depth': 7, 'max_features': None, 'max_leaf_nodes': 30, 'min_samples_leaf': 11, 'presort': False},\n",
       " mean: 0.81930, std: 0.04009, params: {'class_weight': None, 'criterion': 'entropy', 'max_depth': 7, 'max_features': None, 'max_leaf_nodes': 40, 'min_samples_leaf': 1, 'presort': False},\n",
       " mean: 0.81930, std: 0.03800, params: {'class_weight': None, 'criterion': 'entropy', 'max_depth': 7, 'max_features': None, 'max_leaf_nodes': 40, 'min_samples_leaf': 12, 'presort': False},\n",
       " mean: 0.81930, std: 0.04012, params: {'class_weight': None, 'criterion': 'entropy', 'max_depth': 7, 'max_features': None, 'max_leaf_nodes': 50, 'min_samples_leaf': 3, 'presort': False},\n",
       " mean: 0.81930, std: 0.03800, params: {'class_weight': None, 'criterion': 'entropy', 'max_depth': 7, 'max_features': None, 'max_leaf_nodes': 50, 'min_samples_leaf': 12, 'presort': False},\n",
       " mean: 0.81930, std: 0.03800, params: {'class_weight': None, 'criterion': 'entropy', 'max_depth': 7, 'max_features': None, 'max_leaf_nodes': 70, 'min_samples_leaf': 12, 'presort': False},\n",
       " mean: 0.81930, std: 0.03473, params: {'class_weight': None, 'criterion': 'entropy', 'max_depth': 8, 'max_features': None, 'max_leaf_nodes': 20, 'min_samples_leaf': 7, 'presort': False},\n",
       " mean: 0.81930, std: 0.03927, params: {'class_weight': None, 'criterion': 'entropy', 'max_depth': 8, 'max_features': None, 'max_leaf_nodes': 40, 'min_samples_leaf': 3, 'presort': False},\n",
       " mean: 0.81930, std: 0.02529, params: {'class_weight': None, 'criterion': 'entropy', 'max_depth': 8, 'max_features': None, 'max_leaf_nodes': 60, 'min_samples_leaf': 11, 'presort': False},\n",
       " mean: 0.81930, std: 0.02980, params: {'class_weight': None, 'criterion': 'entropy', 'max_depth': 8, 'max_features': None, 'max_leaf_nodes': 90, 'min_samples_leaf': 9, 'presort': False},\n",
       " mean: 0.81930, std: 0.03473, params: {'class_weight': None, 'criterion': 'entropy', 'max_depth': 9, 'max_features': None, 'max_leaf_nodes': 20, 'min_samples_leaf': 7, 'presort': False},\n",
       " mean: 0.81930, std: 0.03873, params: {'class_weight': None, 'criterion': 'entropy', 'max_depth': 9, 'max_features': None, 'max_leaf_nodes': 30, 'min_samples_leaf': 3, 'presort': False},\n",
       " mean: 0.81930, std: 0.03158, params: {'class_weight': None, 'criterion': 'entropy', 'max_depth': 9, 'max_features': None, 'max_leaf_nodes': 30, 'min_samples_leaf': 6, 'presort': False},\n",
       " mean: 0.81930, std: 0.03740, params: {'class_weight': None, 'criterion': 'entropy', 'max_depth': 9, 'max_features': None, 'max_leaf_nodes': 50, 'min_samples_leaf': 1, 'presort': False},\n",
       " mean: 0.81930, std: 0.02529, params: {'class_weight': None, 'criterion': 'entropy', 'max_depth': 9, 'max_features': None, 'max_leaf_nodes': 60, 'min_samples_leaf': 11, 'presort': False},\n",
       " mean: 0.81930, std: 0.02529, params: {'class_weight': None, 'criterion': 'entropy', 'max_depth': 9, 'max_features': None, 'max_leaf_nodes': 80, 'min_samples_leaf': 11, 'presort': False},\n",
       " mean: 0.81930, std: 0.04704, params: {'class_weight': None, 'criterion': 'entropy', 'max_depth': 9, 'max_features': None, 'max_leaf_nodes': 90, 'min_samples_leaf': 5, 'presort': False},\n",
       " mean: 0.81930, std: 0.02529, params: {'class_weight': None, 'criterion': 'entropy', 'max_depth': 9, 'max_features': None, 'max_leaf_nodes': 90, 'min_samples_leaf': 11, 'presort': False},\n",
       " mean: 0.81930, std: 0.03473, params: {'class_weight': None, 'criterion': 'entropy', 'max_depth': 10, 'max_features': None, 'max_leaf_nodes': 20, 'min_samples_leaf': 7, 'presort': False},\n",
       " mean: 0.81930, std: 0.03873, params: {'class_weight': None, 'criterion': 'entropy', 'max_depth': 10, 'max_features': None, 'max_leaf_nodes': 30, 'min_samples_leaf': 3, 'presort': False},\n",
       " mean: 0.81930, std: 0.03014, params: {'class_weight': None, 'criterion': 'entropy', 'max_depth': 10, 'max_features': None, 'max_leaf_nodes': 30, 'min_samples_leaf': 6, 'presort': False},\n",
       " mean: 0.81930, std: 0.03356, params: {'class_weight': None, 'criterion': 'entropy', 'max_depth': 10, 'max_features': None, 'max_leaf_nodes': 50, 'min_samples_leaf': 8, 'presort': False},\n",
       " mean: 0.81930, std: 0.02740, params: {'class_weight': None, 'criterion': 'entropy', 'max_depth': 10, 'max_features': None, 'max_leaf_nodes': 50, 'min_samples_leaf': 9, 'presort': False},\n",
       " mean: 0.81930, std: 0.03489, params: {'class_weight': None, 'criterion': 'entropy', 'max_depth': 10, 'max_features': None, 'max_leaf_nodes': 60, 'min_samples_leaf': 2, 'presort': False},\n",
       " mean: 0.81930, std: 0.03682, params: {'class_weight': None, 'criterion': 'entropy', 'max_depth': 10, 'max_features': None, 'max_leaf_nodes': 60, 'min_samples_leaf': 6, 'presort': False},\n",
       " mean: 0.81930, std: 0.02740, params: {'class_weight': None, 'criterion': 'entropy', 'max_depth': 10, 'max_features': None, 'max_leaf_nodes': 60, 'min_samples_leaf': 9, 'presort': False},\n",
       " mean: 0.81930, std: 0.02529, params: {'class_weight': None, 'criterion': 'entropy', 'max_depth': 10, 'max_features': None, 'max_leaf_nodes': 80, 'min_samples_leaf': 11, 'presort': False},\n",
       " mean: 0.81930, std: 0.02529, params: {'class_weight': None, 'criterion': 'entropy', 'max_depth': 10, 'max_features': None, 'max_leaf_nodes': 90, 'min_samples_leaf': 11, 'presort': False},\n",
       " mean: 0.81930, std: 0.03473, params: {'class_weight': None, 'criterion': 'entropy', 'max_depth': 11, 'max_features': None, 'max_leaf_nodes': 20, 'min_samples_leaf': 7, 'presort': False},\n",
       " mean: 0.81930, std: 0.03873, params: {'class_weight': None, 'criterion': 'entropy', 'max_depth': 11, 'max_features': None, 'max_leaf_nodes': 30, 'min_samples_leaf': 3, 'presort': False},\n",
       " mean: 0.81930, std: 0.03014, params: {'class_weight': None, 'criterion': 'entropy', 'max_depth': 11, 'max_features': None, 'max_leaf_nodes': 30, 'min_samples_leaf': 6, 'presort': False},\n",
       " mean: 0.81930, std: 0.03487, params: {'class_weight': None, 'criterion': 'entropy', 'max_depth': 11, 'max_features': None, 'max_leaf_nodes': 30, 'min_samples_leaf': 12, 'presort': False},\n",
       " mean: 0.81930, std: 0.03670, params: {'class_weight': None, 'criterion': 'entropy', 'max_depth': 11, 'max_features': None, 'max_leaf_nodes': 40, 'min_samples_leaf': 3, 'presort': False},\n",
       " mean: 0.81930, std: 0.03795, params: {'class_weight': None, 'criterion': 'entropy', 'max_depth': 11, 'max_features': None, 'max_leaf_nodes': 50, 'min_samples_leaf': 4, 'presort': False},\n",
       " mean: 0.81930, std: 0.04254, params: {'class_weight': None, 'criterion': 'entropy', 'max_depth': 11, 'max_features': None, 'max_leaf_nodes': 50, 'min_samples_leaf': 6, 'presort': False},\n",
       " mean: 0.81930, std: 0.03356, params: {'class_weight': None, 'criterion': 'entropy', 'max_depth': 11, 'max_features': None, 'max_leaf_nodes': 50, 'min_samples_leaf': 8, 'presort': False},\n",
       " mean: 0.81930, std: 0.02529, params: {'class_weight': None, 'criterion': 'entropy', 'max_depth': 11, 'max_features': None, 'max_leaf_nodes': 50, 'min_samples_leaf': 11, 'presort': False},\n",
       " mean: 0.81930, std: 0.04032, params: {'class_weight': None, 'criterion': 'entropy', 'max_depth': 11, 'max_features': None, 'max_leaf_nodes': 60, 'min_samples_leaf': 1, 'presort': False},\n",
       " mean: 0.81930, std: 0.02529, params: {'class_weight': None, 'criterion': 'entropy', 'max_depth': 11, 'max_features': None, 'max_leaf_nodes': 60, 'min_samples_leaf': 11, 'presort': False},\n",
       " mean: 0.81930, std: 0.02740, params: {'class_weight': None, 'criterion': 'entropy', 'max_depth': 11, 'max_features': None, 'max_leaf_nodes': 90, 'min_samples_leaf': 9, 'presort': False},\n",
       " mean: 0.81930, std: 0.03473, params: {'class_weight': None, 'criterion': 'entropy', 'max_depth': 12, 'max_features': None, 'max_leaf_nodes': 20, 'min_samples_leaf': 7, 'presort': False},\n",
       " mean: 0.81930, std: 0.03873, params: {'class_weight': None, 'criterion': 'entropy', 'max_depth': 12, 'max_features': None, 'max_leaf_nodes': 30, 'min_samples_leaf': 3, 'presort': False},\n",
       " mean: 0.81930, std: 0.03688, params: {'class_weight': None, 'criterion': 'entropy', 'max_depth': 12, 'max_features': None, 'max_leaf_nodes': 30, 'min_samples_leaf': 5, 'presort': False},\n",
       " mean: 0.81930, std: 0.03487, params: {'class_weight': None, 'criterion': 'entropy', 'max_depth': 12, 'max_features': None, 'max_leaf_nodes': 30, 'min_samples_leaf': 12, 'presort': False},\n",
       " mean: 0.81930, std: 0.03670, params: {'class_weight': None, 'criterion': 'entropy', 'max_depth': 12, 'max_features': None, 'max_leaf_nodes': 40, 'min_samples_leaf': 3, 'presort': False},\n",
       " mean: 0.81930, std: 0.04149, params: {'class_weight': None, 'criterion': 'entropy', 'max_depth': 12, 'max_features': None, 'max_leaf_nodes': 40, 'min_samples_leaf': 5, 'presort': False},\n",
       " mean: 0.81930, std: 0.04096, params: {'class_weight': None, 'criterion': 'entropy', 'max_depth': 12, 'max_features': None, 'max_leaf_nodes': 50, 'min_samples_leaf': 3, 'presort': False},\n",
       " mean: 0.81930, std: 0.04084, params: {'class_weight': None, 'criterion': 'entropy', 'max_depth': 12, 'max_features': None, 'max_leaf_nodes': 50, 'min_samples_leaf': 6, 'presort': False},\n",
       " mean: 0.81930, std: 0.03356, params: {'class_weight': None, 'criterion': 'entropy', 'max_depth': 12, 'max_features': None, 'max_leaf_nodes': 50, 'min_samples_leaf': 8, 'presort': False},\n",
       " mean: 0.81930, std: 0.02529, params: {'class_weight': None, 'criterion': 'entropy', 'max_depth': 12, 'max_features': None, 'max_leaf_nodes': 50, 'min_samples_leaf': 11, 'presort': False},\n",
       " mean: 0.81930, std: 0.03473, params: {'class_weight': None, 'criterion': 'entropy', 'max_depth': 13, 'max_features': None, 'max_leaf_nodes': 20, 'min_samples_leaf': 7, 'presort': False},\n",
       " mean: 0.81930, std: 0.03873, params: {'class_weight': None, 'criterion': 'entropy', 'max_depth': 13, 'max_features': None, 'max_leaf_nodes': 30, 'min_samples_leaf': 3, 'presort': False},\n",
       " mean: 0.81930, std: 0.03014, params: {'class_weight': None, 'criterion': 'entropy', 'max_depth': 13, 'max_features': None, 'max_leaf_nodes': 30, 'min_samples_leaf': 6, 'presort': False},\n",
       " mean: 0.81930, std: 0.03903, params: {'class_weight': None, 'criterion': 'entropy', 'max_depth': 13, 'max_features': None, 'max_leaf_nodes': 30, 'min_samples_leaf': 10, 'presort': False},\n",
       " mean: 0.81930, std: 0.03670, params: {'class_weight': None, 'criterion': 'entropy', 'max_depth': 13, 'max_features': None, 'max_leaf_nodes': 40, 'min_samples_leaf': 3, 'presort': False},\n",
       " mean: 0.81930, std: 0.04159, params: {'class_weight': None, 'criterion': 'entropy', 'max_depth': 13, 'max_features': None, 'max_leaf_nodes': 40, 'min_samples_leaf': 5, 'presort': False},\n",
       " mean: 0.81930, std: 0.03439, params: {'class_weight': None, 'criterion': 'entropy', 'max_depth': 13, 'max_features': None, 'max_leaf_nodes': 40, 'min_samples_leaf': 6, 'presort': False},\n",
       " mean: 0.81930, std: 0.04084, params: {'class_weight': None, 'criterion': 'entropy', 'max_depth': 13, 'max_features': None, 'max_leaf_nodes': 50, 'min_samples_leaf': 6, 'presort': False},\n",
       " mean: 0.81930, std: 0.05308, params: {'class_weight': None, 'criterion': 'entropy', 'max_depth': 13, 'max_features': None, 'max_leaf_nodes': 60, 'min_samples_leaf': 4, 'presort': False},\n",
       " mean: 0.81930, std: 0.02740, params: {'class_weight': None, 'criterion': 'entropy', 'max_depth': 13, 'max_features': None, 'max_leaf_nodes': 70, 'min_samples_leaf': 9, 'presort': False},\n",
       " mean: 0.81930, std: 0.02529, params: {'class_weight': None, 'criterion': 'entropy', 'max_depth': 13, 'max_features': None, 'max_leaf_nodes': 70, 'min_samples_leaf': 11, 'presort': False},\n",
       " mean: 0.81930, std: 0.02740, params: {'class_weight': None, 'criterion': 'entropy', 'max_depth': 13, 'max_features': None, 'max_leaf_nodes': 80, 'min_samples_leaf': 9, 'presort': False},\n",
       " mean: 0.81930, std: 0.02529, params: {'class_weight': None, 'criterion': 'entropy', 'max_depth': 13, 'max_features': None, 'max_leaf_nodes': 80, 'min_samples_leaf': 11, 'presort': False},\n",
       " mean: 0.81930, std: 0.03473, params: {'class_weight': None, 'criterion': 'entropy', 'max_depth': 14, 'max_features': None, 'max_leaf_nodes': 20, 'min_samples_leaf': 7, 'presort': False},\n",
       " mean: 0.81930, std: 0.03014, params: {'class_weight': None, 'criterion': 'entropy', 'max_depth': 14, 'max_features': None, 'max_leaf_nodes': 30, 'min_samples_leaf': 6, 'presort': False},\n",
       " mean: 0.81930, std: 0.03670, params: {'class_weight': None, 'criterion': 'entropy', 'max_depth': 14, 'max_features': None, 'max_leaf_nodes': 40, 'min_samples_leaf': 3, 'presort': False},\n",
       " mean: 0.81930, std: 0.02740, params: {'class_weight': None, 'criterion': 'entropy', 'max_depth': 14, 'max_features': None, 'max_leaf_nodes': 60, 'min_samples_leaf': 9, 'presort': False},\n",
       " mean: 0.81930, std: 0.02529, params: {'class_weight': None, 'criterion': 'entropy', 'max_depth': 14, 'max_features': None, 'max_leaf_nodes': 70, 'min_samples_leaf': 11, 'presort': False},\n",
       " mean: 0.81930, std: 0.02529, params: {'class_weight': None, 'criterion': 'entropy', 'max_depth': 14, 'max_features': None, 'max_leaf_nodes': 80, 'min_samples_leaf': 11, 'presort': False},\n",
       " mean: 0.81930, std: 0.02740, params: {'class_weight': None, 'criterion': 'entropy', 'max_depth': 14, 'max_features': None, 'max_leaf_nodes': 90, 'min_samples_leaf': 9, 'presort': False},\n",
       " mean: 0.81818, std: 0.03161, params: {'class_weight': None, 'criterion': 'entropy', 'max_depth': 3, 'max_features': None, 'max_leaf_nodes': 10, 'min_samples_leaf': 5, 'presort': False},\n",
       " mean: 0.81818, std: 0.02875, params: {'class_weight': None, 'criterion': 'entropy', 'max_depth': 4, 'max_features': None, 'max_leaf_nodes': 10, 'min_samples_leaf': 9, 'presort': False},\n",
       " mean: 0.81818, std: 0.02875, params: {'class_weight': None, 'criterion': 'entropy', 'max_depth': 4, 'max_features': None, 'max_leaf_nodes': 10, 'min_samples_leaf': 10, 'presort': False},\n",
       " mean: 0.81818, std: 0.02875, params: {'class_weight': None, 'criterion': 'entropy', 'max_depth': 4, 'max_features': None, 'max_leaf_nodes': 10, 'min_samples_leaf': 11, 'presort': False},\n",
       " mean: 0.81818, std: 0.02875, params: {'class_weight': None, 'criterion': 'entropy', 'max_depth': 5, 'max_features': None, 'max_leaf_nodes': 10, 'min_samples_leaf': 9, 'presort': False},\n",
       " mean: 0.81818, std: 0.02875, params: {'class_weight': None, 'criterion': 'entropy', 'max_depth': 5, 'max_features': None, 'max_leaf_nodes': 10, 'min_samples_leaf': 10, 'presort': False},\n",
       " mean: 0.81818, std: 0.02875, params: {'class_weight': None, 'criterion': 'entropy', 'max_depth': 5, 'max_features': None, 'max_leaf_nodes': 10, 'min_samples_leaf': 11, 'presort': False},\n",
       " mean: 0.81818, std: 0.03371, params: {'class_weight': None, 'criterion': 'entropy', 'max_depth': 5, 'max_features': None, 'max_leaf_nodes': 30, 'min_samples_leaf': 10, 'presort': False},\n",
       " mean: 0.81818, std: 0.03025, params: {'class_weight': None, 'criterion': 'entropy', 'max_depth': 5, 'max_features': None, 'max_leaf_nodes': 30, 'min_samples_leaf': 11, 'presort': False},\n",
       " mean: 0.81818, std: 0.03025, params: {'class_weight': None, 'criterion': 'entropy', 'max_depth': 5, 'max_features': None, 'max_leaf_nodes': 40, 'min_samples_leaf': 11, 'presort': False},\n",
       " mean: 0.81818, std: 0.03371, params: {'class_weight': None, 'criterion': 'entropy', 'max_depth': 5, 'max_features': None, 'max_leaf_nodes': 50, 'min_samples_leaf': 10, 'presort': False},\n",
       " mean: 0.81818, std: 0.03025, params: {'class_weight': None, 'criterion': 'entropy', 'max_depth': 5, 'max_features': None, 'max_leaf_nodes': 50, 'min_samples_leaf': 11, 'presort': False},\n",
       " mean: 0.81818, std: 0.03025, params: {'class_weight': None, 'criterion': 'entropy', 'max_depth': 5, 'max_features': None, 'max_leaf_nodes': 60, 'min_samples_leaf': 11, 'presort': False},\n",
       " mean: 0.81818, std: 0.03371, params: {'class_weight': None, 'criterion': 'entropy', 'max_depth': 5, 'max_features': None, 'max_leaf_nodes': 70, 'min_samples_leaf': 10, 'presort': False},\n",
       " mean: 0.81818, std: 0.03025, params: {'class_weight': None, 'criterion': 'entropy', 'max_depth': 5, 'max_features': None, 'max_leaf_nodes': 70, 'min_samples_leaf': 11, 'presort': False},\n",
       " mean: 0.81818, std: 0.03371, params: {'class_weight': None, 'criterion': 'entropy', 'max_depth': 5, 'max_features': None, 'max_leaf_nodes': 80, 'min_samples_leaf': 10, 'presort': False},\n",
       " mean: 0.81818, std: 0.03025, params: {'class_weight': None, 'criterion': 'entropy', 'max_depth': 5, 'max_features': None, 'max_leaf_nodes': 80, 'min_samples_leaf': 11, 'presort': False},\n",
       " mean: 0.81818, std: 0.03371, params: {'class_weight': None, 'criterion': 'entropy', 'max_depth': 5, 'max_features': None, 'max_leaf_nodes': 90, 'min_samples_leaf': 10, 'presort': False},\n",
       " mean: 0.81818, std: 0.03025, params: {'class_weight': None, 'criterion': 'entropy', 'max_depth': 5, 'max_features': None, 'max_leaf_nodes': 90, 'min_samples_leaf': 11, 'presort': False},\n",
       " mean: 0.81818, std: 0.02875, params: {'class_weight': None, 'criterion': 'entropy', 'max_depth': 6, 'max_features': None, 'max_leaf_nodes': 10, 'min_samples_leaf': 9, 'presort': False},\n",
       " mean: 0.81818, std: 0.02875, params: {'class_weight': None, 'criterion': 'entropy', 'max_depth': 6, 'max_features': None, 'max_leaf_nodes': 10, 'min_samples_leaf': 10, 'presort': False},\n",
       " mean: 0.81818, std: 0.02875, params: {'class_weight': None, 'criterion': 'entropy', 'max_depth': 6, 'max_features': None, 'max_leaf_nodes': 10, 'min_samples_leaf': 11, 'presort': False},\n",
       " mean: 0.81818, std: 0.03516, params: {'class_weight': None, 'criterion': 'entropy', 'max_depth': 6, 'max_features': None, 'max_leaf_nodes': 20, 'min_samples_leaf': 7, 'presort': False},\n",
       " mean: 0.81818, std: 0.03355, params: {'class_weight': None, 'criterion': 'entropy', 'max_depth': 6, 'max_features': None, 'max_leaf_nodes': 20, 'min_samples_leaf': 11, 'presort': False},\n",
       " mean: 0.81818, std: 0.04347, params: {'class_weight': None, 'criterion': 'entropy', 'max_depth': 6, 'max_features': None, 'max_leaf_nodes': 40, 'min_samples_leaf': 4, 'presort': False},\n",
       " mean: 0.81818, std: 0.04347, params: {'class_weight': None, 'criterion': 'entropy', 'max_depth': 6, 'max_features': None, 'max_leaf_nodes': 50, 'min_samples_leaf': 4, 'presort': False},\n",
       " mean: 0.81818, std: 0.03305, params: {'class_weight': None, 'criterion': 'entropy', 'max_depth': 6, 'max_features': None, 'max_leaf_nodes': 50, 'min_samples_leaf': 12, 'presort': False},\n",
       " mean: 0.81818, std: 0.03305, params: {'class_weight': None, 'criterion': 'entropy', 'max_depth': 6, 'max_features': None, 'max_leaf_nodes': 60, 'min_samples_leaf': 12, 'presort': False},\n",
       " mean: 0.81818, std: 0.04102, params: {'class_weight': None, 'criterion': 'entropy', 'max_depth': 6, 'max_features': None, 'max_leaf_nodes': 70, 'min_samples_leaf': 2, 'presort': False},\n",
       " mean: 0.81818, std: 0.04102, params: {'class_weight': None, 'criterion': 'entropy', 'max_depth': 6, 'max_features': None, 'max_leaf_nodes': 90, 'min_samples_leaf': 2, 'presort': False},\n",
       " mean: 0.81818, std: 0.02875, params: {'class_weight': None, 'criterion': 'entropy', 'max_depth': 7, 'max_features': None, 'max_leaf_nodes': 10, 'min_samples_leaf': 9, 'presort': False},\n",
       " mean: 0.81818, std: 0.02875, params: {'class_weight': None, 'criterion': 'entropy', 'max_depth': 7, 'max_features': None, 'max_leaf_nodes': 10, 'min_samples_leaf': 10, 'presort': False},\n",
       " mean: 0.81818, std: 0.02875, params: {'class_weight': None, 'criterion': 'entropy', 'max_depth': 7, 'max_features': None, 'max_leaf_nodes': 10, 'min_samples_leaf': 11, 'presort': False},\n",
       " mean: 0.81818, std: 0.02892, params: {'class_weight': None, 'criterion': 'entropy', 'max_depth': 7, 'max_features': None, 'max_leaf_nodes': 20, 'min_samples_leaf': 9, 'presort': False},\n",
       " mean: 0.81818, std: 0.03293, params: {'class_weight': None, 'criterion': 'entropy', 'max_depth': 7, 'max_features': None, 'max_leaf_nodes': 20, 'min_samples_leaf': 11, 'presort': False},\n",
       " mean: 0.81818, std: 0.03693, params: {'class_weight': None, 'criterion': 'entropy', 'max_depth': 7, 'max_features': None, 'max_leaf_nodes': 30, 'min_samples_leaf': 12, 'presort': False},\n",
       " mean: 0.81818, std: 0.02875, params: {'class_weight': None, 'criterion': 'entropy', 'max_depth': 8, 'max_features': None, 'max_leaf_nodes': 10, 'min_samples_leaf': 9, 'presort': False},\n",
       " mean: 0.81818, std: 0.02875, params: {'class_weight': None, 'criterion': 'entropy', 'max_depth': 8, 'max_features': None, 'max_leaf_nodes': 10, 'min_samples_leaf': 10, 'presort': False},\n",
       " mean: 0.81818, std: 0.02875, params: {'class_weight': None, 'criterion': 'entropy', 'max_depth': 8, 'max_features': None, 'max_leaf_nodes': 10, 'min_samples_leaf': 11, 'presort': False},\n",
       " mean: 0.81818, std: 0.03525, params: {'class_weight': None, 'criterion': 'entropy', 'max_depth': 8, 'max_features': None, 'max_leaf_nodes': 20, 'min_samples_leaf': 4, 'presort': False},\n",
       " mean: 0.81818, std: 0.02892, params: {'class_weight': None, 'criterion': 'entropy', 'max_depth': 8, 'max_features': None, 'max_leaf_nodes': 20, 'min_samples_leaf': 9, 'presort': False},\n",
       " mean: 0.81818, std: 0.03293, params: {'class_weight': None, 'criterion': 'entropy', 'max_depth': 8, 'max_features': None, 'max_leaf_nodes': 20, 'min_samples_leaf': 11, 'presort': False},\n",
       " mean: 0.81818, std: 0.03887, params: {'class_weight': None, 'criterion': 'entropy', 'max_depth': 8, 'max_features': None, 'max_leaf_nodes': 30, 'min_samples_leaf': 1, 'presort': False},\n",
       " mean: 0.81818, std: 0.03693, params: {'class_weight': None, 'criterion': 'entropy', 'max_depth': 8, 'max_features': None, 'max_leaf_nodes': 30, 'min_samples_leaf': 12, 'presort': False},\n",
       " mean: 0.81818, std: 0.04407, params: {'class_weight': None, 'criterion': 'entropy', 'max_depth': 8, 'max_features': None, 'max_leaf_nodes': 60, 'min_samples_leaf': 1, 'presort': False},\n",
       " mean: 0.81818, std: 0.02875, params: {'class_weight': None, 'criterion': 'entropy', 'max_depth': 9, 'max_features': None, 'max_leaf_nodes': 10, 'min_samples_leaf': 9, 'presort': False},\n",
       " mean: 0.81818, std: 0.02875, params: {'class_weight': None, 'criterion': 'entropy', 'max_depth': 9, 'max_features': None, 'max_leaf_nodes': 10, 'min_samples_leaf': 10, 'presort': False},\n",
       " mean: 0.81818, std: 0.02875, params: {'class_weight': None, 'criterion': 'entropy', 'max_depth': 9, 'max_features': None, 'max_leaf_nodes': 10, 'min_samples_leaf': 11, 'presort': False},\n",
       " mean: 0.81818, std: 0.03525, params: {'class_weight': None, 'criterion': 'entropy', 'max_depth': 9, 'max_features': None, 'max_leaf_nodes': 20, 'min_samples_leaf': 4, 'presort': False},\n",
       " mean: 0.81818, std: 0.02892, params: {'class_weight': None, 'criterion': 'entropy', 'max_depth': 9, 'max_features': None, 'max_leaf_nodes': 20, 'min_samples_leaf': 9, 'presort': False},\n",
       " mean: 0.81818, std: 0.03293, params: {'class_weight': None, 'criterion': 'entropy', 'max_depth': 9, 'max_features': None, 'max_leaf_nodes': 20, 'min_samples_leaf': 11, 'presort': False},\n",
       " mean: 0.81818, std: 0.03200, params: {'class_weight': None, 'criterion': 'entropy', 'max_depth': 9, 'max_features': None, 'max_leaf_nodes': 30, 'min_samples_leaf': 13, 'presort': False},\n",
       " mean: 0.81818, std: 0.04071, params: {'class_weight': None, 'criterion': 'entropy', 'max_depth': 9, 'max_features': None, 'max_leaf_nodes': 40, 'min_samples_leaf': 6, 'presort': False},\n",
       " mean: 0.81818, std: 0.02875, params: {'class_weight': None, 'criterion': 'entropy', 'max_depth': 10, 'max_features': None, 'max_leaf_nodes': 10, 'min_samples_leaf': 9, 'presort': False},\n",
       " mean: 0.81818, std: 0.02875, params: {'class_weight': None, 'criterion': 'entropy', 'max_depth': 10, 'max_features': None, 'max_leaf_nodes': 10, 'min_samples_leaf': 10, 'presort': False},\n",
       " mean: 0.81818, std: 0.02875, params: {'class_weight': None, 'criterion': 'entropy', 'max_depth': 10, 'max_features': None, 'max_leaf_nodes': 10, 'min_samples_leaf': 11, 'presort': False},\n",
       " mean: 0.81818, std: 0.02892, params: {'class_weight': None, 'criterion': 'entropy', 'max_depth': 10, 'max_features': None, 'max_leaf_nodes': 20, 'min_samples_leaf': 9, 'presort': False},\n",
       " mean: 0.81818, std: 0.03293, params: {'class_weight': None, 'criterion': 'entropy', 'max_depth': 10, 'max_features': None, 'max_leaf_nodes': 20, 'min_samples_leaf': 11, 'presort': False},\n",
       " mean: 0.81818, std: 0.03367, params: {'class_weight': None, 'criterion': 'entropy', 'max_depth': 10, 'max_features': None, 'max_leaf_nodes': 30, 'min_samples_leaf': 11, 'presort': False},\n",
       " mean: 0.81818, std: 0.03528, params: {'class_weight': None, 'criterion': 'entropy', 'max_depth': 10, 'max_features': None, 'max_leaf_nodes': 40, 'min_samples_leaf': 6, 'presort': False},\n",
       " mean: 0.81818, std: 0.02875, params: {'class_weight': None, 'criterion': 'entropy', 'max_depth': 11, 'max_features': None, 'max_leaf_nodes': 10, 'min_samples_leaf': 9, 'presort': False},\n",
       " mean: 0.81818, std: 0.02875, params: {'class_weight': None, 'criterion': 'entropy', 'max_depth': 11, 'max_features': None, 'max_leaf_nodes': 10, 'min_samples_leaf': 10, 'presort': False},\n",
       " mean: 0.81818, std: 0.02875, params: {'class_weight': None, 'criterion': 'entropy', 'max_depth': 11, 'max_features': None, 'max_leaf_nodes': 10, 'min_samples_leaf': 11, 'presort': False},\n",
       " mean: 0.81818, std: 0.03525, params: {'class_weight': None, 'criterion': 'entropy', 'max_depth': 11, 'max_features': None, 'max_leaf_nodes': 20, 'min_samples_leaf': 4, 'presort': False},\n",
       " mean: 0.81818, std: 0.03293, params: {'class_weight': None, 'criterion': 'entropy', 'max_depth': 11, 'max_features': None, 'max_leaf_nodes': 20, 'min_samples_leaf': 11, 'presort': False},\n",
       " mean: 0.81818, std: 0.03571, params: {'class_weight': None, 'criterion': 'entropy', 'max_depth': 11, 'max_features': None, 'max_leaf_nodes': 40, 'min_samples_leaf': 6, 'presort': False},\n",
       " mean: 0.81818, std: 0.02745, params: {'class_weight': None, 'criterion': 'entropy', 'max_depth': 11, 'max_features': None, 'max_leaf_nodes': 40, 'min_samples_leaf': 9, 'presort': False},\n",
       " mean: 0.81818, std: 0.03931, params: {'class_weight': None, 'criterion': 'entropy', 'max_depth': 11, 'max_features': None, 'max_leaf_nodes': 60, 'min_samples_leaf': 4, 'presort': False},\n",
       " mean: 0.81818, std: 0.04322, params: {'class_weight': None, 'criterion': 'entropy', 'max_depth': 11, 'max_features': None, 'max_leaf_nodes': 60, 'min_samples_leaf': 5, 'presort': False},\n",
       " mean: 0.81818, std: 0.02875, params: {'class_weight': None, 'criterion': 'entropy', 'max_depth': 12, 'max_features': None, 'max_leaf_nodes': 10, 'min_samples_leaf': 9, 'presort': False},\n",
       " mean: 0.81818, std: 0.02875, params: {'class_weight': None, 'criterion': 'entropy', 'max_depth': 12, 'max_features': None, 'max_leaf_nodes': 10, 'min_samples_leaf': 10, 'presort': False},\n",
       " mean: 0.81818, std: 0.02875, params: {'class_weight': None, 'criterion': 'entropy', 'max_depth': 12, 'max_features': None, 'max_leaf_nodes': 10, 'min_samples_leaf': 11, 'presort': False},\n",
       " mean: 0.81818, std: 0.03525, params: {'class_weight': None, 'criterion': 'entropy', 'max_depth': 12, 'max_features': None, 'max_leaf_nodes': 20, 'min_samples_leaf': 4, 'presort': False},\n",
       " mean: 0.81818, std: 0.03293, params: {'class_weight': None, 'criterion': 'entropy', 'max_depth': 12, 'max_features': None, 'max_leaf_nodes': 20, 'min_samples_leaf': 11, 'presort': False},\n",
       " mean: 0.81818, std: 0.03115, params: {'class_weight': None, 'criterion': 'entropy', 'max_depth': 12, 'max_features': None, 'max_leaf_nodes': 30, 'min_samples_leaf': 6, 'presort': False},\n",
       " mean: 0.81818, std: 0.03367, params: {'class_weight': None, 'criterion': 'entropy', 'max_depth': 12, 'max_features': None, 'max_leaf_nodes': 30, 'min_samples_leaf': 11, 'presort': False},\n",
       " mean: 0.81818, std: 0.03586, params: {'class_weight': None, 'criterion': 'entropy', 'max_depth': 12, 'max_features': None, 'max_leaf_nodes': 40, 'min_samples_leaf': 2, 'presort': False},\n",
       " mean: 0.81818, std: 0.03571, params: {'class_weight': None, 'criterion': 'entropy', 'max_depth': 12, 'max_features': None, 'max_leaf_nodes': 40, 'min_samples_leaf': 6, 'presort': False},\n",
       " mean: 0.81818, std: 0.04766, params: {'class_weight': None, 'criterion': 'entropy', 'max_depth': 12, 'max_features': None, 'max_leaf_nodes': 50, 'min_samples_leaf': 5, 'presort': False},\n",
       " mean: 0.81818, std: 0.03772, params: {'class_weight': None, 'criterion': 'entropy', 'max_depth': 12, 'max_features': None, 'max_leaf_nodes': 60, 'min_samples_leaf': 1, 'presort': False},\n",
       " mean: 0.81818, std: 0.04214, params: {'class_weight': None, 'criterion': 'entropy', 'max_depth': 12, 'max_features': None, 'max_leaf_nodes': 70, 'min_samples_leaf': 5, 'presort': False},\n",
       " mean: 0.81818, std: 0.02875, params: {'class_weight': None, 'criterion': 'entropy', 'max_depth': 13, 'max_features': None, 'max_leaf_nodes': 10, 'min_samples_leaf': 9, 'presort': False},\n",
       " mean: 0.81818, std: 0.02875, params: {'class_weight': None, 'criterion': 'entropy', 'max_depth': 13, 'max_features': None, 'max_leaf_nodes': 10, 'min_samples_leaf': 10, 'presort': False},\n",
       " mean: 0.81818, std: 0.02875, params: {'class_weight': None, 'criterion': 'entropy', 'max_depth': 13, 'max_features': None, 'max_leaf_nodes': 10, 'min_samples_leaf': 11, 'presort': False},\n",
       " mean: 0.81818, std: 0.03525, params: {'class_weight': None, 'criterion': 'entropy', 'max_depth': 13, 'max_features': None, 'max_leaf_nodes': 20, 'min_samples_leaf': 4, 'presort': False},\n",
       " mean: 0.81818, std: 0.03293, params: {'class_weight': None, 'criterion': 'entropy', 'max_depth': 13, 'max_features': None, 'max_leaf_nodes': 20, 'min_samples_leaf': 11, 'presort': False},\n",
       " mean: 0.81818, std: 0.03810, params: {'class_weight': None, 'criterion': 'entropy', 'max_depth': 13, 'max_features': None, 'max_leaf_nodes': 40, 'min_samples_leaf': 4, 'presort': False},\n",
       " mean: 0.81818, std: 0.02346, params: {'class_weight': None, 'criterion': 'entropy', 'max_depth': 13, 'max_features': None, 'max_leaf_nodes': 40, 'min_samples_leaf': 11, 'presort': False},\n",
       " mean: 0.81818, std: 0.04017, params: {'class_weight': None, 'criterion': 'entropy', 'max_depth': 13, 'max_features': None, 'max_leaf_nodes': 50, 'min_samples_leaf': 3, 'presort': False},\n",
       " mean: 0.81818, std: 0.03683, params: {'class_weight': None, 'criterion': 'entropy', 'max_depth': 13, 'max_features': None, 'max_leaf_nodes': 60, 'min_samples_leaf': 2, 'presort': False},\n",
       " mean: 0.81818, std: 0.04358, params: {'class_weight': None, 'criterion': 'entropy', 'max_depth': 13, 'max_features': None, 'max_leaf_nodes': 70, 'min_samples_leaf': 5, 'presort': False},\n",
       " mean: 0.81818, std: 0.02875, params: {'class_weight': None, 'criterion': 'entropy', 'max_depth': 14, 'max_features': None, 'max_leaf_nodes': 10, 'min_samples_leaf': 9, 'presort': False},\n",
       " mean: 0.81818, std: 0.02875, params: {'class_weight': None, 'criterion': 'entropy', 'max_depth': 14, 'max_features': None, 'max_leaf_nodes': 10, 'min_samples_leaf': 10, 'presort': False},\n",
       " mean: 0.81818, std: 0.02875, params: {'class_weight': None, 'criterion': 'entropy', 'max_depth': 14, 'max_features': None, 'max_leaf_nodes': 10, 'min_samples_leaf': 11, 'presort': False},\n",
       " mean: 0.81818, std: 0.02892, params: {'class_weight': None, 'criterion': 'entropy', 'max_depth': 14, 'max_features': None, 'max_leaf_nodes': 20, 'min_samples_leaf': 9, 'presort': False},\n",
       " mean: 0.81818, std: 0.03293, params: {'class_weight': None, 'criterion': 'entropy', 'max_depth': 14, 'max_features': None, 'max_leaf_nodes': 20, 'min_samples_leaf': 11, 'presort': False},\n",
       " mean: 0.81818, std: 0.03698, params: {'class_weight': None, 'criterion': 'entropy', 'max_depth': 14, 'max_features': None, 'max_leaf_nodes': 30, 'min_samples_leaf': 3, 'presort': False},\n",
       " mean: 0.81818, std: 0.03571, params: {'class_weight': None, 'criterion': 'entropy', 'max_depth': 14, 'max_features': None, 'max_leaf_nodes': 40, 'min_samples_leaf': 6, 'presort': False},\n",
       " mean: 0.81818, std: 0.03932, params: {'class_weight': None, 'criterion': 'entropy', 'max_depth': 14, 'max_features': None, 'max_leaf_nodes': 50, 'min_samples_leaf': 2, 'presort': False},\n",
       " mean: 0.81818, std: 0.04159, params: {'class_weight': None, 'criterion': 'entropy', 'max_depth': 14, 'max_features': None, 'max_leaf_nodes': 50, 'min_samples_leaf': 6, 'presort': False},\n",
       " mean: 0.81818, std: 0.04101, params: {'class_weight': None, 'criterion': 'entropy', 'max_depth': 14, 'max_features': None, 'max_leaf_nodes': 60, 'min_samples_leaf': 3, 'presort': False},\n",
       " mean: 0.81818, std: 0.04667, params: {'class_weight': None, 'criterion': 'entropy', 'max_depth': 14, 'max_features': None, 'max_leaf_nodes': 90, 'min_samples_leaf': 5, 'presort': False},\n",
       " mean: 0.81706, std: 0.02725, params: {'class_weight': None, 'criterion': 'entropy', 'max_depth': 3, 'max_features': None, 'max_leaf_nodes': 10, 'min_samples_leaf': 6, 'presort': False},\n",
       " mean: 0.81706, std: 0.03253, params: {'class_weight': None, 'criterion': 'entropy', 'max_depth': 5, 'max_features': None, 'max_leaf_nodes': 20, 'min_samples_leaf': 11, 'presort': False},\n",
       " mean: 0.81706, std: 0.02766, params: {'class_weight': None, 'criterion': 'entropy', 'max_depth': 5, 'max_features': None, 'max_leaf_nodes': 30, 'min_samples_leaf': 7, 'presort': False},\n",
       " mean: 0.81706, std: 0.02801, params: {'class_weight': None, 'criterion': 'entropy', 'max_depth': 5, 'max_features': None, 'max_leaf_nodes': 30, 'min_samples_leaf': 8, 'presort': False},\n",
       " mean: 0.81706, std: 0.02705, params: {'class_weight': None, 'criterion': 'entropy', 'max_depth': 5, 'max_features': None, 'max_leaf_nodes': 30, 'min_samples_leaf': 13, 'presort': False},\n",
       " mean: 0.81706, std: 0.02766, params: {'class_weight': None, 'criterion': 'entropy', 'max_depth': 5, 'max_features': None, 'max_leaf_nodes': 40, 'min_samples_leaf': 7, 'presort': False},\n",
       " mean: 0.81706, std: 0.02801, params: {'class_weight': None, 'criterion': 'entropy', 'max_depth': 5, 'max_features': None, 'max_leaf_nodes': 40, 'min_samples_leaf': 8, 'presort': False},\n",
       " mean: 0.81706, std: 0.02705, params: {'class_weight': None, 'criterion': 'entropy', 'max_depth': 5, 'max_features': None, 'max_leaf_nodes': 40, 'min_samples_leaf': 13, 'presort': False},\n",
       " mean: 0.81706, std: 0.02766, params: {'class_weight': None, 'criterion': 'entropy', 'max_depth': 5, 'max_features': None, 'max_leaf_nodes': 50, 'min_samples_leaf': 7, 'presort': False},\n",
       " mean: 0.81706, std: 0.02801, params: {'class_weight': None, 'criterion': 'entropy', 'max_depth': 5, 'max_features': None, 'max_leaf_nodes': 50, 'min_samples_leaf': 8, 'presort': False},\n",
       " mean: 0.81706, std: 0.02705, params: {'class_weight': None, 'criterion': 'entropy', 'max_depth': 5, 'max_features': None, 'max_leaf_nodes': 50, 'min_samples_leaf': 13, 'presort': False},\n",
       " mean: 0.81706, std: 0.02766, params: {'class_weight': None, 'criterion': 'entropy', 'max_depth': 5, 'max_features': None, 'max_leaf_nodes': 60, 'min_samples_leaf': 7, 'presort': False},\n",
       " mean: 0.81706, std: 0.02801, params: {'class_weight': None, 'criterion': 'entropy', 'max_depth': 5, 'max_features': None, 'max_leaf_nodes': 60, 'min_samples_leaf': 8, 'presort': False},\n",
       " mean: 0.81706, std: 0.02705, params: {'class_weight': None, 'criterion': 'entropy', 'max_depth': 5, 'max_features': None, 'max_leaf_nodes': 60, 'min_samples_leaf': 13, 'presort': False},\n",
       " mean: 0.81706, std: 0.02766, params: {'class_weight': None, 'criterion': 'entropy', 'max_depth': 5, 'max_features': None, 'max_leaf_nodes': 70, 'min_samples_leaf': 7, 'presort': False},\n",
       " mean: 0.81706, std: 0.02801, params: {'class_weight': None, 'criterion': 'entropy', 'max_depth': 5, 'max_features': None, 'max_leaf_nodes': 70, 'min_samples_leaf': 8, 'presort': False},\n",
       " mean: 0.81706, std: 0.02705, params: {'class_weight': None, 'criterion': 'entropy', 'max_depth': 5, 'max_features': None, 'max_leaf_nodes': 70, 'min_samples_leaf': 13, 'presort': False},\n",
       " mean: 0.81706, std: 0.02766, params: {'class_weight': None, 'criterion': 'entropy', 'max_depth': 5, 'max_features': None, 'max_leaf_nodes': 80, 'min_samples_leaf': 7, 'presort': False},\n",
       " mean: 0.81706, std: 0.02801, params: {'class_weight': None, 'criterion': 'entropy', 'max_depth': 5, 'max_features': None, 'max_leaf_nodes': 80, 'min_samples_leaf': 8, 'presort': False},\n",
       " mean: 0.81706, std: 0.02705, params: {'class_weight': None, 'criterion': 'entropy', 'max_depth': 5, 'max_features': None, 'max_leaf_nodes': 80, 'min_samples_leaf': 13, 'presort': False},\n",
       " mean: 0.81706, std: 0.02766, params: {'class_weight': None, 'criterion': 'entropy', 'max_depth': 5, 'max_features': None, 'max_leaf_nodes': 90, 'min_samples_leaf': 7, 'presort': False},\n",
       " mean: 0.81706, std: 0.02801, params: {'class_weight': None, 'criterion': 'entropy', 'max_depth': 5, 'max_features': None, 'max_leaf_nodes': 90, 'min_samples_leaf': 8, 'presort': False},\n",
       " mean: 0.81706, std: 0.02705, params: {'class_weight': None, 'criterion': 'entropy', 'max_depth': 5, 'max_features': None, 'max_leaf_nodes': 90, 'min_samples_leaf': 13, 'presort': False},\n",
       " mean: 0.81706, std: 0.03574, params: {'class_weight': None, 'criterion': 'entropy', 'max_depth': 6, 'max_features': None, 'max_leaf_nodes': 20, 'min_samples_leaf': 5, 'presort': False},\n",
       " mean: 0.81706, std: 0.03319, params: {'class_weight': None, 'criterion': 'entropy', 'max_depth': 6, 'max_features': None, 'max_leaf_nodes': 20, 'min_samples_leaf': 6, 'presort': False},\n",
       " mean: 0.81706, std: 0.03243, params: {'class_weight': None, 'criterion': 'entropy', 'max_depth': 6, 'max_features': None, 'max_leaf_nodes': 20, 'min_samples_leaf': 8, 'presort': False},\n",
       " mean: 0.81706, std: 0.03443, params: {'class_weight': None, 'criterion': 'entropy', 'max_depth': 6, 'max_features': None, 'max_leaf_nodes': 20, 'min_samples_leaf': 10, 'presort': False},\n",
       " mean: 0.81706, std: 0.04231, params: {'class_weight': None, 'criterion': 'entropy', 'max_depth': 6, 'max_features': None, 'max_leaf_nodes': 50, 'min_samples_leaf': 2, 'presort': False},\n",
       " mean: 0.81706, std: 0.04251, params: {'class_weight': None, 'criterion': 'entropy', 'max_depth': 6, 'max_features': None, 'max_leaf_nodes': 60, 'min_samples_leaf': 4, 'presort': False},\n",
       " mean: 0.81706, std: 0.04763, params: {'class_weight': None, 'criterion': 'entropy', 'max_depth': 6, 'max_features': None, 'max_leaf_nodes': 70, 'min_samples_leaf': 3, 'presort': False},\n",
       " mean: 0.81706, std: 0.04251, params: {'class_weight': None, 'criterion': 'entropy', 'max_depth': 6, 'max_features': None, 'max_leaf_nodes': 70, 'min_samples_leaf': 4, 'presort': False},\n",
       " mean: 0.81706, std: 0.04231, params: {'class_weight': None, 'criterion': 'entropy', 'max_depth': 6, 'max_features': None, 'max_leaf_nodes': 80, 'min_samples_leaf': 2, 'presort': False},\n",
       " mean: 0.81706, std: 0.04251, params: {'class_weight': None, 'criterion': 'entropy', 'max_depth': 6, 'max_features': None, 'max_leaf_nodes': 80, 'min_samples_leaf': 4, 'presort': False},\n",
       " mean: 0.81706, std: 0.04203, params: {'class_weight': None, 'criterion': 'entropy', 'max_depth': 6, 'max_features': None, 'max_leaf_nodes': 90, 'min_samples_leaf': 3, 'presort': False},\n",
       " mean: 0.81706, std: 0.02191, params: {'class_weight': None, 'criterion': 'entropy', 'max_depth': 7, 'max_features': None, 'max_leaf_nodes': 40, 'min_samples_leaf': 11, 'presort': False},\n",
       " mean: 0.81706, std: 0.04211, params: {'class_weight': None, 'criterion': 'entropy', 'max_depth': 7, 'max_features': None, 'max_leaf_nodes': 50, 'min_samples_leaf': 2, 'presort': False},\n",
       " mean: 0.81706, std: 0.02191, params: {'class_weight': None, 'criterion': 'entropy', 'max_depth': 7, 'max_features': None, 'max_leaf_nodes': 50, 'min_samples_leaf': 11, 'presort': False},\n",
       " mean: 0.81706, std: 0.04356, params: {'class_weight': None, 'criterion': 'entropy', 'max_depth': 7, 'max_features': None, 'max_leaf_nodes': 60, 'min_samples_leaf': 3, 'presort': False},\n",
       " mean: 0.81706, std: 0.02191, params: {'class_weight': None, 'criterion': 'entropy', 'max_depth': 7, 'max_features': None, 'max_leaf_nodes': 60, 'min_samples_leaf': 11, 'presort': False},\n",
       " mean: 0.81706, std: 0.02191, params: {'class_weight': None, 'criterion': 'entropy', 'max_depth': 7, 'max_features': None, 'max_leaf_nodes': 70, 'min_samples_leaf': 11, 'presort': False},\n",
       " mean: 0.81706, std: 0.02191, params: {'class_weight': None, 'criterion': 'entropy', 'max_depth': 7, 'max_features': None, 'max_leaf_nodes': 80, 'min_samples_leaf': 11, 'presort': False},\n",
       " mean: 0.81706, std: 0.03604, params: {'class_weight': None, 'criterion': 'entropy', 'max_depth': 7, 'max_features': None, 'max_leaf_nodes': 90, 'min_samples_leaf': 12, 'presort': False},\n",
       " mean: 0.81706, std: 0.03851, params: {'class_weight': None, 'criterion': 'entropy', 'max_depth': 9, 'max_features': None, 'max_leaf_nodes': 60, 'min_samples_leaf': 12, 'presort': False},\n",
       " mean: 0.81706, std: 0.03851, params: {'class_weight': None, 'criterion': 'entropy', 'max_depth': 9, 'max_features': None, 'max_leaf_nodes': 90, 'min_samples_leaf': 12, 'presort': False},\n",
       " mean: 0.81706, std: 0.03406, params: {'class_weight': None, 'criterion': 'entropy', 'max_depth': 10, 'max_features': None, 'max_leaf_nodes': 20, 'min_samples_leaf': 4, 'presort': False},\n",
       " mean: 0.81706, std: 0.03158, params: {'class_weight': None, 'criterion': 'entropy', 'max_depth': 10, 'max_features': None, 'max_leaf_nodes': 30, 'min_samples_leaf': 13, 'presort': False},\n",
       " mean: 0.81706, std: 0.04313, params: {'class_weight': None, 'criterion': 'entropy', 'max_depth': 10, 'max_features': None, 'max_leaf_nodes': 40, 'min_samples_leaf': 5, 'presort': False},\n",
       " mean: 0.81706, std: 0.03851, params: {'class_weight': None, 'criterion': 'entropy', 'max_depth': 10, 'max_features': None, 'max_leaf_nodes': 40, 'min_samples_leaf': 12, 'presort': False},\n",
       " mean: 0.81706, std: 0.03022, params: {'class_weight': None, 'criterion': 'entropy', 'max_depth': 11, 'max_features': None, 'max_leaf_nodes': 20, 'min_samples_leaf': 9, 'presort': False},\n",
       " mean: 0.81706, std: 0.03158, params: {'class_weight': None, 'criterion': 'entropy', 'max_depth': 11, 'max_features': None, 'max_leaf_nodes': 30, 'min_samples_leaf': 13, 'presort': False},\n",
       " mean: 0.81706, std: 0.03500, params: {'class_weight': None, 'criterion': 'entropy', 'max_depth': 11, 'max_features': None, 'max_leaf_nodes': 40, 'min_samples_leaf': 1, 'presort': False},\n",
       " mean: 0.81706, std: 0.04009, params: {'class_weight': None, 'criterion': 'entropy', 'max_depth': 11, 'max_features': None, 'max_leaf_nodes': 40, 'min_samples_leaf': 4, 'presort': False},\n",
       " mean: 0.81706, std: 0.03979, params: {'class_weight': None, 'criterion': 'entropy', 'max_depth': 11, 'max_features': None, 'max_leaf_nodes': 60, 'min_samples_leaf': 2, 'presort': False},\n",
       " mean: 0.81706, std: 0.04387, params: {'class_weight': None, 'criterion': 'entropy', 'max_depth': 11, 'max_features': None, 'max_leaf_nodes': 70, 'min_samples_leaf': 5, 'presort': False},\n",
       " mean: 0.81706, std: 0.03022, params: {'class_weight': None, 'criterion': 'entropy', 'max_depth': 12, 'max_features': None, 'max_leaf_nodes': 20, 'min_samples_leaf': 9, 'presort': False},\n",
       " mean: 0.81706, std: 0.03158, params: {'class_weight': None, 'criterion': 'entropy', 'max_depth': 12, 'max_features': None, 'max_leaf_nodes': 30, 'min_samples_leaf': 13, 'presort': False},\n",
       " mean: 0.81706, std: 0.04185, params: {'class_weight': None, 'criterion': 'entropy', 'max_depth': 12, 'max_features': None, 'max_leaf_nodes': 60, 'min_samples_leaf': 4, 'presort': False},\n",
       " mean: 0.81706, std: 0.03851, params: {'class_weight': None, 'criterion': 'entropy', 'max_depth': 12, 'max_features': None, 'max_leaf_nodes': 80, 'min_samples_leaf': 12, 'presort': False},\n",
       " mean: 0.81706, std: 0.04979, params: {'class_weight': None, 'criterion': 'entropy', 'max_depth': 12, 'max_features': None, 'max_leaf_nodes': 90, 'min_samples_leaf': 5, 'presort': False},\n",
       " mean: 0.81706, std: 0.03022, params: {'class_weight': None, 'criterion': 'entropy', 'max_depth': 13, 'max_features': None, 'max_leaf_nodes': 20, 'min_samples_leaf': 9, 'presort': False},\n",
       " mean: 0.81706, std: 0.03158, params: {'class_weight': None, 'criterion': 'entropy', 'max_depth': 13, 'max_features': None, 'max_leaf_nodes': 30, 'min_samples_leaf': 13, 'presort': False},\n",
       " mean: 0.81706, std: 0.04660, params: {'class_weight': None, 'criterion': 'entropy', 'max_depth': 13, 'max_features': None, 'max_leaf_nodes': 50, 'min_samples_leaf': 5, 'presort': False},\n",
       " mean: 0.81706, std: 0.04037, params: {'class_weight': None, 'criterion': 'entropy', 'max_depth': 13, 'max_features': None, 'max_leaf_nodes': 60, 'min_samples_leaf': 6, 'presort': False},\n",
       " mean: 0.81706, std: 0.03851, params: {'class_weight': None, 'criterion': 'entropy', 'max_depth': 13, 'max_features': None, 'max_leaf_nodes': 70, 'min_samples_leaf': 12, 'presort': False},\n",
       " mean: 0.81706, std: 0.03851, params: {'class_weight': None, 'criterion': 'entropy', 'max_depth': 13, 'max_features': None, 'max_leaf_nodes': 80, 'min_samples_leaf': 12, 'presort': False},\n",
       " mean: 0.81706, std: 0.03406, params: {'class_weight': None, 'criterion': 'entropy', 'max_depth': 14, 'max_features': None, 'max_leaf_nodes': 20, 'min_samples_leaf': 4, 'presort': False},\n",
       " mean: 0.81706, std: 0.03158, params: {'class_weight': None, 'criterion': 'entropy', 'max_depth': 14, 'max_features': None, 'max_leaf_nodes': 30, 'min_samples_leaf': 13, 'presort': False},\n",
       " mean: 0.81706, std: 0.03845, params: {'class_weight': None, 'criterion': 'entropy', 'max_depth': 14, 'max_features': None, 'max_leaf_nodes': 50, 'min_samples_leaf': 3, 'presort': False},\n",
       " mean: 0.81706, std: 0.04088, params: {'class_weight': None, 'criterion': 'entropy', 'max_depth': 14, 'max_features': None, 'max_leaf_nodes': 60, 'min_samples_leaf': 2, 'presort': False},\n",
       " mean: 0.81706, std: 0.03851, params: {'class_weight': None, 'criterion': 'entropy', 'max_depth': 14, 'max_features': None, 'max_leaf_nodes': 70, 'min_samples_leaf': 12, 'presort': False},\n",
       " mean: 0.81706, std: 0.05187, params: {'class_weight': None, 'criterion': 'entropy', 'max_depth': 14, 'max_features': None, 'max_leaf_nodes': 80, 'min_samples_leaf': 4, 'presort': False},\n",
       " mean: 0.81706, std: 0.03851, params: {'class_weight': None, 'criterion': 'entropy', 'max_depth': 14, 'max_features': None, 'max_leaf_nodes': 90, 'min_samples_leaf': 12, 'presort': False},\n",
       " mean: 0.81594, std: 0.02594, params: {'class_weight': None, 'criterion': 'entropy', 'max_depth': 3, 'max_features': None, 'max_leaf_nodes': 10, 'min_samples_leaf': 7, 'presort': False},\n",
       " mean: 0.81594, std: 0.03193, params: {'class_weight': None, 'criterion': 'entropy', 'max_depth': 3, 'max_features': None, 'max_leaf_nodes': 20, 'min_samples_leaf': 2, 'presort': False},\n",
       " mean: 0.81594, std: 0.02795, params: {'class_weight': None, 'criterion': 'entropy', 'max_depth': 3, 'max_features': None, 'max_leaf_nodes': 20, 'min_samples_leaf': 5, 'presort': False},\n",
       " mean: 0.81594, std: 0.02594, params: {'class_weight': None, 'criterion': 'entropy', 'max_depth': 3, 'max_features': None, 'max_leaf_nodes': 20, 'min_samples_leaf': 7, 'presort': False},\n",
       " mean: 0.81594, std: 0.03193, params: {'class_weight': None, 'criterion': 'entropy', 'max_depth': 3, 'max_features': None, 'max_leaf_nodes': 30, 'min_samples_leaf': 2, 'presort': False},\n",
       " mean: 0.81594, std: 0.02795, params: {'class_weight': None, 'criterion': 'entropy', 'max_depth': 3, 'max_features': None, 'max_leaf_nodes': 30, 'min_samples_leaf': 5, 'presort': False},\n",
       " mean: 0.81594, std: 0.02594, params: {'class_weight': None, 'criterion': 'entropy', 'max_depth': 3, 'max_features': None, 'max_leaf_nodes': 30, 'min_samples_leaf': 7, 'presort': False},\n",
       " mean: 0.81594, std: 0.03193, params: {'class_weight': None, 'criterion': 'entropy', 'max_depth': 3, 'max_features': None, 'max_leaf_nodes': 40, 'min_samples_leaf': 2, 'presort': False},\n",
       " mean: 0.81594, std: 0.02795, params: {'class_weight': None, 'criterion': 'entropy', 'max_depth': 3, 'max_features': None, 'max_leaf_nodes': 40, 'min_samples_leaf': 5, 'presort': False},\n",
       " mean: 0.81594, std: 0.02594, params: {'class_weight': None, 'criterion': 'entropy', 'max_depth': 3, 'max_features': None, 'max_leaf_nodes': 40, 'min_samples_leaf': 7, 'presort': False},\n",
       " mean: 0.81594, std: 0.03193, params: {'class_weight': None, 'criterion': 'entropy', 'max_depth': 3, 'max_features': None, 'max_leaf_nodes': 50, 'min_samples_leaf': 2, 'presort': False},\n",
       " mean: 0.81594, std: 0.02795, params: {'class_weight': None, 'criterion': 'entropy', 'max_depth': 3, 'max_features': None, 'max_leaf_nodes': 50, 'min_samples_leaf': 5, 'presort': False},\n",
       " mean: 0.81594, std: 0.02594, params: {'class_weight': None, 'criterion': 'entropy', 'max_depth': 3, 'max_features': None, 'max_leaf_nodes': 50, 'min_samples_leaf': 7, 'presort': False},\n",
       " mean: 0.81594, std: 0.03193, params: {'class_weight': None, 'criterion': 'entropy', 'max_depth': 3, 'max_features': None, 'max_leaf_nodes': 60, 'min_samples_leaf': 2, 'presort': False},\n",
       " mean: 0.81594, std: 0.02795, params: {'class_weight': None, 'criterion': 'entropy', 'max_depth': 3, 'max_features': None, 'max_leaf_nodes': 60, 'min_samples_leaf': 5, 'presort': False},\n",
       " mean: 0.81594, std: 0.02594, params: {'class_weight': None, 'criterion': 'entropy', 'max_depth': 3, 'max_features': None, 'max_leaf_nodes': 60, 'min_samples_leaf': 7, 'presort': False},\n",
       " mean: 0.81594, std: 0.03193, params: {'class_weight': None, 'criterion': 'entropy', 'max_depth': 3, 'max_features': None, 'max_leaf_nodes': 70, 'min_samples_leaf': 2, 'presort': False},\n",
       " mean: 0.81594, std: 0.02795, params: {'class_weight': None, 'criterion': 'entropy', 'max_depth': 3, 'max_features': None, 'max_leaf_nodes': 70, 'min_samples_leaf': 5, 'presort': False},\n",
       " mean: 0.81594, std: 0.02594, params: {'class_weight': None, 'criterion': 'entropy', 'max_depth': 3, 'max_features': None, 'max_leaf_nodes': 70, 'min_samples_leaf': 7, 'presort': False},\n",
       " mean: 0.81594, std: 0.03193, params: {'class_weight': None, 'criterion': 'entropy', 'max_depth': 3, 'max_features': None, 'max_leaf_nodes': 80, 'min_samples_leaf': 2, 'presort': False},\n",
       " mean: 0.81594, std: 0.02795, params: {'class_weight': None, 'criterion': 'entropy', 'max_depth': 3, 'max_features': None, 'max_leaf_nodes': 80, 'min_samples_leaf': 5, 'presort': False},\n",
       " mean: 0.81594, std: 0.02594, params: {'class_weight': None, 'criterion': 'entropy', 'max_depth': 3, 'max_features': None, 'max_leaf_nodes': 80, 'min_samples_leaf': 7, 'presort': False},\n",
       " mean: 0.81594, std: 0.03193, params: {'class_weight': None, 'criterion': 'entropy', 'max_depth': 3, 'max_features': None, 'max_leaf_nodes': 90, 'min_samples_leaf': 2, 'presort': False},\n",
       " mean: 0.81594, std: 0.02795, params: {'class_weight': None, 'criterion': 'entropy', 'max_depth': 3, 'max_features': None, 'max_leaf_nodes': 90, 'min_samples_leaf': 5, 'presort': False},\n",
       " mean: 0.81594, std: 0.02594, params: {'class_weight': None, 'criterion': 'entropy', 'max_depth': 3, 'max_features': None, 'max_leaf_nodes': 90, 'min_samples_leaf': 7, 'presort': False},\n",
       " mean: 0.81594, std: 0.04314, params: {'class_weight': None, 'criterion': 'entropy', 'max_depth': 4, 'max_features': None, 'max_leaf_nodes': 20, 'min_samples_leaf': 10, 'presort': False},\n",
       " mean: 0.81594, std: 0.04376, params: {'class_weight': None, 'criterion': 'entropy', 'max_depth': 4, 'max_features': None, 'max_leaf_nodes': 30, 'min_samples_leaf': 7, 'presort': False},\n",
       " mean: 0.81594, std: 0.04314, params: {'class_weight': None, 'criterion': 'entropy', 'max_depth': 4, 'max_features': None, 'max_leaf_nodes': 30, 'min_samples_leaf': 10, 'presort': False},\n",
       " mean: 0.81594, std: 0.04314, params: {'class_weight': None, 'criterion': 'entropy', 'max_depth': 4, 'max_features': None, 'max_leaf_nodes': 40, 'min_samples_leaf': 9, 'presort': False},\n",
       " mean: 0.81594, std: 0.04314, params: {'class_weight': None, 'criterion': 'entropy', 'max_depth': 4, 'max_features': None, 'max_leaf_nodes': 40, 'min_samples_leaf': 10, 'presort': False},\n",
       " mean: 0.81594, std: 0.04314, params: {'class_weight': None, 'criterion': 'entropy', 'max_depth': 4, 'max_features': None, 'max_leaf_nodes': 50, 'min_samples_leaf': 9, 'presort': False},\n",
       " mean: 0.81594, std: 0.04314, params: {'class_weight': None, 'criterion': 'entropy', 'max_depth': 4, 'max_features': None, 'max_leaf_nodes': 50, 'min_samples_leaf': 10, 'presort': False},\n",
       " mean: 0.81594, std: 0.04314, params: {'class_weight': None, 'criterion': 'entropy', 'max_depth': 4, 'max_features': None, 'max_leaf_nodes': 60, 'min_samples_leaf': 10, 'presort': False},\n",
       " mean: 0.81594, std: 0.04458, params: {'class_weight': None, 'criterion': 'entropy', 'max_depth': 4, 'max_features': None, 'max_leaf_nodes': 70, 'min_samples_leaf': 8, 'presort': False},\n",
       " mean: 0.81594, std: 0.04314, params: {'class_weight': None, 'criterion': 'entropy', 'max_depth': 4, 'max_features': None, 'max_leaf_nodes': 70, 'min_samples_leaf': 9, 'presort': False},\n",
       " mean: 0.81594, std: 0.04314, params: {'class_weight': None, 'criterion': 'entropy', 'max_depth': 4, 'max_features': None, 'max_leaf_nodes': 70, 'min_samples_leaf': 10, 'presort': False},\n",
       " mean: 0.81594, std: 0.04314, params: {'class_weight': None, 'criterion': 'entropy', 'max_depth': 4, 'max_features': None, 'max_leaf_nodes': 80, 'min_samples_leaf': 9, 'presort': False},\n",
       " mean: 0.81594, std: 0.04314, params: {'class_weight': None, 'criterion': 'entropy', 'max_depth': 4, 'max_features': None, 'max_leaf_nodes': 80, 'min_samples_leaf': 10, 'presort': False},\n",
       " mean: 0.81594, std: 0.04376, params: {'class_weight': None, 'criterion': 'entropy', 'max_depth': 4, 'max_features': None, 'max_leaf_nodes': 90, 'min_samples_leaf': 7, 'presort': False},\n",
       " mean: 0.81594, std: 0.04458, params: {'class_weight': None, 'criterion': 'entropy', 'max_depth': 4, 'max_features': None, 'max_leaf_nodes': 90, 'min_samples_leaf': 8, 'presort': False},\n",
       " mean: 0.81594, std: 0.03151, params: {'class_weight': None, 'criterion': 'entropy', 'max_depth': 5, 'max_features': None, 'max_leaf_nodes': 20, 'min_samples_leaf': 7, 'presort': False},\n",
       " mean: 0.81594, std: 0.03183, params: {'class_weight': None, 'criterion': 'entropy', 'max_depth': 5, 'max_features': None, 'max_leaf_nodes': 20, 'min_samples_leaf': 8, 'presort': False},\n",
       " mean: 0.81594, std: 0.03578, params: {'class_weight': None, 'criterion': 'entropy', 'max_depth': 5, 'max_features': None, 'max_leaf_nodes': 20, 'min_samples_leaf': 10, 'presort': False},\n",
       " mean: 0.81594, std: 0.02296, params: {'class_weight': None, 'criterion': 'entropy', 'max_depth': 5, 'max_features': None, 'max_leaf_nodes': 20, 'min_samples_leaf': 14, 'presort': False},\n",
       " mean: 0.81594, std: 0.02881, params: {'class_weight': None, 'criterion': 'entropy', 'max_depth': 5, 'max_features': None, 'max_leaf_nodes': 30, 'min_samples_leaf': 12, 'presort': False},\n",
       " mean: 0.81594, std: 0.02881, params: {'class_weight': None, 'criterion': 'entropy', 'max_depth': 5, 'max_features': None, 'max_leaf_nodes': 40, 'min_samples_leaf': 12, 'presort': False},\n",
       " mean: 0.81594, std: 0.02881, params: {'class_weight': None, 'criterion': 'entropy', 'max_depth': 5, 'max_features': None, 'max_leaf_nodes': 50, 'min_samples_leaf': 12, 'presort': False},\n",
       " mean: 0.81594, std: 0.02881, params: {'class_weight': None, 'criterion': 'entropy', 'max_depth': 5, 'max_features': None, 'max_leaf_nodes': 60, 'min_samples_leaf': 12, 'presort': False},\n",
       " mean: 0.81594, std: 0.02881, params: {'class_weight': None, 'criterion': 'entropy', 'max_depth': 5, 'max_features': None, 'max_leaf_nodes': 70, 'min_samples_leaf': 12, 'presort': False},\n",
       " mean: 0.81594, std: 0.02881, params: {'class_weight': None, 'criterion': 'entropy', 'max_depth': 5, 'max_features': None, 'max_leaf_nodes': 80, 'min_samples_leaf': 12, 'presort': False},\n",
       " mean: 0.81594, std: 0.02881, params: {'class_weight': None, 'criterion': 'entropy', 'max_depth': 5, 'max_features': None, 'max_leaf_nodes': 90, 'min_samples_leaf': 12, 'presort': False},\n",
       " mean: 0.81594, std: 0.03623, params: {'class_weight': None, 'criterion': 'entropy', 'max_depth': 6, 'max_features': None, 'max_leaf_nodes': 20, 'min_samples_leaf': 4, 'presort': False},\n",
       " mean: 0.81594, std: 0.03580, params: {'class_weight': None, 'criterion': 'entropy', 'max_depth': 6, 'max_features': None, 'max_leaf_nodes': 30, 'min_samples_leaf': 3, 'presort': False},\n",
       " mean: 0.81594, std: 0.04346, params: {'class_weight': None, 'criterion': 'entropy', 'max_depth': 6, 'max_features': None, 'max_leaf_nodes': 60, 'min_samples_leaf': 3, 'presort': False},\n",
       " mean: 0.81594, std: 0.02817, params: {'class_weight': None, 'criterion': 'entropy', 'max_depth': 6, 'max_features': None, 'max_leaf_nodes': 70, 'min_samples_leaf': 12, 'presort': False},\n",
       " mean: 0.81594, std: 0.03271, params: {'class_weight': None, 'criterion': 'entropy', 'max_depth': 7, 'max_features': None, 'max_leaf_nodes': 20, 'min_samples_leaf': 8, 'presort': False},\n",
       " mean: 0.81594, std: 0.03140, params: {'class_weight': None, 'criterion': 'entropy', 'max_depth': 7, 'max_features': None, 'max_leaf_nodes': 30, 'min_samples_leaf': 13, 'presort': False},\n",
       " mean: 0.81594, std: 0.03858, params: {'class_weight': None, 'criterion': 'entropy', 'max_depth': 7, 'max_features': None, 'max_leaf_nodes': 60, 'min_samples_leaf': 1, 'presort': False},\n",
       " mean: 0.81594, std: 0.04092, params: {'class_weight': None, 'criterion': 'entropy', 'max_depth': 7, 'max_features': None, 'max_leaf_nodes': 60, 'min_samples_leaf': 4, 'presort': False},\n",
       " mean: 0.81594, std: 0.04138, params: {'class_weight': None, 'criterion': 'entropy', 'max_depth': 7, 'max_features': None, 'max_leaf_nodes': 70, 'min_samples_leaf': 1, 'presort': False},\n",
       " mean: 0.81594, std: 0.04144, params: {'class_weight': None, 'criterion': 'entropy', 'max_depth': 7, 'max_features': None, 'max_leaf_nodes': 80, 'min_samples_leaf': 1, 'presort': False},\n",
       " mean: 0.81594, std: 0.03927, params: {'class_weight': None, 'criterion': 'entropy', 'max_depth': 7, 'max_features': None, 'max_leaf_nodes': 90, 'min_samples_leaf': 1, 'presort': False},\n",
       " mean: 0.81594, std: 0.03271, params: {'class_weight': None, 'criterion': 'entropy', 'max_depth': 8, 'max_features': None, 'max_leaf_nodes': 20, 'min_samples_leaf': 8, 'presort': False},\n",
       " mean: 0.81594, std: 0.03389, params: {'class_weight': None, 'criterion': 'entropy', 'max_depth': 8, 'max_features': None, 'max_leaf_nodes': 30, 'min_samples_leaf': 10, 'presort': False},\n",
       " mean: 0.81594, std: 0.03140, params: {'class_weight': None, 'criterion': 'entropy', 'max_depth': 8, 'max_features': None, 'max_leaf_nodes': 30, 'min_samples_leaf': 13, 'presort': False},\n",
       " mean: 0.81594, std: 0.03271, params: {'class_weight': None, 'criterion': 'entropy', 'max_depth': 9, 'max_features': None, 'max_leaf_nodes': 20, 'min_samples_leaf': 8, 'presort': False},\n",
       " mean: 0.81594, std: 0.03277, params: {'class_weight': None, 'criterion': 'entropy', 'max_depth': 9, 'max_features': None, 'max_leaf_nodes': 30, 'min_samples_leaf': 10, 'presort': False},\n",
       " mean: 0.81594, std: 0.03803, params: {'class_weight': None, 'criterion': 'entropy', 'max_depth': 9, 'max_features': None, 'max_leaf_nodes': 40, 'min_samples_leaf': 3, 'presort': False},\n",
       " mean: 0.81594, std: 0.04193, params: {'class_weight': None, 'criterion': 'entropy', 'max_depth': 9, 'max_features': None, 'max_leaf_nodes': 40, 'min_samples_leaf': 5, 'presort': False},\n",
       " mean: 0.81594, std: 0.03271, params: {'class_weight': None, 'criterion': 'entropy', 'max_depth': 10, 'max_features': None, 'max_leaf_nodes': 20, 'min_samples_leaf': 8, 'presort': False},\n",
       " mean: 0.81594, std: 0.02637, params: {'class_weight': None, 'criterion': 'entropy', 'max_depth': 10, 'max_features': None, 'max_leaf_nodes': 30, 'min_samples_leaf': 14, 'presort': False},\n",
       " mean: 0.81594, std: 0.03982, params: {'class_weight': None, 'criterion': 'entropy', 'max_depth': 10, 'max_features': None, 'max_leaf_nodes': 40, 'min_samples_leaf': 4, 'presort': False},\n",
       " mean: 0.81594, std: 0.03982, params: {'class_weight': None, 'criterion': 'entropy', 'max_depth': 10, 'max_features': None, 'max_leaf_nodes': 50, 'min_samples_leaf': 3, 'presort': False},\n",
       " mean: 0.81594, std: 0.04687, params: {'class_weight': None, 'criterion': 'entropy', 'max_depth': 10, 'max_features': None, 'max_leaf_nodes': 70, 'min_samples_leaf': 5, 'presort': False},\n",
       " mean: 0.81594, std: 0.03271, params: {'class_weight': None, 'criterion': 'entropy', 'max_depth': 11, 'max_features': None, 'max_leaf_nodes': 20, 'min_samples_leaf': 8, 'presort': False},\n",
       " mean: 0.81594, std: 0.03277, params: {'class_weight': None, 'criterion': 'entropy', 'max_depth': 11, 'max_features': None, 'max_leaf_nodes': 30, 'min_samples_leaf': 10, 'presort': False},\n",
       " mean: 0.81594, std: 0.02637, params: {'class_weight': None, 'criterion': 'entropy', 'max_depth': 11, 'max_features': None, 'max_leaf_nodes': 30, 'min_samples_leaf': 14, 'presort': False},\n",
       " mean: 0.81594, std: 0.03271, params: {'class_weight': None, 'criterion': 'entropy', 'max_depth': 12, 'max_features': None, 'max_leaf_nodes': 20, 'min_samples_leaf': 8, 'presort': False},\n",
       " mean: 0.81594, std: 0.02637, params: {'class_weight': None, 'criterion': 'entropy', 'max_depth': 12, 'max_features': None, 'max_leaf_nodes': 30, 'min_samples_leaf': 14, 'presort': False},\n",
       " mean: 0.81594, std: 0.03271, params: {'class_weight': None, 'criterion': 'entropy', 'max_depth': 13, 'max_features': None, 'max_leaf_nodes': 20, 'min_samples_leaf': 8, 'presort': False},\n",
       " mean: 0.81594, std: 0.02637, params: {'class_weight': None, 'criterion': 'entropy', 'max_depth': 13, 'max_features': None, 'max_leaf_nodes': 30, 'min_samples_leaf': 14, 'presort': False},\n",
       " mean: 0.81594, std: 0.04019, params: {'class_weight': None, 'criterion': 'entropy', 'max_depth': 13, 'max_features': None, 'max_leaf_nodes': 60, 'min_samples_leaf': 1, 'presort': False},\n",
       " mean: 0.81594, std: 0.03271, params: {'class_weight': None, 'criterion': 'entropy', 'max_depth': 14, 'max_features': None, 'max_leaf_nodes': 20, 'min_samples_leaf': 8, 'presort': False},\n",
       " mean: 0.81594, std: 0.02637, params: {'class_weight': None, 'criterion': 'entropy', 'max_depth': 14, 'max_features': None, 'max_leaf_nodes': 30, 'min_samples_leaf': 14, 'presort': False},\n",
       " mean: 0.81594, std: 0.03680, params: {'class_weight': None, 'criterion': 'entropy', 'max_depth': 14, 'max_features': None, 'max_leaf_nodes': 50, 'min_samples_leaf': 1, 'presort': False},\n",
       " mean: 0.81594, std: 0.03868, params: {'class_weight': None, 'criterion': 'entropy', 'max_depth': 14, 'max_features': None, 'max_leaf_nodes': 60, 'min_samples_leaf': 6, 'presort': False},\n",
       " mean: 0.81594, std: 0.04307, params: {'class_weight': None, 'criterion': 'entropy', 'max_depth': 14, 'max_features': None, 'max_leaf_nodes': 70, 'min_samples_leaf': 5, 'presort': False},\n",
       " mean: 0.81594, std: 0.04927, params: {'class_weight': None, 'criterion': 'entropy', 'max_depth': 14, 'max_features': None, 'max_leaf_nodes': 90, 'min_samples_leaf': 4, 'presort': False},\n",
       " mean: 0.81481, std: 0.02987, params: {'class_weight': None, 'criterion': 'entropy', 'max_depth': 2, 'max_features': None, 'max_leaf_nodes': 10, 'min_samples_leaf': 2, 'presort': False},\n",
       " mean: 0.81481, std: 0.02987, params: {'class_weight': None, 'criterion': 'entropy', 'max_depth': 2, 'max_features': None, 'max_leaf_nodes': 10, 'min_samples_leaf': 3, 'presort': False},\n",
       " mean: 0.81481, std: 0.02987, params: {'class_weight': None, 'criterion': 'entropy', 'max_depth': 2, 'max_features': None, 'max_leaf_nodes': 10, 'min_samples_leaf': 4, 'presort': False},\n",
       " mean: 0.81481, std: 0.02987, params: {'class_weight': None, 'criterion': 'entropy', 'max_depth': 2, 'max_features': None, 'max_leaf_nodes': 10, 'min_samples_leaf': 5, 'presort': False},\n",
       " mean: 0.81481, std: 0.02987, params: {'class_weight': None, 'criterion': 'entropy', 'max_depth': 2, 'max_features': None, 'max_leaf_nodes': 10, 'min_samples_leaf': 6, 'presort': False},\n",
       " mean: 0.81481, std: 0.02987, params: {'class_weight': None, 'criterion': 'entropy', 'max_depth': 2, 'max_features': None, 'max_leaf_nodes': 10, 'min_samples_leaf': 7, 'presort': False},\n",
       " mean: 0.81481, std: 0.02987, params: {'class_weight': None, 'criterion': 'entropy', 'max_depth': 2, 'max_features': None, 'max_leaf_nodes': 10, 'min_samples_leaf': 8, 'presort': False},\n",
       " mean: 0.81481, std: 0.02987, params: {'class_weight': None, 'criterion': 'entropy', 'max_depth': 2, 'max_features': None, 'max_leaf_nodes': 10, 'min_samples_leaf': 9, 'presort': False},\n",
       " mean: 0.81481, std: 0.02987, params: {'class_weight': None, 'criterion': 'entropy', 'max_depth': 2, 'max_features': None, 'max_leaf_nodes': 10, 'min_samples_leaf': 10, 'presort': False},\n",
       " mean: 0.81481, std: 0.02987, params: {'class_weight': None, 'criterion': 'entropy', 'max_depth': 2, 'max_features': None, 'max_leaf_nodes': 10, 'min_samples_leaf': 11, 'presort': False},\n",
       " mean: 0.81481, std: 0.02987, params: {'class_weight': None, 'criterion': 'entropy', 'max_depth': 2, 'max_features': None, 'max_leaf_nodes': 20, 'min_samples_leaf': 2, 'presort': False},\n",
       " mean: 0.81481, std: 0.02987, params: {'class_weight': None, 'criterion': 'entropy', 'max_depth': 2, 'max_features': None, 'max_leaf_nodes': 20, 'min_samples_leaf': 3, 'presort': False},\n",
       " mean: 0.81481, std: 0.02987, params: {'class_weight': None, 'criterion': 'entropy', 'max_depth': 2, 'max_features': None, 'max_leaf_nodes': 20, 'min_samples_leaf': 4, 'presort': False},\n",
       " mean: 0.81481, std: 0.02987, params: {'class_weight': None, 'criterion': 'entropy', 'max_depth': 2, 'max_features': None, 'max_leaf_nodes': 20, 'min_samples_leaf': 5, 'presort': False},\n",
       " mean: 0.81481, std: 0.02987, params: {'class_weight': None, 'criterion': 'entropy', 'max_depth': 2, 'max_features': None, 'max_leaf_nodes': 20, 'min_samples_leaf': 6, 'presort': False},\n",
       " mean: 0.81481, std: 0.02987, params: {'class_weight': None, 'criterion': 'entropy', 'max_depth': 2, 'max_features': None, 'max_leaf_nodes': 20, 'min_samples_leaf': 7, 'presort': False},\n",
       " mean: 0.81481, std: 0.02987, params: {'class_weight': None, 'criterion': 'entropy', 'max_depth': 2, 'max_features': None, 'max_leaf_nodes': 20, 'min_samples_leaf': 8, 'presort': False},\n",
       " mean: 0.81481, std: 0.02987, params: {'class_weight': None, 'criterion': 'entropy', 'max_depth': 2, 'max_features': None, 'max_leaf_nodes': 20, 'min_samples_leaf': 9, 'presort': False},\n",
       " mean: 0.81481, std: 0.02987, params: {'class_weight': None, 'criterion': 'entropy', 'max_depth': 2, 'max_features': None, 'max_leaf_nodes': 20, 'min_samples_leaf': 10, 'presort': False},\n",
       " mean: 0.81481, std: 0.02987, params: {'class_weight': None, 'criterion': 'entropy', 'max_depth': 2, 'max_features': None, 'max_leaf_nodes': 20, 'min_samples_leaf': 11, 'presort': False},\n",
       " mean: 0.81481, std: 0.02987, params: {'class_weight': None, 'criterion': 'entropy', 'max_depth': 2, 'max_features': None, 'max_leaf_nodes': 30, 'min_samples_leaf': 2, 'presort': False},\n",
       " mean: 0.81481, std: 0.02987, params: {'class_weight': None, 'criterion': 'entropy', 'max_depth': 2, 'max_features': None, 'max_leaf_nodes': 30, 'min_samples_leaf': 3, 'presort': False},\n",
       " mean: 0.81481, std: 0.02987, params: {'class_weight': None, 'criterion': 'entropy', 'max_depth': 2, 'max_features': None, 'max_leaf_nodes': 30, 'min_samples_leaf': 4, 'presort': False},\n",
       " mean: 0.81481, std: 0.02987, params: {'class_weight': None, 'criterion': 'entropy', 'max_depth': 2, 'max_features': None, 'max_leaf_nodes': 30, 'min_samples_leaf': 5, 'presort': False},\n",
       " mean: 0.81481, std: 0.02987, params: {'class_weight': None, 'criterion': 'entropy', 'max_depth': 2, 'max_features': None, 'max_leaf_nodes': 30, 'min_samples_leaf': 6, 'presort': False},\n",
       " mean: 0.81481, std: 0.02987, params: {'class_weight': None, 'criterion': 'entropy', 'max_depth': 2, 'max_features': None, 'max_leaf_nodes': 30, 'min_samples_leaf': 7, 'presort': False},\n",
       " mean: 0.81481, std: 0.02987, params: {'class_weight': None, 'criterion': 'entropy', 'max_depth': 2, 'max_features': None, 'max_leaf_nodes': 30, 'min_samples_leaf': 8, 'presort': False},\n",
       " mean: 0.81481, std: 0.02987, params: {'class_weight': None, 'criterion': 'entropy', 'max_depth': 2, 'max_features': None, 'max_leaf_nodes': 30, 'min_samples_leaf': 9, 'presort': False},\n",
       " mean: 0.81481, std: 0.02987, params: {'class_weight': None, 'criterion': 'entropy', 'max_depth': 2, 'max_features': None, 'max_leaf_nodes': 30, 'min_samples_leaf': 10, 'presort': False},\n",
       " mean: 0.81481, std: 0.02987, params: {'class_weight': None, 'criterion': 'entropy', 'max_depth': 2, 'max_features': None, 'max_leaf_nodes': 30, 'min_samples_leaf': 11, 'presort': False},\n",
       " mean: 0.81481, std: 0.02987, params: {'class_weight': None, 'criterion': 'entropy', 'max_depth': 2, 'max_features': None, 'max_leaf_nodes': 40, 'min_samples_leaf': 2, 'presort': False},\n",
       " mean: 0.81481, std: 0.02987, params: {'class_weight': None, 'criterion': 'entropy', 'max_depth': 2, 'max_features': None, 'max_leaf_nodes': 40, 'min_samples_leaf': 3, 'presort': False},\n",
       " mean: 0.81481, std: 0.02987, params: {'class_weight': None, 'criterion': 'entropy', 'max_depth': 2, 'max_features': None, 'max_leaf_nodes': 40, 'min_samples_leaf': 4, 'presort': False},\n",
       " mean: 0.81481, std: 0.02987, params: {'class_weight': None, 'criterion': 'entropy', 'max_depth': 2, 'max_features': None, 'max_leaf_nodes': 40, 'min_samples_leaf': 5, 'presort': False},\n",
       " mean: 0.81481, std: 0.02987, params: {'class_weight': None, 'criterion': 'entropy', 'max_depth': 2, 'max_features': None, 'max_leaf_nodes': 40, 'min_samples_leaf': 6, 'presort': False},\n",
       " mean: 0.81481, std: 0.02987, params: {'class_weight': None, 'criterion': 'entropy', 'max_depth': 2, 'max_features': None, 'max_leaf_nodes': 40, 'min_samples_leaf': 7, 'presort': False},\n",
       " mean: 0.81481, std: 0.02987, params: {'class_weight': None, 'criterion': 'entropy', 'max_depth': 2, 'max_features': None, 'max_leaf_nodes': 40, 'min_samples_leaf': 8, 'presort': False},\n",
       " mean: 0.81481, std: 0.02987, params: {'class_weight': None, 'criterion': 'entropy', 'max_depth': 2, 'max_features': None, 'max_leaf_nodes': 40, 'min_samples_leaf': 9, 'presort': False},\n",
       " mean: 0.81481, std: 0.02987, params: {'class_weight': None, 'criterion': 'entropy', 'max_depth': 2, 'max_features': None, 'max_leaf_nodes': 40, 'min_samples_leaf': 10, 'presort': False},\n",
       " mean: 0.81481, std: 0.02987, params: {'class_weight': None, 'criterion': 'entropy', 'max_depth': 2, 'max_features': None, 'max_leaf_nodes': 40, 'min_samples_leaf': 11, 'presort': False},\n",
       " mean: 0.81481, std: 0.02987, params: {'class_weight': None, 'criterion': 'entropy', 'max_depth': 2, 'max_features': None, 'max_leaf_nodes': 50, 'min_samples_leaf': 2, 'presort': False},\n",
       " mean: 0.81481, std: 0.02987, params: {'class_weight': None, 'criterion': 'entropy', 'max_depth': 2, 'max_features': None, 'max_leaf_nodes': 50, 'min_samples_leaf': 3, 'presort': False},\n",
       " mean: 0.81481, std: 0.02987, params: {'class_weight': None, 'criterion': 'entropy', 'max_depth': 2, 'max_features': None, 'max_leaf_nodes': 50, 'min_samples_leaf': 4, 'presort': False},\n",
       " mean: 0.81481, std: 0.02987, params: {'class_weight': None, 'criterion': 'entropy', 'max_depth': 2, 'max_features': None, 'max_leaf_nodes': 50, 'min_samples_leaf': 5, 'presort': False},\n",
       " mean: 0.81481, std: 0.02987, params: {'class_weight': None, 'criterion': 'entropy', 'max_depth': 2, 'max_features': None, 'max_leaf_nodes': 50, 'min_samples_leaf': 6, 'presort': False},\n",
       " mean: 0.81481, std: 0.02987, params: {'class_weight': None, 'criterion': 'entropy', 'max_depth': 2, 'max_features': None, 'max_leaf_nodes': 50, 'min_samples_leaf': 7, 'presort': False},\n",
       " mean: 0.81481, std: 0.02987, params: {'class_weight': None, 'criterion': 'entropy', 'max_depth': 2, 'max_features': None, 'max_leaf_nodes': 50, 'min_samples_leaf': 8, 'presort': False},\n",
       " mean: 0.81481, std: 0.02987, params: {'class_weight': None, 'criterion': 'entropy', 'max_depth': 2, 'max_features': None, 'max_leaf_nodes': 50, 'min_samples_leaf': 9, 'presort': False},\n",
       " mean: 0.81481, std: 0.02987, params: {'class_weight': None, 'criterion': 'entropy', 'max_depth': 2, 'max_features': None, 'max_leaf_nodes': 50, 'min_samples_leaf': 10, 'presort': False},\n",
       " mean: 0.81481, std: 0.02987, params: {'class_weight': None, 'criterion': 'entropy', 'max_depth': 2, 'max_features': None, 'max_leaf_nodes': 50, 'min_samples_leaf': 11, 'presort': False},\n",
       " mean: 0.81481, std: 0.02987, params: {'class_weight': None, 'criterion': 'entropy', 'max_depth': 2, 'max_features': None, 'max_leaf_nodes': 60, 'min_samples_leaf': 2, 'presort': False},\n",
       " mean: 0.81481, std: 0.02987, params: {'class_weight': None, 'criterion': 'entropy', 'max_depth': 2, 'max_features': None, 'max_leaf_nodes': 60, 'min_samples_leaf': 3, 'presort': False},\n",
       " mean: 0.81481, std: 0.02987, params: {'class_weight': None, 'criterion': 'entropy', 'max_depth': 2, 'max_features': None, 'max_leaf_nodes': 60, 'min_samples_leaf': 4, 'presort': False},\n",
       " mean: 0.81481, std: 0.02987, params: {'class_weight': None, 'criterion': 'entropy', 'max_depth': 2, 'max_features': None, 'max_leaf_nodes': 60, 'min_samples_leaf': 5, 'presort': False},\n",
       " mean: 0.81481, std: 0.02987, params: {'class_weight': None, 'criterion': 'entropy', 'max_depth': 2, 'max_features': None, 'max_leaf_nodes': 60, 'min_samples_leaf': 6, 'presort': False},\n",
       " mean: 0.81481, std: 0.02987, params: {'class_weight': None, 'criterion': 'entropy', 'max_depth': 2, 'max_features': None, 'max_leaf_nodes': 60, 'min_samples_leaf': 7, 'presort': False},\n",
       " mean: 0.81481, std: 0.02987, params: {'class_weight': None, 'criterion': 'entropy', 'max_depth': 2, 'max_features': None, 'max_leaf_nodes': 60, 'min_samples_leaf': 8, 'presort': False},\n",
       " mean: 0.81481, std: 0.02987, params: {'class_weight': None, 'criterion': 'entropy', 'max_depth': 2, 'max_features': None, 'max_leaf_nodes': 60, 'min_samples_leaf': 9, 'presort': False},\n",
       " mean: 0.81481, std: 0.02987, params: {'class_weight': None, 'criterion': 'entropy', 'max_depth': 2, 'max_features': None, 'max_leaf_nodes': 60, 'min_samples_leaf': 10, 'presort': False},\n",
       " mean: 0.81481, std: 0.02987, params: {'class_weight': None, 'criterion': 'entropy', 'max_depth': 2, 'max_features': None, 'max_leaf_nodes': 60, 'min_samples_leaf': 11, 'presort': False},\n",
       " mean: 0.81481, std: 0.02987, params: {'class_weight': None, 'criterion': 'entropy', 'max_depth': 2, 'max_features': None, 'max_leaf_nodes': 70, 'min_samples_leaf': 2, 'presort': False},\n",
       " mean: 0.81481, std: 0.02987, params: {'class_weight': None, 'criterion': 'entropy', 'max_depth': 2, 'max_features': None, 'max_leaf_nodes': 70, 'min_samples_leaf': 3, 'presort': False},\n",
       " mean: 0.81481, std: 0.02987, params: {'class_weight': None, 'criterion': 'entropy', 'max_depth': 2, 'max_features': None, 'max_leaf_nodes': 70, 'min_samples_leaf': 4, 'presort': False},\n",
       " mean: 0.81481, std: 0.02987, params: {'class_weight': None, 'criterion': 'entropy', 'max_depth': 2, 'max_features': None, 'max_leaf_nodes': 70, 'min_samples_leaf': 5, 'presort': False},\n",
       " mean: 0.81481, std: 0.02987, params: {'class_weight': None, 'criterion': 'entropy', 'max_depth': 2, 'max_features': None, 'max_leaf_nodes': 70, 'min_samples_leaf': 6, 'presort': False},\n",
       " mean: 0.81481, std: 0.02987, params: {'class_weight': None, 'criterion': 'entropy', 'max_depth': 2, 'max_features': None, 'max_leaf_nodes': 70, 'min_samples_leaf': 7, 'presort': False},\n",
       " mean: 0.81481, std: 0.02987, params: {'class_weight': None, 'criterion': 'entropy', 'max_depth': 2, 'max_features': None, 'max_leaf_nodes': 70, 'min_samples_leaf': 8, 'presort': False},\n",
       " mean: 0.81481, std: 0.02987, params: {'class_weight': None, 'criterion': 'entropy', 'max_depth': 2, 'max_features': None, 'max_leaf_nodes': 70, 'min_samples_leaf': 9, 'presort': False},\n",
       " mean: 0.81481, std: 0.02987, params: {'class_weight': None, 'criterion': 'entropy', 'max_depth': 2, 'max_features': None, 'max_leaf_nodes': 70, 'min_samples_leaf': 10, 'presort': False},\n",
       " mean: 0.81481, std: 0.02987, params: {'class_weight': None, 'criterion': 'entropy', 'max_depth': 2, 'max_features': None, 'max_leaf_nodes': 70, 'min_samples_leaf': 11, 'presort': False},\n",
       " mean: 0.81481, std: 0.02987, params: {'class_weight': None, 'criterion': 'entropy', 'max_depth': 2, 'max_features': None, 'max_leaf_nodes': 80, 'min_samples_leaf': 2, 'presort': False},\n",
       " mean: 0.81481, std: 0.02987, params: {'class_weight': None, 'criterion': 'entropy', 'max_depth': 2, 'max_features': None, 'max_leaf_nodes': 80, 'min_samples_leaf': 3, 'presort': False},\n",
       " mean: 0.81481, std: 0.02987, params: {'class_weight': None, 'criterion': 'entropy', 'max_depth': 2, 'max_features': None, 'max_leaf_nodes': 80, 'min_samples_leaf': 4, 'presort': False},\n",
       " mean: 0.81481, std: 0.02987, params: {'class_weight': None, 'criterion': 'entropy', 'max_depth': 2, 'max_features': None, 'max_leaf_nodes': 80, 'min_samples_leaf': 5, 'presort': False},\n",
       " mean: 0.81481, std: 0.02987, params: {'class_weight': None, 'criterion': 'entropy', 'max_depth': 2, 'max_features': None, 'max_leaf_nodes': 80, 'min_samples_leaf': 6, 'presort': False},\n",
       " mean: 0.81481, std: 0.02987, params: {'class_weight': None, 'criterion': 'entropy', 'max_depth': 2, 'max_features': None, 'max_leaf_nodes': 80, 'min_samples_leaf': 7, 'presort': False},\n",
       " mean: 0.81481, std: 0.02987, params: {'class_weight': None, 'criterion': 'entropy', 'max_depth': 2, 'max_features': None, 'max_leaf_nodes': 80, 'min_samples_leaf': 8, 'presort': False},\n",
       " mean: 0.81481, std: 0.02987, params: {'class_weight': None, 'criterion': 'entropy', 'max_depth': 2, 'max_features': None, 'max_leaf_nodes': 80, 'min_samples_leaf': 9, 'presort': False},\n",
       " mean: 0.81481, std: 0.02987, params: {'class_weight': None, 'criterion': 'entropy', 'max_depth': 2, 'max_features': None, 'max_leaf_nodes': 80, 'min_samples_leaf': 10, 'presort': False},\n",
       " mean: 0.81481, std: 0.02987, params: {'class_weight': None, 'criterion': 'entropy', 'max_depth': 2, 'max_features': None, 'max_leaf_nodes': 80, 'min_samples_leaf': 11, 'presort': False},\n",
       " mean: 0.81481, std: 0.02987, params: {'class_weight': None, 'criterion': 'entropy', 'max_depth': 2, 'max_features': None, 'max_leaf_nodes': 90, 'min_samples_leaf': 2, 'presort': False},\n",
       " mean: 0.81481, std: 0.02987, params: {'class_weight': None, 'criterion': 'entropy', 'max_depth': 2, 'max_features': None, 'max_leaf_nodes': 90, 'min_samples_leaf': 3, 'presort': False},\n",
       " mean: 0.81481, std: 0.02987, params: {'class_weight': None, 'criterion': 'entropy', 'max_depth': 2, 'max_features': None, 'max_leaf_nodes': 90, 'min_samples_leaf': 4, 'presort': False},\n",
       " mean: 0.81481, std: 0.02987, params: {'class_weight': None, 'criterion': 'entropy', 'max_depth': 2, 'max_features': None, 'max_leaf_nodes': 90, 'min_samples_leaf': 5, 'presort': False},\n",
       " mean: 0.81481, std: 0.02987, params: {'class_weight': None, 'criterion': 'entropy', 'max_depth': 2, 'max_features': None, 'max_leaf_nodes': 90, 'min_samples_leaf': 6, 'presort': False},\n",
       " mean: 0.81481, std: 0.02987, params: {'class_weight': None, 'criterion': 'entropy', 'max_depth': 2, 'max_features': None, 'max_leaf_nodes': 90, 'min_samples_leaf': 7, 'presort': False},\n",
       " mean: 0.81481, std: 0.02987, params: {'class_weight': None, 'criterion': 'entropy', 'max_depth': 2, 'max_features': None, 'max_leaf_nodes': 90, 'min_samples_leaf': 8, 'presort': False},\n",
       " mean: 0.81481, std: 0.02987, params: {'class_weight': None, 'criterion': 'entropy', 'max_depth': 2, 'max_features': None, 'max_leaf_nodes': 90, 'min_samples_leaf': 9, 'presort': False},\n",
       " mean: 0.81481, std: 0.02987, params: {'class_weight': None, 'criterion': 'entropy', 'max_depth': 2, 'max_features': None, 'max_leaf_nodes': 90, 'min_samples_leaf': 10, 'presort': False},\n",
       " mean: 0.81481, std: 0.02987, params: {'class_weight': None, 'criterion': 'entropy', 'max_depth': 2, 'max_features': None, 'max_leaf_nodes': 90, 'min_samples_leaf': 11, 'presort': False},\n",
       " mean: 0.81481, std: 0.02596, params: {'class_weight': None, 'criterion': 'entropy', 'max_depth': 3, 'max_features': None, 'max_leaf_nodes': 10, 'min_samples_leaf': 8, 'presort': False},\n",
       " mean: 0.81481, std: 0.02432, params: {'class_weight': None, 'criterion': 'entropy', 'max_depth': 3, 'max_features': None, 'max_leaf_nodes': 20, 'min_samples_leaf': 6, 'presort': False},\n",
       " mean: 0.81481, std: 0.02596, params: {'class_weight': None, 'criterion': 'entropy', 'max_depth': 3, 'max_features': None, 'max_leaf_nodes': 20, 'min_samples_leaf': 8, 'presort': False},\n",
       " mean: 0.81481, std: 0.02432, params: {'class_weight': None, 'criterion': 'entropy', 'max_depth': 3, 'max_features': None, 'max_leaf_nodes': 30, 'min_samples_leaf': 6, 'presort': False},\n",
       " mean: 0.81481, std: 0.02596, params: {'class_weight': None, 'criterion': 'entropy', 'max_depth': 3, 'max_features': None, 'max_leaf_nodes': 30, 'min_samples_leaf': 8, 'presort': False},\n",
       " mean: 0.81481, std: 0.02432, params: {'class_weight': None, 'criterion': 'entropy', 'max_depth': 3, 'max_features': None, 'max_leaf_nodes': 40, 'min_samples_leaf': 6, 'presort': False},\n",
       " mean: 0.81481, std: 0.02596, params: {'class_weight': None, 'criterion': 'entropy', 'max_depth': 3, 'max_features': None, 'max_leaf_nodes': 40, 'min_samples_leaf': 8, 'presort': False},\n",
       " mean: 0.81481, std: 0.02432, params: {'class_weight': None, 'criterion': 'entropy', 'max_depth': 3, 'max_features': None, 'max_leaf_nodes': 50, 'min_samples_leaf': 6, 'presort': False},\n",
       " mean: 0.81481, std: 0.02596, params: {'class_weight': None, 'criterion': 'entropy', 'max_depth': 3, 'max_features': None, 'max_leaf_nodes': 50, 'min_samples_leaf': 8, 'presort': False},\n",
       " mean: 0.81481, std: 0.02432, params: {'class_weight': None, 'criterion': 'entropy', 'max_depth': 3, 'max_features': None, 'max_leaf_nodes': 60, 'min_samples_leaf': 6, 'presort': False},\n",
       " mean: 0.81481, std: 0.02596, params: {'class_weight': None, 'criterion': 'entropy', 'max_depth': 3, 'max_features': None, 'max_leaf_nodes': 60, 'min_samples_leaf': 8, 'presort': False},\n",
       " mean: 0.81481, std: 0.02432, params: {'class_weight': None, 'criterion': 'entropy', 'max_depth': 3, 'max_features': None, 'max_leaf_nodes': 70, 'min_samples_leaf': 6, 'presort': False},\n",
       " mean: 0.81481, std: 0.02596, params: {'class_weight': None, 'criterion': 'entropy', 'max_depth': 3, 'max_features': None, 'max_leaf_nodes': 70, 'min_samples_leaf': 8, 'presort': False},\n",
       " mean: 0.81481, std: 0.02432, params: {'class_weight': None, 'criterion': 'entropy', 'max_depth': 3, 'max_features': None, 'max_leaf_nodes': 80, 'min_samples_leaf': 6, 'presort': False},\n",
       " mean: 0.81481, std: 0.02596, params: {'class_weight': None, 'criterion': 'entropy', 'max_depth': 3, 'max_features': None, 'max_leaf_nodes': 80, 'min_samples_leaf': 8, 'presort': False},\n",
       " mean: 0.81481, std: 0.02432, params: {'class_weight': None, 'criterion': 'entropy', 'max_depth': 3, 'max_features': None, 'max_leaf_nodes': 90, 'min_samples_leaf': 6, 'presort': False},\n",
       " mean: 0.81481, std: 0.02596, params: {'class_weight': None, 'criterion': 'entropy', 'max_depth': 3, 'max_features': None, 'max_leaf_nodes': 90, 'min_samples_leaf': 8, 'presort': False},\n",
       " mean: 0.81481, std: 0.04235, params: {'class_weight': None, 'criterion': 'entropy', 'max_depth': 4, 'max_features': None, 'max_leaf_nodes': 20, 'min_samples_leaf': 7, 'presort': False},\n",
       " mean: 0.81481, std: 0.04417, params: {'class_weight': None, 'criterion': 'entropy', 'max_depth': 4, 'max_features': None, 'max_leaf_nodes': 20, 'min_samples_leaf': 11, 'presort': False},\n",
       " mean: 0.81481, std: 0.04417, params: {'class_weight': None, 'criterion': 'entropy', 'max_depth': 4, 'max_features': None, 'max_leaf_nodes': 30, 'min_samples_leaf': 9, 'presort': False},\n",
       " mean: 0.81481, std: 0.04417, params: {'class_weight': None, 'criterion': 'entropy', 'max_depth': 4, 'max_features': None, 'max_leaf_nodes': 30, 'min_samples_leaf': 11, 'presort': False},\n",
       " mean: 0.81481, std: 0.04417, params: {'class_weight': None, 'criterion': 'entropy', 'max_depth': 4, 'max_features': None, 'max_leaf_nodes': 40, 'min_samples_leaf': 11, 'presort': False},\n",
       " mean: 0.81481, std: 0.04417, params: {'class_weight': None, 'criterion': 'entropy', 'max_depth': 4, 'max_features': None, 'max_leaf_nodes': 50, 'min_samples_leaf': 11, 'presort': False},\n",
       " mean: 0.81481, std: 0.04417, params: {'class_weight': None, 'criterion': 'entropy', 'max_depth': 4, 'max_features': None, 'max_leaf_nodes': 60, 'min_samples_leaf': 9, 'presort': False},\n",
       " mean: 0.81481, std: 0.04417, params: {'class_weight': None, 'criterion': 'entropy', 'max_depth': 4, 'max_features': None, 'max_leaf_nodes': 60, 'min_samples_leaf': 11, 'presort': False},\n",
       " mean: 0.81481, std: 0.04417, params: {'class_weight': None, 'criterion': 'entropy', 'max_depth': 4, 'max_features': None, 'max_leaf_nodes': 70, 'min_samples_leaf': 11, 'presort': False},\n",
       " mean: 0.81481, std: 0.04417, params: {'class_weight': None, 'criterion': 'entropy', 'max_depth': 4, 'max_features': None, 'max_leaf_nodes': 80, 'min_samples_leaf': 11, 'presort': False},\n",
       " mean: 0.81481, std: 0.04417, params: {'class_weight': None, 'criterion': 'entropy', 'max_depth': 4, 'max_features': None, 'max_leaf_nodes': 90, 'min_samples_leaf': 9, 'presort': False},\n",
       " mean: 0.81481, std: 0.04417, params: {'class_weight': None, 'criterion': 'entropy', 'max_depth': 4, 'max_features': None, 'max_leaf_nodes': 90, 'min_samples_leaf': 10, 'presort': False},\n",
       " mean: 0.81481, std: 0.04417, params: {'class_weight': None, 'criterion': 'entropy', 'max_depth': 4, 'max_features': None, 'max_leaf_nodes': 90, 'min_samples_leaf': 11, 'presort': False},\n",
       " mean: 0.81481, std: 0.02668, params: {'class_weight': None, 'criterion': 'entropy', 'max_depth': 5, 'max_features': None, 'max_leaf_nodes': 20, 'min_samples_leaf': 13, 'presort': False},\n",
       " mean: 0.81481, std: 0.02740, params: {'class_weight': None, 'criterion': 'entropy', 'max_depth': 6, 'max_features': None, 'max_leaf_nodes': 30, 'min_samples_leaf': 13, 'presort': False},\n",
       " mean: 0.81481, std: 0.02740, params: {'class_weight': None, 'criterion': 'entropy', 'max_depth': 6, 'max_features': None, 'max_leaf_nodes': 40, 'min_samples_leaf': 13, 'presort': False},\n",
       " mean: 0.81481, std: 0.04501, params: {'class_weight': None, 'criterion': 'entropy', 'max_depth': 6, 'max_features': None, 'max_leaf_nodes': 50, 'min_samples_leaf': 3, 'presort': False},\n",
       " mean: 0.81481, std: 0.02740, params: {'class_weight': None, 'criterion': 'entropy', 'max_depth': 6, 'max_features': None, 'max_leaf_nodes': 50, 'min_samples_leaf': 13, 'presort': False},\n",
       " mean: 0.81481, std: 0.02740, params: {'class_weight': None, 'criterion': 'entropy', 'max_depth': 6, 'max_features': None, 'max_leaf_nodes': 60, 'min_samples_leaf': 13, 'presort': False},\n",
       " mean: 0.81481, std: 0.02740, params: {'class_weight': None, 'criterion': 'entropy', 'max_depth': 6, 'max_features': None, 'max_leaf_nodes': 70, 'min_samples_leaf': 13, 'presort': False},\n",
       " mean: 0.81481, std: 0.02740, params: {'class_weight': None, 'criterion': 'entropy', 'max_depth': 6, 'max_features': None, 'max_leaf_nodes': 80, 'min_samples_leaf': 13, 'presort': False},\n",
       " mean: 0.81481, std: 0.02740, params: {'class_weight': None, 'criterion': 'entropy', 'max_depth': 6, 'max_features': None, 'max_leaf_nodes': 90, 'min_samples_leaf': 13, 'presort': False},\n",
       " mean: 0.81481, std: 0.03147, params: {'class_weight': None, 'criterion': 'entropy', 'max_depth': 7, 'max_features': None, 'max_leaf_nodes': 40, 'min_samples_leaf': 13, 'presort': False},\n",
       " mean: 0.81481, std: 0.03147, params: {'class_weight': None, 'criterion': 'entropy', 'max_depth': 7, 'max_features': None, 'max_leaf_nodes': 50, 'min_samples_leaf': 13, 'presort': False},\n",
       " mean: 0.81481, std: 0.03147, params: {'class_weight': None, 'criterion': 'entropy', 'max_depth': 7, 'max_features': None, 'max_leaf_nodes': 60, 'min_samples_leaf': 13, 'presort': False},\n",
       " mean: 0.81481, std: 0.04256, params: {'class_weight': None, 'criterion': 'entropy', 'max_depth': 7, 'max_features': None, 'max_leaf_nodes': 70, 'min_samples_leaf': 4, 'presort': False},\n",
       " mean: 0.81481, std: 0.03147, params: {'class_weight': None, 'criterion': 'entropy', 'max_depth': 7, 'max_features': None, 'max_leaf_nodes': 70, 'min_samples_leaf': 13, 'presort': False},\n",
       " mean: 0.81481, std: 0.03265, params: {'class_weight': None, 'criterion': 'entropy', 'max_depth': 7, 'max_features': None, 'max_leaf_nodes': 80, 'min_samples_leaf': 12, 'presort': False},\n",
       " mean: 0.81481, std: 0.03147, params: {'class_weight': None, 'criterion': 'entropy', 'max_depth': 7, 'max_features': None, 'max_leaf_nodes': 80, 'min_samples_leaf': 13, 'presort': False},\n",
       " mean: 0.81481, std: 0.03147, params: {'class_weight': None, 'criterion': 'entropy', 'max_depth': 7, 'max_features': None, 'max_leaf_nodes': 90, 'min_samples_leaf': 13, 'presort': False},\n",
       " mean: 0.81481, std: 0.03472, params: {'class_weight': None, 'criterion': 'entropy', 'max_depth': 8, 'max_features': None, 'max_leaf_nodes': 40, 'min_samples_leaf': 4, 'presort': False},\n",
       " mean: 0.81481, std: 0.02004, params: {'class_weight': None, 'criterion': 'entropy', 'max_depth': 8, 'max_features': None, 'max_leaf_nodes': 40, 'min_samples_leaf': 11, 'presort': False},\n",
       " mean: 0.81481, std: 0.03147, params: {'class_weight': None, 'criterion': 'entropy', 'max_depth': 8, 'max_features': None, 'max_leaf_nodes': 40, 'min_samples_leaf': 13, 'presort': False},\n",
       " mean: 0.81481, std: 0.02004, params: {'class_weight': None, 'criterion': 'entropy', 'max_depth': 8, 'max_features': None, 'max_leaf_nodes': 50, 'min_samples_leaf': 11, 'presort': False},\n",
       " mean: 0.81481, std: 0.03644, params: {'class_weight': None, 'criterion': 'entropy', 'max_depth': 8, 'max_features': None, 'max_leaf_nodes': 50, 'min_samples_leaf': 12, 'presort': False},\n",
       " mean: 0.81481, std: 0.03147, params: {'class_weight': None, 'criterion': 'entropy', 'max_depth': 8, 'max_features': None, 'max_leaf_nodes': 50, 'min_samples_leaf': 13, 'presort': False},\n",
       " mean: 0.81481, std: 0.03975, params: {'class_weight': None, 'criterion': 'entropy', 'max_depth': 8, 'max_features': None, 'max_leaf_nodes': 60, 'min_samples_leaf': 2, 'presort': False},\n",
       " mean: 0.81481, std: 0.03147, params: {'class_weight': None, 'criterion': 'entropy', 'max_depth': 8, 'max_features': None, 'max_leaf_nodes': 60, 'min_samples_leaf': 13, 'presort': False},\n",
       " mean: 0.81481, std: 0.02004, params: {'class_weight': None, 'criterion': 'entropy', 'max_depth': 8, 'max_features': None, 'max_leaf_nodes': 70, 'min_samples_leaf': 11, 'presort': False},\n",
       " mean: 0.81481, std: 0.03644, params: {'class_weight': None, 'criterion': 'entropy', 'max_depth': 8, 'max_features': None, 'max_leaf_nodes': 70, 'min_samples_leaf': 12, 'presort': False},\n",
       " mean: 0.81481, std: 0.03147, params: {'class_weight': None, 'criterion': 'entropy', 'max_depth': 8, 'max_features': None, 'max_leaf_nodes': 70, 'min_samples_leaf': 13, 'presort': False},\n",
       " mean: 0.81481, std: 0.02004, params: {'class_weight': None, 'criterion': 'entropy', 'max_depth': 8, 'max_features': None, 'max_leaf_nodes': 80, 'min_samples_leaf': 11, 'presort': False},\n",
       " mean: 0.81481, std: 0.03644, params: {'class_weight': None, 'criterion': 'entropy', 'max_depth': 8, 'max_features': None, 'max_leaf_nodes': 80, 'min_samples_leaf': 12, 'presort': False},\n",
       " mean: 0.81481, std: 0.03147, params: {'class_weight': None, 'criterion': 'entropy', 'max_depth': 8, 'max_features': None, 'max_leaf_nodes': 80, 'min_samples_leaf': 13, 'presort': False},\n",
       " mean: 0.81481, std: 0.02004, params: {'class_weight': None, 'criterion': 'entropy', 'max_depth': 8, 'max_features': None, 'max_leaf_nodes': 90, 'min_samples_leaf': 11, 'presort': False},\n",
       " mean: 0.81481, std: 0.03147, params: {'class_weight': None, 'criterion': 'entropy', 'max_depth': 8, 'max_features': None, 'max_leaf_nodes': 90, 'min_samples_leaf': 13, 'presort': False},\n",
       " mean: 0.81481, std: 0.03532, params: {'class_weight': None, 'criterion': 'entropy', 'max_depth': 9, 'max_features': None, 'max_leaf_nodes': 30, 'min_samples_leaf': 1, 'presort': False},\n",
       " mean: 0.81481, std: 0.02272, params: {'class_weight': None, 'criterion': 'entropy', 'max_depth': 9, 'max_features': None, 'max_leaf_nodes': 30, 'min_samples_leaf': 16, 'presort': False},\n",
       " mean: 0.81481, std: 0.03555, params: {'class_weight': None, 'criterion': 'entropy', 'max_depth': 9, 'max_features': None, 'max_leaf_nodes': 40, 'min_samples_leaf': 1, 'presort': False},\n",
       " mean: 0.81481, std: 0.03147, params: {'class_weight': None, 'criterion': 'entropy', 'max_depth': 9, 'max_features': None, 'max_leaf_nodes': 40, 'min_samples_leaf': 13, 'presort': False},\n",
       " mean: 0.81481, std: 0.04154, params: {'class_weight': None, 'criterion': 'entropy', 'max_depth': 9, 'max_features': None, 'max_leaf_nodes': 50, 'min_samples_leaf': 5, 'presort': False},\n",
       " mean: 0.81481, std: 0.02004, params: {'class_weight': None, 'criterion': 'entropy', 'max_depth': 9, 'max_features': None, 'max_leaf_nodes': 50, 'min_samples_leaf': 11, 'presort': False},\n",
       " mean: 0.81481, std: 0.03644, params: {'class_weight': None, 'criterion': 'entropy', 'max_depth': 9, 'max_features': None, 'max_leaf_nodes': 50, 'min_samples_leaf': 12, 'presort': False},\n",
       " mean: 0.81481, std: 0.03147, params: {'class_weight': None, 'criterion': 'entropy', 'max_depth': 9, 'max_features': None, 'max_leaf_nodes': 50, 'min_samples_leaf': 13, 'presort': False},\n",
       " mean: 0.81481, std: 0.03147, params: {'class_weight': None, 'criterion': 'entropy', 'max_depth': 9, 'max_features': None, 'max_leaf_nodes': 60, 'min_samples_leaf': 13, 'presort': False},\n",
       " mean: 0.81481, std: 0.02004, params: {'class_weight': None, 'criterion': 'entropy', 'max_depth': 9, 'max_features': None, 'max_leaf_nodes': 70, 'min_samples_leaf': 11, 'presort': False},\n",
       " mean: 0.81481, std: 0.03644, params: {'class_weight': None, 'criterion': 'entropy', 'max_depth': 9, 'max_features': None, 'max_leaf_nodes': 70, 'min_samples_leaf': 12, 'presort': False},\n",
       " mean: 0.81481, std: 0.03147, params: {'class_weight': None, 'criterion': 'entropy', 'max_depth': 9, 'max_features': None, 'max_leaf_nodes': 70, 'min_samples_leaf': 13, 'presort': False},\n",
       " mean: 0.81481, std: 0.03147, params: {'class_weight': None, 'criterion': 'entropy', 'max_depth': 9, 'max_features': None, 'max_leaf_nodes': 80, 'min_samples_leaf': 13, 'presort': False},\n",
       " mean: 0.81481, std: 0.03147, params: {'class_weight': None, 'criterion': 'entropy', 'max_depth': 9, 'max_features': None, 'max_leaf_nodes': 90, 'min_samples_leaf': 13, 'presort': False},\n",
       " mean: 0.81481, std: 0.03477, params: {'class_weight': None, 'criterion': 'entropy', 'max_depth': 10, 'max_features': None, 'max_leaf_nodes': 30, 'min_samples_leaf': 1, 'presort': False},\n",
       " mean: 0.81481, std: 0.03386, params: {'class_weight': None, 'criterion': 'entropy', 'max_depth': 10, 'max_features': None, 'max_leaf_nodes': 30, 'min_samples_leaf': 10, 'presort': False},\n",
       " mean: 0.81481, std: 0.02895, params: {'class_weight': None, 'criterion': 'entropy', 'max_depth': 10, 'max_features': None, 'max_leaf_nodes': 30, 'min_samples_leaf': 12, 'presort': False},\n",
       " mean: 0.81481, std: 0.02272, params: {'class_weight': None, 'criterion': 'entropy', 'max_depth': 10, 'max_features': None, 'max_leaf_nodes': 30, 'min_samples_leaf': 16, 'presort': False},\n",
       " mean: 0.81481, std: 0.03147, params: {'class_weight': None, 'criterion': 'entropy', 'max_depth': 10, 'max_features': None, 'max_leaf_nodes': 40, 'min_samples_leaf': 13, 'presort': False},\n",
       " mean: 0.81481, std: 0.02004, params: {'class_weight': None, 'criterion': 'entropy', 'max_depth': 10, 'max_features': None, 'max_leaf_nodes': 50, 'min_samples_leaf': 11, 'presort': False},\n",
       " mean: 0.81481, std: 0.03147, params: {'class_weight': None, 'criterion': 'entropy', 'max_depth': 10, 'max_features': None, 'max_leaf_nodes': 50, 'min_samples_leaf': 13, 'presort': False},\n",
       " mean: 0.81481, std: 0.02004, params: {'class_weight': None, 'criterion': 'entropy', 'max_depth': 10, 'max_features': None, 'max_leaf_nodes': 60, 'min_samples_leaf': 11, 'presort': False},\n",
       " mean: 0.81481, std: 0.03147, params: {'class_weight': None, 'criterion': 'entropy', 'max_depth': 10, 'max_features': None, 'max_leaf_nodes': 60, 'min_samples_leaf': 13, 'presort': False},\n",
       " mean: 0.81481, std: 0.03593, params: {'class_weight': None, 'criterion': 'entropy', 'max_depth': 10, 'max_features': None, 'max_leaf_nodes': 70, 'min_samples_leaf': 2, 'presort': False},\n",
       " mean: 0.81481, std: 0.02004, params: {'class_weight': None, 'criterion': 'entropy', 'max_depth': 10, 'max_features': None, 'max_leaf_nodes': 70, 'min_samples_leaf': 11, 'presort': False},\n",
       " mean: 0.81481, std: 0.03644, params: {'class_weight': None, 'criterion': 'entropy', 'max_depth': 10, 'max_features': None, 'max_leaf_nodes': 70, 'min_samples_leaf': 12, 'presort': False},\n",
       " mean: 0.81481, std: 0.03147, params: {'class_weight': None, 'criterion': 'entropy', 'max_depth': 10, 'max_features': None, 'max_leaf_nodes': 70, 'min_samples_leaf': 13, 'presort': False},\n",
       " mean: 0.81481, std: 0.03147, params: {'class_weight': None, 'criterion': 'entropy', 'max_depth': 10, 'max_features': None, 'max_leaf_nodes': 80, 'min_samples_leaf': 13, 'presort': False},\n",
       " mean: 0.81481, std: 0.03147, params: {'class_weight': None, 'criterion': 'entropy', 'max_depth': 10, 'max_features': None, 'max_leaf_nodes': 90, 'min_samples_leaf': 13, 'presort': False},\n",
       " ...]"
      ]
     },
     "execution_count": 473,
     "metadata": {},
     "output_type": "execute_result"
    }
   ],
   "source": [
    "sorted(gridsearch.grid_scores_, key = lambda x: -x.mean_validation_score)"
   ]
  },
  {
   "cell_type": "code",
   "execution_count": 474,
   "metadata": {},
   "outputs": [
    {
     "data": {
      "text/plain": [
       "{'class_weight': None,\n",
       " 'criterion': 'entropy',\n",
       " 'max_depth': 6,\n",
       " 'max_features': None,\n",
       " 'max_leaf_nodes': 60,\n",
       " 'min_samples_leaf': 10,\n",
       " 'presort': False}"
      ]
     },
     "execution_count": 474,
     "metadata": {},
     "output_type": "execute_result"
    }
   ],
   "source": [
    "b = gridsearch.best_params_\n",
    "b"
   ]
  },
  {
   "cell_type": "code",
   "execution_count": 475,
   "metadata": {
    "collapsed": true
   },
   "outputs": [],
   "source": [
    "b = {\n",
    "    'class_weight': None,\n",
    "    'criterion':\n",
    "    'entropy',\n",
    "    'max_depth': 3,\n",
    "    'max_features': None,\n",
    "    'max_leaf_nodes': 10,\n",
    "    'min_samples_leaf': 3,\n",
    "    'presort': False\n",
    "} # real best parameters"
   ]
  },
  {
   "cell_type": "markdown",
   "metadata": {},
   "source": [
    "# Оценка точности"
   ]
  },
  {
   "cell_type": "code",
   "execution_count": 476,
   "metadata": {
    "collapsed": true
   },
   "outputs": [],
   "source": [
    "from sklearn.metrics import accuracy_score"
   ]
  },
  {
   "cell_type": "code",
   "execution_count": 507,
   "metadata": {
    "collapsed": true
   },
   "outputs": [],
   "source": [
    "clf = DecisionTreeClassifier(\\\n",
    "    criterion=b['criterion'],\\\n",
    "    min_samples_leaf=b['min_samples_leaf'],\\\n",
    "    max_depth=b['max_depth'],\\\n",
    "    max_leaf_nodes=b['max_leaf_nodes'],\\\n",
    "    max_features=b['max_features'],\\\n",
    "    presort=b['presort'],\\\n",
    "    class_weight=b['class_weight'])"
   ]
  },
  {
   "cell_type": "code",
   "execution_count": 478,
   "metadata": {},
   "outputs": [
    {
     "data": {
      "text/plain": [
       "DecisionTreeClassifier(class_weight=None, criterion='entropy', max_depth=3,\n",
       "            max_features=None, max_leaf_nodes=10, min_impurity_split=1e-07,\n",
       "            min_samples_leaf=3, min_samples_split=2,\n",
       "            min_weight_fraction_leaf=0.0, presort=False, random_state=None,\n",
       "            splitter='best')"
      ]
     },
     "execution_count": 478,
     "metadata": {},
     "output_type": "execute_result"
    }
   ],
   "source": [
    "clf.fit(X_train_fin, y_train_fin)"
   ]
  },
  {
   "cell_type": "code",
   "execution_count": 479,
   "metadata": {
    "collapsed": true
   },
   "outputs": [],
   "source": [
    "y_val_pred = clf.predict(X_val)"
   ]
  },
  {
   "cell_type": "code",
   "execution_count": 480,
   "metadata": {},
   "outputs": [
    {
     "data": {
      "text/plain": [
       "0.81564245810055869"
      ]
     },
     "execution_count": 480,
     "metadata": {},
     "output_type": "execute_result"
    }
   ],
   "source": [
    "accuracy_score(y_val, y_val_pred)"
   ]
  },
  {
   "cell_type": "markdown",
   "metadata": {},
   "source": [
    "# Финальное предсказание"
   ]
  },
  {
   "cell_type": "code",
   "execution_count": 508,
   "metadata": {},
   "outputs": [
    {
     "data": {
      "text/plain": [
       "DecisionTreeClassifier(class_weight=None, criterion='entropy', max_depth=3,\n",
       "            max_features=None, max_leaf_nodes=10, min_impurity_split=1e-07,\n",
       "            min_samples_leaf=3, min_samples_split=2,\n",
       "            min_weight_fraction_leaf=0.0, presort=False, random_state=None,\n",
       "            splitter='best')"
      ]
     },
     "execution_count": 508,
     "metadata": {},
     "output_type": "execute_result"
    }
   ],
   "source": [
    "clf.fit(X_train_imputed, y_train)"
   ]
  },
  {
   "cell_type": "code",
   "execution_count": 482,
   "metadata": {
    "collapsed": true
   },
   "outputs": [],
   "source": [
    "params = [\n",
    "    #{\n",
    "    #    'class_weight': None,\n",
    "    #    'criterion': 'entropy',\n",
    "    #    'max_depth': 3,\n",
    "    #    'max_features': None,\n",
    "    #    'max_leaf_nodes': 10,\n",
    "    #    'min_samples_leaf': 2,\n",
    "    #    'presort': False\n",
    "    #},\n",
    "    #{\n",
    "    #    'class_weight': None,\n",
    "    #    'criterion': 'entropy',\n",
    "    #    'max_depth': 3,\n",
    "    #    'max_features': None,\n",
    "    #    'max_leaf_nodes': 10,\n",
    "    #    'min_samples_leaf': 1,\n",
    "    #    'presort': False\n",
    "    #},\n",
    "    #{\n",
    "    #    'class_weight': None,\n",
    "    #    'criterion': 'entropy',\n",
    "    #    'max_depth': 6,\n",
    "    #    'max_features': None,\n",
    "    #    'max_leaf_nodes': 60,\n",
    "    #    'min_samples_leaf': 10,\n",
    "    #    'presort': False\n",
    "    #},\n",
    "]"
   ]
  },
  {
   "cell_type": "code",
   "execution_count": 483,
   "metadata": {
    "collapsed": true
   },
   "outputs": [],
   "source": [
    "pred = []\n",
    "for param in params:\n",
    "    clf = DecisionTreeClassifier(\\\n",
    "        criterion=param['criterion'],\\\n",
    "        min_samples_leaf=param['min_samples_leaf'],\\\n",
    "        max_depth=param['max_depth'],\\\n",
    "        max_leaf_nodes=param['max_leaf_nodes'],\\\n",
    "        max_features=param['max_features'],\\\n",
    "        presort=param['presort'],\\\n",
    "        class_weight=param['class_weight'])\n",
    "    clf.fit(X_train_imputed_scaled, y_train)\n",
    "    pred.append(clf.predict_proba(X_test_imputed_scaled))\n",
    "\n",
    "#from functools import reduce\n",
    "#pred = reduce(lambda x, y: np.add(x, y), pred) / float(len(params))"
   ]
  },
  {
   "cell_type": "code",
   "execution_count": 484,
   "metadata": {
    "collapsed": true
   },
   "outputs": [],
   "source": [
    "#predictions = np.where(pred[:, 0] > 0.5, 0, 1)"
   ]
  },
  {
   "cell_type": "markdown",
   "metadata": {},
   "source": [
    "предсказание номера класса:"
   ]
  },
  {
   "cell_type": "code",
   "execution_count": 509,
   "metadata": {
    "collapsed": true,
    "scrolled": false
   },
   "outputs": [],
   "source": [
    "predictions = clf.predict(X_test_imputed)\n",
    "#clf.predict_proba(X_test_imputed_scaled), predictions"
   ]
  },
  {
   "cell_type": "code",
   "execution_count": 486,
   "metadata": {
    "collapsed": true
   },
   "outputs": [],
   "source": [
    "submussion = 'PassengerId,Survived\\n'\n",
    "submussion += \"\\n\".join([\"{},{}\".format(pid, prediction) for pid, prediction in zip(test.PassengerId, predictions)])"
   ]
  },
  {
   "cell_type": "code",
   "execution_count": 487,
   "metadata": {
    "collapsed": true
   },
   "outputs": [],
   "source": [
    "with open('submission.txt', 'w') as file:\n",
    "    file.write(submussion)"
   ]
  },
  {
   "cell_type": "code",
   "execution_count": 510,
   "metadata": {},
   "outputs": [
    {
     "name": "stdout",
     "output_type": "stream",
     "text": [
      "Age                            0.13\n",
      "SibSp                          0.03\n",
      "Parch                          0.00\n",
      "Fare                           0.12\n",
      "isMale                         0.54\n",
      "Pclass_1                       0.00\n",
      "Pclass_2                       0.00\n",
      "Pclass_3                       0.18\n",
      "Embarked_C                     0.00\n",
      "Embarked_Q                     0.00\n",
      "Embarked_S                     0.00\n"
     ]
    }
   ],
   "source": [
    "for col, val in zip(X_train.columns, clf.feature_importances_):\n",
    "    print(\"{:30} {:.2f}\".format(col, val))\n",
    "#X_test"
   ]
  },
  {
   "cell_type": "code",
   "execution_count": 511,
   "metadata": {
    "collapsed": true
   },
   "outputs": [],
   "source": [
    "from sklearn.tree import export_graphviz\n",
    "\n",
    "def get_tree_dot_view(clf_, feature_names=None, class_names=None):\n",
    "    print(export_graphviz(clf_, out_file=None, filled=True, feature_names=feature_names, class_names=class_names))"
   ]
  },
  {
   "cell_type": "code",
   "execution_count": 512,
   "metadata": {},
   "outputs": [
    {
     "name": "stdout",
     "output_type": "stream",
     "text": [
      "digraph Tree {\n",
      "node [shape=box, style=\"filled\", color=\"black\"] ;\n",
      "0 [label=\"isMale <= 0.5\\nentropy = 0.9607\\nsamples = 891\\nvalue = [549, 342]\\nclass = Not survived\", fillcolor=\"#e5813960\"] ;\n",
      "1 [label=\"Pclass_3 <= 0.5\\nentropy = 0.8237\\nsamples = 314\\nvalue = [81, 233]\\nclass = Survived\", fillcolor=\"#399de5a6\"] ;\n",
      "0 -> 1 [labeldistance=2.5, labelangle=45, headlabel=\"True\"] ;\n",
      "3 [label=\"Fare <= 28.8563\\nentropy = 0.2988\\nsamples = 170\\nvalue = [9, 161]\\nclass = Survived\", fillcolor=\"#399de5f1\"] ;\n",
      "1 -> 3 ;\n",
      "17 [label=\"entropy = 0.469\\nsamples = 70\\nvalue = [7, 63]\\nclass = Survived\", fillcolor=\"#399de5e3\"] ;\n",
      "3 -> 17 ;\n",
      "18 [label=\"entropy = 0.1414\\nsamples = 100\\nvalue = [2, 98]\\nclass = Survived\", fillcolor=\"#399de5fa\"] ;\n",
      "3 -> 18 ;\n",
      "4 [label=\"Fare <= 23.35\\nentropy = 1.0\\nsamples = 144\\nvalue = [72, 72]\\nclass = Not survived\", fillcolor=\"#e5813900\"] ;\n",
      "1 -> 4 ;\n",
      "9 [label=\"Age <= 36.5\\nentropy = 0.9766\\nsamples = 117\\nvalue = [48, 69]\\nclass = Survived\", fillcolor=\"#399de54e\"] ;\n",
      "4 -> 9 ;\n",
      "15 [label=\"entropy = 0.9593\\nsamples = 110\\nvalue = [42, 68]\\nclass = Survived\", fillcolor=\"#399de561\"] ;\n",
      "9 -> 15 ;\n",
      "16 [label=\"entropy = 0.5917\\nsamples = 7\\nvalue = [6, 1]\\nclass = Not survived\", fillcolor=\"#e58139d4\"] ;\n",
      "9 -> 16 ;\n",
      "10 [label=\"entropy = 0.5033\\nsamples = 27\\nvalue = [24, 3]\\nclass = Not survived\", fillcolor=\"#e58139df\"] ;\n",
      "4 -> 10 ;\n",
      "2 [label=\"Fare <= 26.2687\\nentropy = 0.6992\\nsamples = 577\\nvalue = [468, 109]\\nclass = Not survived\", fillcolor=\"#e58139c4\"] ;\n",
      "0 -> 2 [labeldistance=2.5, labelangle=-45, headlabel=\"False\"] ;\n",
      "5 [label=\"Age <= 13.5\\nentropy = 0.5578\\nsamples = 415\\nvalue = [361, 54]\\nclass = Not survived\", fillcolor=\"#e58139d9\"] ;\n",
      "2 -> 5 ;\n",
      "7 [label=\"entropy = 0.5665\\nsamples = 15\\nvalue = [2, 13]\\nclass = Survived\", fillcolor=\"#399de5d8\"] ;\n",
      "5 -> 7 ;\n",
      "8 [label=\"entropy = 0.4769\\nsamples = 400\\nvalue = [359, 41]\\nclass = Not survived\", fillcolor=\"#e58139e2\"] ;\n",
      "5 -> 8 ;\n",
      "6 [label=\"SibSp <= 2.5\\nentropy = 0.9243\\nsamples = 162\\nvalue = [107, 55]\\nclass = Not survived\", fillcolor=\"#e581397c\"] ;\n",
      "2 -> 6 ;\n",
      "11 [label=\"Age <= 13.5\\nentropy = 0.9638\\nsamples = 139\\nvalue = [85, 54]\\nclass = Not survived\", fillcolor=\"#e581395d\"] ;\n",
      "6 -> 11 ;\n",
      "13 [label=\"entropy = 0.0\\nsamples = 7\\nvalue = [0, 7]\\nclass = Survived\", fillcolor=\"#399de5ff\"] ;\n",
      "11 -> 13 ;\n",
      "14 [label=\"entropy = 0.9394\\nsamples = 132\\nvalue = [85, 47]\\nclass = Not survived\", fillcolor=\"#e5813972\"] ;\n",
      "11 -> 14 ;\n",
      "12 [label=\"entropy = 0.258\\nsamples = 23\\nvalue = [22, 1]\\nclass = Not survived\", fillcolor=\"#e58139f3\"] ;\n",
      "6 -> 12 ;\n",
      "}\n"
     ]
    }
   ],
   "source": [
    "get_tree_dot_view(clf, list(X_train.columns), [\"Not survived\", \"Survived\"])"
   ]
  },
  {
   "cell_type": "markdown",
   "metadata": {},
   "source": [
    "Регрессия позволяет посмотреть влияние различных факторов на принятое решение. Так, видно, что женский пол, маленький возраст и первый класс являлись сильными предпосылками к выживанию"
   ]
  }
 ],
 "metadata": {
  "anaconda-cloud": {},
  "kernelspec": {
   "display_name": "Python 3",
   "language": "python",
   "name": "python3"
  },
  "language_info": {
   "codemirror_mode": {
    "name": "ipython",
    "version": 3
   },
   "file_extension": ".py",
   "mimetype": "text/x-python",
   "name": "python",
   "nbconvert_exporter": "python",
   "pygments_lexer": "ipython3",
   "version": "3.6.1"
  }
 },
 "nbformat": 4,
 "nbformat_minor": 2
}
