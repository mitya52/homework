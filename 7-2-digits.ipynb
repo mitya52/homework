{
 "cells": [
  {
   "cell_type": "code",
   "execution_count": 1,
   "metadata": {},
   "outputs": [],
   "source": [
    "import cv2\n",
    "import numpy as np\n",
    "import pandas as pd"
   ]
  },
  {
   "cell_type": "code",
   "execution_count": 2,
   "metadata": {},
   "outputs": [],
   "source": [
    "train = pd.read_csv('data/digit/train.csv')\n",
    "test = pd.read_csv('data/digit/test.csv')"
   ]
  },
  {
   "cell_type": "code",
   "execution_count": 3,
   "metadata": {},
   "outputs": [],
   "source": [
    "from sklearn.model_selection import train_test_split"
   ]
  },
  {
   "cell_type": "code",
   "execution_count": 4,
   "metadata": {},
   "outputs": [],
   "source": [
    "def convert(data, size=(28, 28)):\n",
    "    winSize = (64, 64)\n",
    "    blockSize = (16,16)\n",
    "    blockStride = cellSize = (8,8)\n",
    "    nbins = 9\n",
    "    data = np.array(data, dtype=np.uint8)\n",
    "    data = np.array([cv2.resize(d.reshape(size), winSize) for d in data])\n",
    "    hog = cv2.HOGDescriptor(winSize, blockSize, blockStride, cellSize, nbins)\n",
    "    return np.array([hog.compute(d).ravel() for d in data])"
   ]
  },
  {
   "cell_type": "code",
   "execution_count": 5,
   "metadata": {},
   "outputs": [],
   "source": [
    "from sklearn.ensemble import RandomForestClassifier\n",
    "\n",
    "X, y = convert(train.drop(columns=['label'])), pd.get_dummies(train.label)\n",
    "\n",
    "dr = RandomForestClassifier(n_estimators=10, max_depth=10, n_jobs=-1, random_state=123123)\n",
    "dr.fit(X, y)\n",
    "indices = dr.feature_importances_.argsort()[-300:]\n",
    "\n",
    "X = np.array([x[indices] for x in X])"
   ]
  },
  {
   "cell_type": "code",
   "execution_count": 6,
   "metadata": {},
   "outputs": [],
   "source": [
    "X_train, X_test, y_train, y_test = train_test_split(X, y, test_size=0.2, random_state=123123)"
   ]
  },
  {
   "cell_type": "code",
   "execution_count": 7,
   "metadata": {},
   "outputs": [
    {
     "name": "stderr",
     "output_type": "stream",
     "text": [
      "Using TensorFlow backend.\n"
     ]
    }
   ],
   "source": [
    "from keras.models import Sequential\n",
    "from keras.layers import Dense, Activation"
   ]
  },
  {
   "cell_type": "code",
   "execution_count": 8,
   "metadata": {},
   "outputs": [
    {
     "name": "stdout",
     "output_type": "stream",
     "text": [
      "_________________________________________________________________\n",
      "Layer (type)                 Output Shape              Param #   \n",
      "=================================================================\n",
      "dense_1 (Dense)              (None, 100)               30100     \n",
      "_________________________________________________________________\n",
      "activation_1 (Activation)    (None, 100)               0         \n",
      "_________________________________________________________________\n",
      "dense_2 (Dense)              (None, 32)                3232      \n",
      "_________________________________________________________________\n",
      "activation_2 (Activation)    (None, 32)                0         \n",
      "_________________________________________________________________\n",
      "dense_3 (Dense)              (None, 10)                330       \n",
      "_________________________________________________________________\n",
      "activation_3 (Activation)    (None, 10)                0         \n",
      "=================================================================\n",
      "Total params: 33,662\n",
      "Trainable params: 33,662\n",
      "Non-trainable params: 0\n",
      "_________________________________________________________________\n"
     ]
    }
   ],
   "source": [
    "model = Sequential()\n",
    "model.add(Dense(100, input_shape=(X_train.shape[1],)))\n",
    "model.add(Activation('relu'))\n",
    "model.add(Dense(32))\n",
    "model.add(Activation('relu'))\n",
    "model.add(Dense(10))\n",
    "model.add(Activation('softmax'))\n",
    "\n",
    "model.compile(optimizer='rmsprop', loss='categorical_crossentropy', metrics=['accuracy'])\n",
    "\n",
    "model.summary()"
   ]
  },
  {
   "cell_type": "code",
   "execution_count": 9,
   "metadata": {},
   "outputs": [
    {
     "name": "stdout",
     "output_type": "stream",
     "text": [
      "Epoch 1/30\n",
      "33600/33600 [==============================] - 1s 40us/step - loss: 0.3309 - acc: 0.9297\n",
      "Epoch 2/30\n",
      "33600/33600 [==============================] - 1s 21us/step - loss: 0.0866 - acc: 0.9737\n",
      "Epoch 3/30\n",
      "33600/33600 [==============================] - 1s 21us/step - loss: 0.0688 - acc: 0.9779\n",
      "Epoch 4/30\n",
      "33600/33600 [==============================] - 1s 23us/step - loss: 0.0592 - acc: 0.9811\n",
      "Epoch 5/30\n",
      "33600/33600 [==============================] - 1s 21us/step - loss: 0.0532 - acc: 0.9835\n",
      "Epoch 6/30\n",
      "33600/33600 [==============================] - 1s 20us/step - loss: 0.0475 - acc: 0.9857\n",
      "Epoch 7/30\n",
      "33600/33600 [==============================] - 1s 22us/step - loss: 0.0430 - acc: 0.9863\n",
      "Epoch 8/30\n",
      "33600/33600 [==============================] - 1s 20us/step - loss: 0.0386 - acc: 0.9873\n",
      "Epoch 9/30\n",
      "33600/33600 [==============================] - 1s 20us/step - loss: 0.0359 - acc: 0.9888\n",
      "Epoch 10/30\n",
      "33600/33600 [==============================] - 1s 21us/step - loss: 0.0324 - acc: 0.9897\n",
      "Epoch 11/30\n",
      "33600/33600 [==============================] - 1s 21us/step - loss: 0.0296 - acc: 0.9907\n",
      "Epoch 12/30\n",
      "33600/33600 [==============================] - 1s 20us/step - loss: 0.0274 - acc: 0.9913\n",
      "Epoch 13/30\n",
      "33600/33600 [==============================] - 1s 20us/step - loss: 0.0253 - acc: 0.9924\n",
      "Epoch 14/30\n",
      "33600/33600 [==============================] - 1s 20us/step - loss: 0.0231 - acc: 0.9927\n",
      "Epoch 15/30\n",
      "33600/33600 [==============================] - 1s 20us/step - loss: 0.0205 - acc: 0.9938\n",
      "Epoch 16/30\n",
      "33600/33600 [==============================] - 1s 20us/step - loss: 0.0189 - acc: 0.9947\n",
      "Epoch 17/30\n",
      "33600/33600 [==============================] - 1s 20us/step - loss: 0.0170 - acc: 0.9948\n",
      "Epoch 18/30\n",
      "33600/33600 [==============================] - 1s 21us/step - loss: 0.0158 - acc: 0.9950\n",
      "Epoch 19/30\n",
      "33600/33600 [==============================] - 1s 20us/step - loss: 0.0144 - acc: 0.9956\n",
      "Epoch 20/30\n",
      "33600/33600 [==============================] - 1s 21us/step - loss: 0.0124 - acc: 0.9962\n",
      "Epoch 21/30\n",
      "33600/33600 [==============================] - 1s 20us/step - loss: 0.0114 - acc: 0.9967\n",
      "Epoch 22/30\n",
      "33600/33600 [==============================] - 1s 20us/step - loss: 0.0102 - acc: 0.9976\n",
      "Epoch 23/30\n",
      "33600/33600 [==============================] - 1s 20us/step - loss: 0.0094 - acc: 0.9975\n",
      "Epoch 24/30\n",
      "33600/33600 [==============================] - 1s 19us/step - loss: 0.0080 - acc: 0.9981\n",
      "Epoch 25/30\n",
      "33600/33600 [==============================] - 1s 20us/step - loss: 0.0077 - acc: 0.9979\n",
      "Epoch 26/30\n",
      "33600/33600 [==============================] - 1s 19us/step - loss: 0.0064 - acc: 0.9983\n",
      "Epoch 27/30\n",
      "33600/33600 [==============================] - 1s 19us/step - loss: 0.0060 - acc: 0.9985\n",
      "Epoch 28/30\n",
      "33600/33600 [==============================] - 1s 20us/step - loss: 0.0052 - acc: 0.9987\n",
      "Epoch 29/30\n",
      "33600/33600 [==============================] - 1s 22us/step - loss: 0.0048 - acc: 0.9988\n",
      "Epoch 30/30\n",
      "33600/33600 [==============================] - 1s 20us/step - loss: 0.0043 - acc: 0.9989\n"
     ]
    },
    {
     "data": {
      "text/plain": [
       "<keras.callbacks.History at 0x7fd960ca6eb8>"
      ]
     },
     "execution_count": 9,
     "metadata": {},
     "output_type": "execute_result"
    }
   ],
   "source": [
    "model.fit(X_train, y_train, epochs=30, batch_size=100)"
   ]
  },
  {
   "cell_type": "code",
   "execution_count": 10,
   "metadata": {},
   "outputs": [
    {
     "name": "stdout",
     "output_type": "stream",
     "text": [
      "8400/8400 [==============================] - 0s 25us/step\n"
     ]
    },
    {
     "data": {
      "text/plain": [
       "[0.075624419894346442, 0.98392857142857137]"
      ]
     },
     "execution_count": 10,
     "metadata": {},
     "output_type": "execute_result"
    }
   ],
   "source": [
    "model.evaluate(X_test, y_test)"
   ]
  },
  {
   "cell_type": "code",
   "execution_count": 11,
   "metadata": {},
   "outputs": [],
   "source": [
    "X = convert(test)\n",
    "X = np.array([x[indices] for x in X])"
   ]
  },
  {
   "cell_type": "code",
   "execution_count": 12,
   "metadata": {},
   "outputs": [],
   "source": [
    "preds = model.predict_classes(X)\n",
    "df = pd.DataFrame([(ind+1, cl) for ind, cl in enumerate(preds)], columns=['ImageId', 'Label'])"
   ]
  },
  {
   "cell_type": "code",
   "execution_count": 13,
   "metadata": {},
   "outputs": [],
   "source": [
    "df.to_csv('result.csv', index=False)"
   ]
  },
  {
   "cell_type": "code",
   "execution_count": 14,
   "metadata": {},
   "outputs": [
    {
     "name": "stdout",
     "output_type": "stream",
     "text": [
      "ImageId,Label\r\n",
      "1,2\r\n",
      "2,0\r\n",
      "3,9\r\n",
      "4,0\r\n",
      "5,3\r\n",
      "6,7\r\n",
      "7,0\r\n",
      "8,3\r\n",
      "9,0\r\n"
     ]
    }
   ],
   "source": [
    "! head result.csv"
   ]
  }
 ],
 "metadata": {
  "kernelspec": {
   "display_name": "Python 3",
   "language": "python",
   "name": "python3"
  },
  "language_info": {
   "codemirror_mode": {
    "name": "ipython",
    "version": 3
   },
   "file_extension": ".py",
   "mimetype": "text/x-python",
   "name": "python",
   "nbconvert_exporter": "python",
   "pygments_lexer": "ipython3",
   "version": "3.5.2"
  }
 },
 "nbformat": 4,
 "nbformat_minor": 2
}
